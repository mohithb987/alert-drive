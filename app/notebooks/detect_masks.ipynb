{
 "cells": [
  {
   "cell_type": "code",
   "execution_count": 1,
   "metadata": {},
   "outputs": [
    {
     "name": "stdout",
     "output_type": "stream",
     "text": [
      "loading Roboflow workspace...\n",
      "loading Roboflow project...\n",
      "Dependency ultralytics==8.0.196 is required but found version=8.2.64, to fix: `pip install ultralytics==8.0.196`\n"
     ]
    },
    {
     "name": "stderr",
     "output_type": "stream",
     "text": [
      "Downloading Dataset Version Zip in Face-Mask-detection-1 to yolov8:: 100%|██████████| 38482/38482 [00:00<00:00, 41190.21it/s]"
     ]
    },
    {
     "name": "stdout",
     "output_type": "stream",
     "text": [
      "\n"
     ]
    },
    {
     "name": "stderr",
     "output_type": "stream",
     "text": [
      "\n",
      "Extracting Dataset Version Zip to Face-Mask-detection-1 in yolov8:: 100%|██████████| 912/912 [00:00<00:00, 6667.26it/s]\n"
     ]
    }
   ],
   "source": [
    "from roboflow import Roboflow\n",
    "rf = Roboflow(api_key=\"37BIKDye1ehuukJ9oobT\")\n",
    "project = rf.workspace(\"workspace1-k6w9v\").project(\"face-mask-detection-0kugw\")\n",
    "version = project.version(1)\n",
    "dataset = version.download(\"yolov8\")"
   ]
  },
  {
   "cell_type": "code",
   "execution_count": 2,
   "metadata": {},
   "outputs": [
    {
     "name": "stdout",
     "output_type": "stream",
     "text": [
      "Current working directory: /Users/mohith/VSCodeProjects/CSE 573/PROJECT/alert_drive/app/notebooks\n"
     ]
    }
   ],
   "source": [
    "import os\n",
    "\n",
    "current_directory = os.getcwd()\n",
    "\n",
    "print(\"Current working directory:\", current_directory)"
   ]
  },
  {
   "cell_type": "code",
   "execution_count": 3,
   "metadata": {},
   "outputs": [
    {
     "name": "stdout",
     "output_type": "stream",
     "text": [
      "New https://pypi.org/project/ultralytics/8.2.69 available 😃 Update with 'pip install -U ultralytics'\n",
      "Ultralytics YOLOv8.2.64 🚀 Python-3.10.14 torch-2.3.1 CPU (Apple M1)\n",
      "\u001b[34m\u001b[1mengine/trainer: \u001b[0mtask=detect, mode=train, model=yolov8n.pt, data=/Users/mohith/VSCodeProjects/CSE 573/PROJECT/alert_drive/app/notebooks/masks.yaml, epochs=30, time=None, patience=100, batch=16, imgsz=640, save=True, save_period=-1, cache=False, device=None, workers=8, project=None, name=train8, exist_ok=False, pretrained=True, optimizer=auto, verbose=True, seed=0, deterministic=True, single_cls=False, rect=False, cos_lr=False, close_mosaic=10, resume=False, amp=True, fraction=1.0, profile=False, freeze=None, multi_scale=False, overlap_mask=True, mask_ratio=4, dropout=0.0, val=True, split=val, save_json=False, save_hybrid=False, conf=None, iou=0.7, max_det=300, half=False, dnn=False, plots=True, source=None, vid_stride=1, stream_buffer=False, visualize=False, augment=False, agnostic_nms=False, classes=None, retina_masks=False, embed=None, show=False, save_frames=False, save_txt=False, save_conf=False, save_crop=False, show_labels=True, show_conf=True, show_boxes=True, line_width=None, format=torchscript, keras=False, optimize=False, int8=False, dynamic=False, simplify=False, opset=None, workspace=4, nms=False, lr0=0.01, lrf=0.01, momentum=0.937, weight_decay=0.0005, warmup_epochs=3.0, warmup_momentum=0.8, warmup_bias_lr=0.1, box=7.5, cls=0.5, dfl=1.5, pose=12.0, kobj=1.0, label_smoothing=0.0, nbs=64, hsv_h=0.015, hsv_s=0.7, hsv_v=0.4, degrees=0.0, translate=0.1, scale=0.5, shear=0.0, perspective=0.0, flipud=0.0, fliplr=0.5, bgr=0.0, mosaic=1.0, mixup=0.0, copy_paste=0.0, auto_augment=randaugment, erasing=0.4, crop_fraction=1.0, cfg=None, tracker=botsort.yaml, save_dir=/Users/mohith/VSCodeProjects/CSE 573/PROJECT/alert_drive/runs/detect/train8\n",
      "Overriding model.yaml nc=80 with nc=1\n",
      "\n",
      "                   from  n    params  module                                       arguments                     \n",
      "  0                  -1  1       464  ultralytics.nn.modules.conv.Conv             [3, 16, 3, 2]                 \n",
      "  1                  -1  1      4672  ultralytics.nn.modules.conv.Conv             [16, 32, 3, 2]                \n",
      "  2                  -1  1      7360  ultralytics.nn.modules.block.C2f             [32, 32, 1, True]             \n",
      "  3                  -1  1     18560  ultralytics.nn.modules.conv.Conv             [32, 64, 3, 2]                \n",
      "  4                  -1  2     49664  ultralytics.nn.modules.block.C2f             [64, 64, 2, True]             \n",
      "  5                  -1  1     73984  ultralytics.nn.modules.conv.Conv             [64, 128, 3, 2]               \n",
      "  6                  -1  2    197632  ultralytics.nn.modules.block.C2f             [128, 128, 2, True]           \n",
      "  7                  -1  1    295424  ultralytics.nn.modules.conv.Conv             [128, 256, 3, 2]              \n",
      "  8                  -1  1    460288  ultralytics.nn.modules.block.C2f             [256, 256, 1, True]           \n",
      "  9                  -1  1    164608  ultralytics.nn.modules.block.SPPF            [256, 256, 5]                 \n",
      " 10                  -1  1         0  torch.nn.modules.upsampling.Upsample         [None, 2, 'nearest']          \n",
      " 11             [-1, 6]  1         0  ultralytics.nn.modules.conv.Concat           [1]                           \n",
      " 12                  -1  1    148224  ultralytics.nn.modules.block.C2f             [384, 128, 1]                 \n",
      " 13                  -1  1         0  torch.nn.modules.upsampling.Upsample         [None, 2, 'nearest']          \n",
      " 14             [-1, 4]  1         0  ultralytics.nn.modules.conv.Concat           [1]                           \n",
      " 15                  -1  1     37248  ultralytics.nn.modules.block.C2f             [192, 64, 1]                  \n",
      " 16                  -1  1     36992  ultralytics.nn.modules.conv.Conv             [64, 64, 3, 2]                \n",
      " 17            [-1, 12]  1         0  ultralytics.nn.modules.conv.Concat           [1]                           \n",
      " 18                  -1  1    123648  ultralytics.nn.modules.block.C2f             [192, 128, 1]                 \n",
      " 19                  -1  1    147712  ultralytics.nn.modules.conv.Conv             [128, 128, 3, 2]              \n",
      " 20             [-1, 9]  1         0  ultralytics.nn.modules.conv.Concat           [1]                           \n",
      " 21                  -1  1    493056  ultralytics.nn.modules.block.C2f             [384, 256, 1]                 \n",
      " 22        [15, 18, 21]  1    751507  ultralytics.nn.modules.head.Detect           [1, [64, 128, 256]]           \n",
      "Model summary: 225 layers, 3,011,043 parameters, 3,011,027 gradients, 8.2 GFLOPs\n",
      "\n",
      "Transferred 319/355 items from pretrained weights\n",
      "\u001b[34m\u001b[1mTensorBoard: \u001b[0mStart with 'tensorboard --logdir /Users/mohith/VSCodeProjects/CSE 573/PROJECT/alert_drive/runs/detect/train8', view at http://localhost:6006/\n",
      "Freezing layer 'model.22.dfl.conv.weight'\n"
     ]
    },
    {
     "name": "stderr",
     "output_type": "stream",
     "text": [
      "\u001b[34m\u001b[1mtrain: \u001b[0mScanning /Users/mohith/VSCodeProjects/CSE 573/PROJECT/alert_drive/app/notebooks/Face-Mask-detection-1/train/labels... 315 images, 14 backgrounds, 0 corrupt: 100%|██████████| 315/315 [00:00<00:00, 1426.37it/s]"
     ]
    },
    {
     "name": "stdout",
     "output_type": "stream",
     "text": [
      "\u001b[34m\u001b[1mtrain: \u001b[0mNew cache created: /Users/mohith/VSCodeProjects/CSE 573/PROJECT/alert_drive/app/notebooks/Face-Mask-detection-1/train/labels.cache\n"
     ]
    },
    {
     "name": "stderr",
     "output_type": "stream",
     "text": [
      "\n",
      "\u001b[34m\u001b[1mval: \u001b[0mScanning /Users/mohith/VSCodeProjects/CSE 573/PROJECT/alert_drive/app/notebooks/Face-Mask-detection-1/valid/labels... 68 images, 1 backgrounds, 0 corrupt: 100%|██████████| 68/68 [00:00<00:00, 3366.18it/s]"
     ]
    },
    {
     "name": "stdout",
     "output_type": "stream",
     "text": [
      "\u001b[34m\u001b[1mval: \u001b[0mNew cache created: /Users/mohith/VSCodeProjects/CSE 573/PROJECT/alert_drive/app/notebooks/Face-Mask-detection-1/valid/labels.cache\n"
     ]
    },
    {
     "name": "stderr",
     "output_type": "stream",
     "text": [
      "\n"
     ]
    },
    {
     "name": "stdout",
     "output_type": "stream",
     "text": [
      "Plotting labels to /Users/mohith/VSCodeProjects/CSE 573/PROJECT/alert_drive/runs/detect/train8/labels.jpg... \n",
      "\u001b[34m\u001b[1moptimizer:\u001b[0m 'optimizer=auto' found, ignoring 'lr0=0.01' and 'momentum=0.937' and determining best 'optimizer', 'lr0' and 'momentum' automatically... \n",
      "\u001b[34m\u001b[1moptimizer:\u001b[0m AdamW(lr=0.002, momentum=0.9) with parameter groups 57 weight(decay=0.0), 64 weight(decay=0.0005), 63 bias(decay=0.0)\n",
      "\u001b[34m\u001b[1mTensorBoard: \u001b[0mmodel graph visualization added ✅\n",
      "Image sizes 640 train, 640 val\n",
      "Using 0 dataloader workers\n",
      "Logging results to \u001b[1m/Users/mohith/VSCodeProjects/CSE 573/PROJECT/alert_drive/runs/detect/train8\u001b[0m\n",
      "Starting training for 30 epochs...\n",
      "\n",
      "      Epoch    GPU_mem   box_loss   cls_loss   dfl_loss  Instances       Size\n"
     ]
    },
    {
     "name": "stderr",
     "output_type": "stream",
     "text": [
      "       1/30         0G     0.8859      2.254      1.211         22        640: 100%|██████████| 20/20 [02:25<00:00,  7.29s/it]\n",
      "                 Class     Images  Instances      Box(P          R      mAP50  mAP50-95): 100%|██████████| 3/3 [00:11<00:00,  3.90s/it]"
     ]
    },
    {
     "name": "stdout",
     "output_type": "stream",
     "text": [
      "                   all         68         67    0.00751      0.975      0.943      0.716\n"
     ]
    },
    {
     "name": "stderr",
     "output_type": "stream",
     "text": [
      "\n"
     ]
    },
    {
     "name": "stdout",
     "output_type": "stream",
     "text": [
      "\n",
      "      Epoch    GPU_mem   box_loss   cls_loss   dfl_loss  Instances       Size\n"
     ]
    },
    {
     "name": "stderr",
     "output_type": "stream",
     "text": [
      "       2/30         0G     0.8574      1.462      1.141         13        640: 100%|██████████| 20/20 [02:35<00:00,  7.75s/it]\n",
      "                 Class     Images  Instances      Box(P          R      mAP50  mAP50-95): 100%|██████████| 3/3 [00:11<00:00,  3.89s/it]"
     ]
    },
    {
     "name": "stdout",
     "output_type": "stream",
     "text": [
      "                   all         68         67          1      0.193      0.642      0.403\n"
     ]
    },
    {
     "name": "stderr",
     "output_type": "stream",
     "text": [
      "\n"
     ]
    },
    {
     "name": "stdout",
     "output_type": "stream",
     "text": [
      "\n",
      "      Epoch    GPU_mem   box_loss   cls_loss   dfl_loss  Instances       Size\n"
     ]
    },
    {
     "name": "stderr",
     "output_type": "stream",
     "text": [
      "       3/30         0G     0.9065       1.39       1.18         26        640: 100%|██████████| 20/20 [02:38<00:00,  7.94s/it]\n",
      "                 Class     Images  Instances      Box(P          R      mAP50  mAP50-95): 100%|██████████| 3/3 [00:11<00:00,  3.96s/it]"
     ]
    },
    {
     "name": "stdout",
     "output_type": "stream",
     "text": [
      "                   all         68         67      0.673      0.554      0.644       0.41\n"
     ]
    },
    {
     "name": "stderr",
     "output_type": "stream",
     "text": [
      "\n"
     ]
    },
    {
     "name": "stdout",
     "output_type": "stream",
     "text": [
      "\n",
      "      Epoch    GPU_mem   box_loss   cls_loss   dfl_loss  Instances       Size\n"
     ]
    },
    {
     "name": "stderr",
     "output_type": "stream",
     "text": [
      "       4/30         0G     0.8722      1.291      1.135         25        640: 100%|██████████| 20/20 [02:43<00:00,  8.15s/it]\n",
      "                 Class     Images  Instances      Box(P          R      mAP50  mAP50-95): 100%|██████████| 3/3 [00:12<00:00,  4.18s/it]"
     ]
    },
    {
     "name": "stdout",
     "output_type": "stream",
     "text": [
      "                   all         68         67      0.768      0.433      0.567      0.287\n"
     ]
    },
    {
     "name": "stderr",
     "output_type": "stream",
     "text": [
      "\n"
     ]
    },
    {
     "name": "stdout",
     "output_type": "stream",
     "text": [
      "\n",
      "      Epoch    GPU_mem   box_loss   cls_loss   dfl_loss  Instances       Size\n"
     ]
    },
    {
     "name": "stderr",
     "output_type": "stream",
     "text": [
      "       5/30         0G     0.8634      1.223      1.154         22        640: 100%|██████████| 20/20 [02:41<00:00,  8.07s/it]\n",
      "                 Class     Images  Instances      Box(P          R      mAP50  mAP50-95): 100%|██████████| 3/3 [00:12<00:00,  4.03s/it]"
     ]
    },
    {
     "name": "stdout",
     "output_type": "stream",
     "text": [
      "                   all         68         67      0.776       0.62      0.751      0.554\n"
     ]
    },
    {
     "name": "stderr",
     "output_type": "stream",
     "text": [
      "\n"
     ]
    },
    {
     "name": "stdout",
     "output_type": "stream",
     "text": [
      "\n",
      "      Epoch    GPU_mem   box_loss   cls_loss   dfl_loss  Instances       Size\n"
     ]
    },
    {
     "name": "stderr",
     "output_type": "stream",
     "text": [
      "       6/30         0G     0.8713      1.105      1.141         20        640: 100%|██████████| 20/20 [02:42<00:00,  8.11s/it]\n",
      "                 Class     Images  Instances      Box(P          R      mAP50  mAP50-95): 100%|██████████| 3/3 [00:12<00:00,  4.10s/it]"
     ]
    },
    {
     "name": "stdout",
     "output_type": "stream",
     "text": [
      "                   all         68         67      0.791      0.508      0.665      0.504\n"
     ]
    },
    {
     "name": "stderr",
     "output_type": "stream",
     "text": [
      "\n"
     ]
    },
    {
     "name": "stdout",
     "output_type": "stream",
     "text": [
      "\n",
      "      Epoch    GPU_mem   box_loss   cls_loss   dfl_loss  Instances       Size\n"
     ]
    },
    {
     "name": "stderr",
     "output_type": "stream",
     "text": [
      "       7/30         0G     0.9039      1.096      1.147         28        640: 100%|██████████| 20/20 [02:40<00:00,  8.03s/it]\n",
      "                 Class     Images  Instances      Box(P          R      mAP50  mAP50-95): 100%|██████████| 3/3 [00:12<00:00,  4.07s/it]"
     ]
    },
    {
     "name": "stdout",
     "output_type": "stream",
     "text": [
      "                   all         68         67      0.802      0.845      0.844       0.63\n"
     ]
    },
    {
     "name": "stderr",
     "output_type": "stream",
     "text": [
      "\n"
     ]
    },
    {
     "name": "stdout",
     "output_type": "stream",
     "text": [
      "\n",
      "      Epoch    GPU_mem   box_loss   cls_loss   dfl_loss  Instances       Size\n"
     ]
    },
    {
     "name": "stderr",
     "output_type": "stream",
     "text": [
      "       8/30         0G      0.809     0.9899      1.107         33        640: 100%|██████████| 20/20 [02:43<00:00,  8.16s/it]\n",
      "                 Class     Images  Instances      Box(P          R      mAP50  mAP50-95): 100%|██████████| 3/3 [00:11<00:00,  4.00s/it]"
     ]
    },
    {
     "name": "stdout",
     "output_type": "stream",
     "text": [
      "                   all         68         67      0.884      0.925      0.949      0.712\n"
     ]
    },
    {
     "name": "stderr",
     "output_type": "stream",
     "text": [
      "\n"
     ]
    },
    {
     "name": "stdout",
     "output_type": "stream",
     "text": [
      "\n",
      "      Epoch    GPU_mem   box_loss   cls_loss   dfl_loss  Instances       Size\n"
     ]
    },
    {
     "name": "stderr",
     "output_type": "stream",
     "text": [
      "       9/30         0G     0.8162     0.8785      1.078         22        640: 100%|██████████| 20/20 [02:44<00:00,  8.21s/it]\n",
      "                 Class     Images  Instances      Box(P          R      mAP50  mAP50-95): 100%|██████████| 3/3 [00:12<00:00,  4.05s/it]"
     ]
    },
    {
     "name": "stdout",
     "output_type": "stream",
     "text": [
      "                   all         68         67      0.908      0.882      0.956      0.753\n"
     ]
    },
    {
     "name": "stderr",
     "output_type": "stream",
     "text": [
      "\n"
     ]
    },
    {
     "name": "stdout",
     "output_type": "stream",
     "text": [
      "\n",
      "      Epoch    GPU_mem   box_loss   cls_loss   dfl_loss  Instances       Size\n"
     ]
    },
    {
     "name": "stderr",
     "output_type": "stream",
     "text": [
      "      10/30         0G     0.7753      0.897      1.086         17        640: 100%|██████████| 20/20 [02:46<00:00,  8.31s/it]\n",
      "                 Class     Images  Instances      Box(P          R      mAP50  mAP50-95): 100%|██████████| 3/3 [00:12<00:00,  4.11s/it]"
     ]
    },
    {
     "name": "stdout",
     "output_type": "stream",
     "text": [
      "                   all         68         67      0.924      0.905      0.958      0.755\n"
     ]
    },
    {
     "name": "stderr",
     "output_type": "stream",
     "text": [
      "\n"
     ]
    },
    {
     "name": "stdout",
     "output_type": "stream",
     "text": [
      "\n",
      "      Epoch    GPU_mem   box_loss   cls_loss   dfl_loss  Instances       Size\n"
     ]
    },
    {
     "name": "stderr",
     "output_type": "stream",
     "text": [
      "      11/30         0G     0.7783     0.7987       1.06         23        640: 100%|██████████| 20/20 [02:45<00:00,  8.28s/it]\n",
      "                 Class     Images  Instances      Box(P          R      mAP50  mAP50-95): 100%|██████████| 3/3 [00:12<00:00,  4.02s/it]"
     ]
    },
    {
     "name": "stdout",
     "output_type": "stream",
     "text": [
      "                   all         68         67      0.866      0.968      0.962      0.775\n"
     ]
    },
    {
     "name": "stderr",
     "output_type": "stream",
     "text": [
      "\n"
     ]
    },
    {
     "name": "stdout",
     "output_type": "stream",
     "text": [
      "\n",
      "      Epoch    GPU_mem   box_loss   cls_loss   dfl_loss  Instances       Size\n"
     ]
    },
    {
     "name": "stderr",
     "output_type": "stream",
     "text": [
      "      12/30         0G     0.7498     0.7815       1.06         25        640: 100%|██████████| 20/20 [02:44<00:00,  8.21s/it]\n",
      "                 Class     Images  Instances      Box(P          R      mAP50  mAP50-95): 100%|██████████| 3/3 [00:12<00:00,  4.08s/it]"
     ]
    },
    {
     "name": "stdout",
     "output_type": "stream",
     "text": [
      "                   all         68         67      0.927      0.942      0.969      0.818\n"
     ]
    },
    {
     "name": "stderr",
     "output_type": "stream",
     "text": [
      "\n"
     ]
    },
    {
     "name": "stdout",
     "output_type": "stream",
     "text": [
      "\n",
      "      Epoch    GPU_mem   box_loss   cls_loss   dfl_loss  Instances       Size\n"
     ]
    },
    {
     "name": "stderr",
     "output_type": "stream",
     "text": [
      "      13/30         0G     0.7187     0.7595       1.06         20        640: 100%|██████████| 20/20 [02:41<00:00,  8.08s/it]\n",
      "                 Class     Images  Instances      Box(P          R      mAP50  mAP50-95): 100%|██████████| 3/3 [00:11<00:00,  3.97s/it]"
     ]
    },
    {
     "name": "stdout",
     "output_type": "stream",
     "text": [
      "                   all         68         67      0.918      0.896      0.943      0.781\n"
     ]
    },
    {
     "name": "stderr",
     "output_type": "stream",
     "text": [
      "\n"
     ]
    },
    {
     "name": "stdout",
     "output_type": "stream",
     "text": [
      "\n",
      "      Epoch    GPU_mem   box_loss   cls_loss   dfl_loss  Instances       Size\n"
     ]
    },
    {
     "name": "stderr",
     "output_type": "stream",
     "text": [
      "      14/30         0G     0.7195     0.7147       1.05         23        640: 100%|██████████| 20/20 [02:45<00:00,  8.26s/it]\n",
      "                 Class     Images  Instances      Box(P          R      mAP50  mAP50-95): 100%|██████████| 3/3 [00:12<00:00,  4.06s/it]"
     ]
    },
    {
     "name": "stdout",
     "output_type": "stream",
     "text": [
      "                   all         68         67      0.969      0.924      0.976      0.783\n"
     ]
    },
    {
     "name": "stderr",
     "output_type": "stream",
     "text": [
      "\n"
     ]
    },
    {
     "name": "stdout",
     "output_type": "stream",
     "text": [
      "\n",
      "      Epoch    GPU_mem   box_loss   cls_loss   dfl_loss  Instances       Size\n"
     ]
    },
    {
     "name": "stderr",
     "output_type": "stream",
     "text": [
      "      15/30         0G     0.6928     0.6804      1.038         13        640: 100%|██████████| 20/20 [02:45<00:00,  8.28s/it]\n",
      "                 Class     Images  Instances      Box(P          R      mAP50  mAP50-95): 100%|██████████| 3/3 [00:12<00:00,  4.05s/it]"
     ]
    },
    {
     "name": "stdout",
     "output_type": "stream",
     "text": [
      "                   all         68         67      0.983       0.97       0.98      0.822\n"
     ]
    },
    {
     "name": "stderr",
     "output_type": "stream",
     "text": [
      "\n"
     ]
    },
    {
     "name": "stdout",
     "output_type": "stream",
     "text": [
      "\n",
      "      Epoch    GPU_mem   box_loss   cls_loss   dfl_loss  Instances       Size\n"
     ]
    },
    {
     "name": "stderr",
     "output_type": "stream",
     "text": [
      "      16/30         0G     0.6915     0.6606      1.028         20        640: 100%|██████████| 20/20 [02:45<00:00,  8.26s/it]\n",
      "                 Class     Images  Instances      Box(P          R      mAP50  mAP50-95): 100%|██████████| 3/3 [00:11<00:00,  3.94s/it]"
     ]
    },
    {
     "name": "stdout",
     "output_type": "stream",
     "text": [
      "                   all         68         67      0.935      0.955      0.982      0.827\n"
     ]
    },
    {
     "name": "stderr",
     "output_type": "stream",
     "text": [
      "\n"
     ]
    },
    {
     "name": "stdout",
     "output_type": "stream",
     "text": [
      "\n",
      "      Epoch    GPU_mem   box_loss   cls_loss   dfl_loss  Instances       Size\n"
     ]
    },
    {
     "name": "stderr",
     "output_type": "stream",
     "text": [
      "      17/30         0G     0.6352     0.6028      1.004         30        640: 100%|██████████| 20/20 [02:44<00:00,  8.20s/it]\n",
      "                 Class     Images  Instances      Box(P          R      mAP50  mAP50-95): 100%|██████████| 3/3 [00:11<00:00,  3.95s/it]"
     ]
    },
    {
     "name": "stdout",
     "output_type": "stream",
     "text": [
      "                   all         68         67      0.946      0.955      0.981      0.841\n"
     ]
    },
    {
     "name": "stderr",
     "output_type": "stream",
     "text": [
      "\n"
     ]
    },
    {
     "name": "stdout",
     "output_type": "stream",
     "text": [
      "\n",
      "      Epoch    GPU_mem   box_loss   cls_loss   dfl_loss  Instances       Size\n"
     ]
    },
    {
     "name": "stderr",
     "output_type": "stream",
     "text": [
      "      18/30         0G     0.6639     0.6099      1.005         22        640: 100%|██████████| 20/20 [02:45<00:00,  8.25s/it]\n",
      "                 Class     Images  Instances      Box(P          R      mAP50  mAP50-95): 100%|██████████| 3/3 [00:12<00:00,  4.01s/it]"
     ]
    },
    {
     "name": "stdout",
     "output_type": "stream",
     "text": [
      "                   all         68         67      0.944       0.91      0.975      0.811\n"
     ]
    },
    {
     "name": "stderr",
     "output_type": "stream",
     "text": [
      "\n"
     ]
    },
    {
     "name": "stdout",
     "output_type": "stream",
     "text": [
      "\n",
      "      Epoch    GPU_mem   box_loss   cls_loss   dfl_loss  Instances       Size\n"
     ]
    },
    {
     "name": "stderr",
     "output_type": "stream",
     "text": [
      "      19/30         0G     0.6726     0.6281       1.04         19        640: 100%|██████████| 20/20 [02:46<00:00,  8.32s/it]\n",
      "                 Class     Images  Instances      Box(P          R      mAP50  mAP50-95): 100%|██████████| 3/3 [00:12<00:00,  4.09s/it]"
     ]
    },
    {
     "name": "stdout",
     "output_type": "stream",
     "text": [
      "                   all         68         67      0.926       0.97      0.976      0.832\n"
     ]
    },
    {
     "name": "stderr",
     "output_type": "stream",
     "text": [
      "\n"
     ]
    },
    {
     "name": "stdout",
     "output_type": "stream",
     "text": [
      "\n",
      "      Epoch    GPU_mem   box_loss   cls_loss   dfl_loss  Instances       Size\n"
     ]
    },
    {
     "name": "stderr",
     "output_type": "stream",
     "text": [
      "      20/30         0G     0.6275     0.5884          1         28        640: 100%|██████████| 20/20 [02:46<00:00,  8.32s/it]\n",
      "                 Class     Images  Instances      Box(P          R      mAP50  mAP50-95): 100%|██████████| 3/3 [00:12<00:00,  4.03s/it]"
     ]
    },
    {
     "name": "stdout",
     "output_type": "stream",
     "text": [
      "                   all         68         67      0.935       0.97      0.982      0.862\n"
     ]
    },
    {
     "name": "stderr",
     "output_type": "stream",
     "text": [
      "\n"
     ]
    },
    {
     "name": "stdout",
     "output_type": "stream",
     "text": [
      "Closing dataloader mosaic\n",
      "\n",
      "      Epoch    GPU_mem   box_loss   cls_loss   dfl_loss  Instances       Size\n"
     ]
    },
    {
     "name": "stderr",
     "output_type": "stream",
     "text": [
      "      21/30         0G     0.4828     0.5243     0.9153         11        640: 100%|██████████| 20/20 [02:46<00:00,  8.35s/it]\n",
      "                 Class     Images  Instances      Box(P          R      mAP50  mAP50-95): 100%|██████████| 3/3 [00:12<00:00,  4.01s/it]"
     ]
    },
    {
     "name": "stdout",
     "output_type": "stream",
     "text": [
      "                   all         68         67      0.941       0.95      0.975      0.808\n"
     ]
    },
    {
     "name": "stderr",
     "output_type": "stream",
     "text": [
      "\n"
     ]
    },
    {
     "name": "stdout",
     "output_type": "stream",
     "text": [
      "\n",
      "      Epoch    GPU_mem   box_loss   cls_loss   dfl_loss  Instances       Size\n"
     ]
    },
    {
     "name": "stderr",
     "output_type": "stream",
     "text": [
      "      22/30         0G     0.4815     0.5011     0.9289         10        640: 100%|██████████| 20/20 [02:46<00:00,  8.32s/it]\n",
      "                 Class     Images  Instances      Box(P          R      mAP50  mAP50-95): 100%|██████████| 3/3 [00:12<00:00,  4.04s/it]"
     ]
    },
    {
     "name": "stdout",
     "output_type": "stream",
     "text": [
      "                   all         68         67      0.928      0.967      0.969      0.832\n"
     ]
    },
    {
     "name": "stderr",
     "output_type": "stream",
     "text": [
      "\n"
     ]
    },
    {
     "name": "stdout",
     "output_type": "stream",
     "text": [
      "\n",
      "      Epoch    GPU_mem   box_loss   cls_loss   dfl_loss  Instances       Size\n"
     ]
    },
    {
     "name": "stderr",
     "output_type": "stream",
     "text": [
      "      23/30         0G     0.4445     0.4779     0.8692         12        640: 100%|██████████| 20/20 [02:45<00:00,  8.29s/it]\n",
      "                 Class     Images  Instances      Box(P          R      mAP50  mAP50-95): 100%|██████████| 3/3 [00:12<00:00,  4.05s/it]"
     ]
    },
    {
     "name": "stdout",
     "output_type": "stream",
     "text": [
      "                   all         68         67      0.973       0.94      0.982      0.859\n"
     ]
    },
    {
     "name": "stderr",
     "output_type": "stream",
     "text": [
      "\n"
     ]
    },
    {
     "name": "stdout",
     "output_type": "stream",
     "text": [
      "\n",
      "      Epoch    GPU_mem   box_loss   cls_loss   dfl_loss  Instances       Size\n"
     ]
    },
    {
     "name": "stderr",
     "output_type": "stream",
     "text": [
      "      24/30         0G     0.4266      0.456      0.884         11        640: 100%|██████████| 20/20 [02:46<00:00,  8.31s/it]\n",
      "                 Class     Images  Instances      Box(P          R      mAP50  mAP50-95): 100%|██████████| 3/3 [00:12<00:00,  4.07s/it]"
     ]
    },
    {
     "name": "stdout",
     "output_type": "stream",
     "text": [
      "                   all         68         67      0.968      0.985      0.989      0.865\n"
     ]
    },
    {
     "name": "stderr",
     "output_type": "stream",
     "text": [
      "\n"
     ]
    },
    {
     "name": "stdout",
     "output_type": "stream",
     "text": [
      "\n",
      "      Epoch    GPU_mem   box_loss   cls_loss   dfl_loss  Instances       Size\n"
     ]
    },
    {
     "name": "stderr",
     "output_type": "stream",
     "text": [
      "      25/30         0G     0.4193     0.4436     0.8686         11        640: 100%|██████████| 20/20 [02:47<00:00,  8.37s/it]\n",
      "                 Class     Images  Instances      Box(P          R      mAP50  mAP50-95): 100%|██████████| 3/3 [00:12<00:00,  4.10s/it]"
     ]
    },
    {
     "name": "stdout",
     "output_type": "stream",
     "text": [
      "                   all         68         67      0.943       0.98      0.987       0.88\n"
     ]
    },
    {
     "name": "stderr",
     "output_type": "stream",
     "text": [
      "\n"
     ]
    },
    {
     "name": "stdout",
     "output_type": "stream",
     "text": [
      "\n",
      "      Epoch    GPU_mem   box_loss   cls_loss   dfl_loss  Instances       Size\n"
     ]
    },
    {
     "name": "stderr",
     "output_type": "stream",
     "text": [
      "      26/30         0G      0.402     0.4116     0.8559         11        640: 100%|██████████| 20/20 [02:47<00:00,  8.39s/it]\n",
      "                 Class     Images  Instances      Box(P          R      mAP50  mAP50-95): 100%|██████████| 3/3 [00:12<00:00,  4.02s/it]"
     ]
    },
    {
     "name": "stdout",
     "output_type": "stream",
     "text": [
      "                   all         68         67      0.972       0.94      0.971      0.883\n"
     ]
    },
    {
     "name": "stderr",
     "output_type": "stream",
     "text": [
      "\n"
     ]
    },
    {
     "name": "stdout",
     "output_type": "stream",
     "text": [
      "\n",
      "      Epoch    GPU_mem   box_loss   cls_loss   dfl_loss  Instances       Size\n"
     ]
    },
    {
     "name": "stderr",
     "output_type": "stream",
     "text": [
      "      27/30         0G     0.3899     0.3988     0.8629         11        640: 100%|██████████| 20/20 [02:47<00:00,  8.37s/it]\n",
      "                 Class     Images  Instances      Box(P          R      mAP50  mAP50-95): 100%|██████████| 3/3 [00:12<00:00,  4.16s/it]"
     ]
    },
    {
     "name": "stdout",
     "output_type": "stream",
     "text": [
      "                   all         68         67      0.969      0.955      0.974      0.882\n"
     ]
    },
    {
     "name": "stderr",
     "output_type": "stream",
     "text": [
      "\n"
     ]
    },
    {
     "name": "stdout",
     "output_type": "stream",
     "text": [
      "\n",
      "      Epoch    GPU_mem   box_loss   cls_loss   dfl_loss  Instances       Size\n"
     ]
    },
    {
     "name": "stderr",
     "output_type": "stream",
     "text": [
      "      28/30         0G     0.3835     0.3952     0.8674         10        640: 100%|██████████| 20/20 [02:46<00:00,  8.35s/it]\n",
      "                 Class     Images  Instances      Box(P          R      mAP50  mAP50-95): 100%|██████████| 3/3 [00:12<00:00,  4.07s/it]"
     ]
    },
    {
     "name": "stdout",
     "output_type": "stream",
     "text": [
      "                   all         68         67      0.985      0.952      0.976      0.886\n"
     ]
    },
    {
     "name": "stderr",
     "output_type": "stream",
     "text": [
      "\n"
     ]
    },
    {
     "name": "stdout",
     "output_type": "stream",
     "text": [
      "\n",
      "      Epoch    GPU_mem   box_loss   cls_loss   dfl_loss  Instances       Size\n"
     ]
    },
    {
     "name": "stderr",
     "output_type": "stream",
     "text": [
      "      29/30         0G     0.3443     0.3606     0.8475         11        640: 100%|██████████| 20/20 [02:48<00:00,  8.42s/it]\n",
      "                 Class     Images  Instances      Box(P          R      mAP50  mAP50-95): 100%|██████████| 3/3 [00:12<00:00,  4.07s/it]"
     ]
    },
    {
     "name": "stdout",
     "output_type": "stream",
     "text": [
      "                   all         68         67      0.985      0.955      0.981      0.884\n"
     ]
    },
    {
     "name": "stderr",
     "output_type": "stream",
     "text": [
      "\n"
     ]
    },
    {
     "name": "stdout",
     "output_type": "stream",
     "text": [
      "\n",
      "      Epoch    GPU_mem   box_loss   cls_loss   dfl_loss  Instances       Size\n"
     ]
    },
    {
     "name": "stderr",
     "output_type": "stream",
     "text": [
      "      30/30         0G     0.3404     0.3582     0.8478         12        640: 100%|██████████| 20/20 [02:47<00:00,  8.40s/it]\n",
      "                 Class     Images  Instances      Box(P          R      mAP50  mAP50-95): 100%|██████████| 3/3 [00:12<00:00,  4.06s/it]"
     ]
    },
    {
     "name": "stdout",
     "output_type": "stream",
     "text": [
      "                   all         68         67      0.985      0.954      0.981      0.893\n"
     ]
    },
    {
     "name": "stderr",
     "output_type": "stream",
     "text": [
      "\n"
     ]
    },
    {
     "name": "stdout",
     "output_type": "stream",
     "text": [
      "\n",
      "30 epochs completed in 1.472 hours.\n",
      "Optimizer stripped from /Users/mohith/VSCodeProjects/CSE 573/PROJECT/alert_drive/runs/detect/train8/weights/last.pt, 6.2MB\n",
      "Optimizer stripped from /Users/mohith/VSCodeProjects/CSE 573/PROJECT/alert_drive/runs/detect/train8/weights/best.pt, 6.2MB\n",
      "\n",
      "Validating /Users/mohith/VSCodeProjects/CSE 573/PROJECT/alert_drive/runs/detect/train8/weights/best.pt...\n",
      "Ultralytics YOLOv8.2.64 🚀 Python-3.10.14 torch-2.3.1 CPU (Apple M1)\n",
      "Model summary (fused): 168 layers, 3,005,843 parameters, 0 gradients, 8.1 GFLOPs\n"
     ]
    },
    {
     "name": "stderr",
     "output_type": "stream",
     "text": [
      "                 Class     Images  Instances      Box(P          R      mAP50  mAP50-95): 100%|██████████| 3/3 [00:11<00:00,  3.99s/it]\n"
     ]
    },
    {
     "name": "stdout",
     "output_type": "stream",
     "text": [
      "                   all         68         67      0.985      0.954      0.981      0.892\n",
      "Speed: 1.4ms preprocess, 166.6ms inference, 0.0ms loss, 0.4ms postprocess per image\n",
      "Results saved to \u001b[1m/Users/mohith/VSCodeProjects/CSE 573/PROJECT/alert_drive/runs/detect/train8\u001b[0m\n"
     ]
    }
   ],
   "source": [
    "from ultralytics import YOLO\n",
    "\n",
    "mask_model = YOLO('yolov8n.pt')\n",
    "\n",
    "results = mask_model.train(data=os.path.abspath('./masks.yaml'), epochs=30)"
   ]
  },
  {
   "cell_type": "code",
   "execution_count": 4,
   "metadata": {},
   "outputs": [
    {
     "name": "stdout",
     "output_type": "stream",
     "text": [
      "Model saved to /Users/mohith/VSCodeProjects/CSE 573/PROJECT/alert_drive/model/trained_model/yolov5_mask_model.pt\n"
     ]
    }
   ],
   "source": [
    "save_path = '/Users/mohith/VSCodeProjects/CSE 573/PROJECT/alert_drive/model/trained_model/yolov8_mask_model.pt'\n",
    "mask_model.save(save_path)\n",
    "print(f'Model saved to {save_path}')"
   ]
  },
  {
   "cell_type": "code",
   "execution_count": 5,
   "metadata": {},
   "outputs": [
    {
     "name": "stdout",
     "output_type": "stream",
     "text": [
      "Ultralytics YOLOv8.2.64 🚀 Python-3.10.14 torch-2.3.1 CPU (Apple M1)\n",
      "Model summary (fused): 168 layers, 3,005,843 parameters, 0 gradients, 8.1 GFLOPs\n"
     ]
    },
    {
     "name": "stderr",
     "output_type": "stream",
     "text": [
      "\u001b[34m\u001b[1mval: \u001b[0mScanning /Users/mohith/VSCodeProjects/CSE 573/PROJECT/alert_drive/app/notebooks/Face-Mask-detection-1/valid/labels.cache... 68 images, 1 backgrounds, 0 corrupt: 100%|██████████| 68/68 [00:00<?, ?it/s]\n",
      "                 Class     Images  Instances      Box(P          R      mAP50  mAP50-95): 100%|██████████| 5/5 [00:11<00:00,  2.36s/it]\n"
     ]
    },
    {
     "name": "stdout",
     "output_type": "stream",
     "text": [
      "                   all         68         67      0.985      0.953      0.981      0.887\n",
      "Speed: 1.4ms preprocess, 163.6ms inference, 0.0ms loss, 0.3ms postprocess per image\n",
      "Results saved to \u001b[1m/Users/mohith/VSCodeProjects/CSE 573/PROJECT/alert_drive/runs/detect/train82\u001b[0m\n"
     ]
    }
   ],
   "source": [
    "results = mask_model.val(data=os.path.abspath('./masks.yaml'))"
   ]
  },
  {
   "cell_type": "code",
   "execution_count": 6,
   "metadata": {},
   "outputs": [
    {
     "name": "stdout",
     "output_type": "stream",
     "text": [
      "ultralytics.utils.metrics.DetMetrics object with attributes:\n",
      "\n",
      "ap_class_index: array([0])\n",
      "box: ultralytics.utils.metrics.Metric object\n",
      "confusion_matrix: <ultralytics.utils.metrics.ConfusionMatrix object at 0x344d3f9d0>\n",
      "curves: ['Precision-Recall(B)', 'F1-Confidence(B)', 'Precision-Confidence(B)', 'Recall-Confidence(B)']\n",
      "curves_results: [[array([          0,    0.001001,    0.002002,    0.003003,    0.004004,    0.005005,    0.006006,    0.007007,    0.008008,    0.009009,     0.01001,    0.011011,    0.012012,    0.013013,    0.014014,    0.015015,    0.016016,    0.017017,    0.018018,    0.019019,     0.02002,    0.021021,    0.022022,    0.023023,\n",
      "          0.024024,    0.025025,    0.026026,    0.027027,    0.028028,    0.029029,     0.03003,    0.031031,    0.032032,    0.033033,    0.034034,    0.035035,    0.036036,    0.037037,    0.038038,    0.039039,     0.04004,    0.041041,    0.042042,    0.043043,    0.044044,    0.045045,    0.046046,    0.047047,\n",
      "          0.048048,    0.049049,     0.05005,    0.051051,    0.052052,    0.053053,    0.054054,    0.055055,    0.056056,    0.057057,    0.058058,    0.059059,     0.06006,    0.061061,    0.062062,    0.063063,    0.064064,    0.065065,    0.066066,    0.067067,    0.068068,    0.069069,     0.07007,    0.071071,\n",
      "          0.072072,    0.073073,    0.074074,    0.075075,    0.076076,    0.077077,    0.078078,    0.079079,     0.08008,    0.081081,    0.082082,    0.083083,    0.084084,    0.085085,    0.086086,    0.087087,    0.088088,    0.089089,     0.09009,    0.091091,    0.092092,    0.093093,    0.094094,    0.095095,\n",
      "          0.096096,    0.097097,    0.098098,    0.099099,      0.1001,      0.1011,      0.1021,      0.1031,      0.1041,     0.10511,     0.10611,     0.10711,     0.10811,     0.10911,     0.11011,     0.11111,     0.11211,     0.11311,     0.11411,     0.11512,     0.11612,     0.11712,     0.11812,     0.11912,\n",
      "           0.12012,     0.12112,     0.12212,     0.12312,     0.12412,     0.12513,     0.12613,     0.12713,     0.12813,     0.12913,     0.13013,     0.13113,     0.13213,     0.13313,     0.13413,     0.13514,     0.13614,     0.13714,     0.13814,     0.13914,     0.14014,     0.14114,     0.14214,     0.14314,\n",
      "           0.14414,     0.14515,     0.14615,     0.14715,     0.14815,     0.14915,     0.15015,     0.15115,     0.15215,     0.15315,     0.15415,     0.15516,     0.15616,     0.15716,     0.15816,     0.15916,     0.16016,     0.16116,     0.16216,     0.16316,     0.16416,     0.16517,     0.16617,     0.16717,\n",
      "           0.16817,     0.16917,     0.17017,     0.17117,     0.17217,     0.17317,     0.17417,     0.17518,     0.17618,     0.17718,     0.17818,     0.17918,     0.18018,     0.18118,     0.18218,     0.18318,     0.18418,     0.18519,     0.18619,     0.18719,     0.18819,     0.18919,     0.19019,     0.19119,\n",
      "           0.19219,     0.19319,     0.19419,      0.1952,      0.1962,      0.1972,      0.1982,      0.1992,      0.2002,      0.2012,      0.2022,      0.2032,      0.2042,     0.20521,     0.20621,     0.20721,     0.20821,     0.20921,     0.21021,     0.21121,     0.21221,     0.21321,     0.21421,     0.21522,\n",
      "           0.21622,     0.21722,     0.21822,     0.21922,     0.22022,     0.22122,     0.22222,     0.22322,     0.22422,     0.22523,     0.22623,     0.22723,     0.22823,     0.22923,     0.23023,     0.23123,     0.23223,     0.23323,     0.23423,     0.23524,     0.23624,     0.23724,     0.23824,     0.23924,\n",
      "           0.24024,     0.24124,     0.24224,     0.24324,     0.24424,     0.24525,     0.24625,     0.24725,     0.24825,     0.24925,     0.25025,     0.25125,     0.25225,     0.25325,     0.25425,     0.25526,     0.25626,     0.25726,     0.25826,     0.25926,     0.26026,     0.26126,     0.26226,     0.26326,\n",
      "           0.26426,     0.26527,     0.26627,     0.26727,     0.26827,     0.26927,     0.27027,     0.27127,     0.27227,     0.27327,     0.27427,     0.27528,     0.27628,     0.27728,     0.27828,     0.27928,     0.28028,     0.28128,     0.28228,     0.28328,     0.28428,     0.28529,     0.28629,     0.28729,\n",
      "           0.28829,     0.28929,     0.29029,     0.29129,     0.29229,     0.29329,     0.29429,      0.2953,      0.2963,      0.2973,      0.2983,      0.2993,      0.3003,      0.3013,      0.3023,      0.3033,      0.3043,     0.30531,     0.30631,     0.30731,     0.30831,     0.30931,     0.31031,     0.31131,\n",
      "           0.31231,     0.31331,     0.31431,     0.31532,     0.31632,     0.31732,     0.31832,     0.31932,     0.32032,     0.32132,     0.32232,     0.32332,     0.32432,     0.32533,     0.32633,     0.32733,     0.32833,     0.32933,     0.33033,     0.33133,     0.33233,     0.33333,     0.33433,     0.33534,\n",
      "           0.33634,     0.33734,     0.33834,     0.33934,     0.34034,     0.34134,     0.34234,     0.34334,     0.34434,     0.34535,     0.34635,     0.34735,     0.34835,     0.34935,     0.35035,     0.35135,     0.35235,     0.35335,     0.35435,     0.35536,     0.35636,     0.35736,     0.35836,     0.35936,\n",
      "           0.36036,     0.36136,     0.36236,     0.36336,     0.36436,     0.36537,     0.36637,     0.36737,     0.36837,     0.36937,     0.37037,     0.37137,     0.37237,     0.37337,     0.37437,     0.37538,     0.37638,     0.37738,     0.37838,     0.37938,     0.38038,     0.38138,     0.38238,     0.38338,\n",
      "           0.38438,     0.38539,     0.38639,     0.38739,     0.38839,     0.38939,     0.39039,     0.39139,     0.39239,     0.39339,     0.39439,      0.3954,      0.3964,      0.3974,      0.3984,      0.3994,      0.4004,      0.4014,      0.4024,      0.4034,      0.4044,     0.40541,     0.40641,     0.40741,\n",
      "           0.40841,     0.40941,     0.41041,     0.41141,     0.41241,     0.41341,     0.41441,     0.41542,     0.41642,     0.41742,     0.41842,     0.41942,     0.42042,     0.42142,     0.42242,     0.42342,     0.42442,     0.42543,     0.42643,     0.42743,     0.42843,     0.42943,     0.43043,     0.43143,\n",
      "           0.43243,     0.43343,     0.43443,     0.43544,     0.43644,     0.43744,     0.43844,     0.43944,     0.44044,     0.44144,     0.44244,     0.44344,     0.44444,     0.44545,     0.44645,     0.44745,     0.44845,     0.44945,     0.45045,     0.45145,     0.45245,     0.45345,     0.45445,     0.45546,\n",
      "           0.45646,     0.45746,     0.45846,     0.45946,     0.46046,     0.46146,     0.46246,     0.46346,     0.46446,     0.46547,     0.46647,     0.46747,     0.46847,     0.46947,     0.47047,     0.47147,     0.47247,     0.47347,     0.47447,     0.47548,     0.47648,     0.47748,     0.47848,     0.47948,\n",
      "           0.48048,     0.48148,     0.48248,     0.48348,     0.48448,     0.48549,     0.48649,     0.48749,     0.48849,     0.48949,     0.49049,     0.49149,     0.49249,     0.49349,     0.49449,      0.4955,      0.4965,      0.4975,      0.4985,      0.4995,      0.5005,      0.5015,      0.5025,      0.5035,\n",
      "            0.5045,     0.50551,     0.50651,     0.50751,     0.50851,     0.50951,     0.51051,     0.51151,     0.51251,     0.51351,     0.51451,     0.51552,     0.51652,     0.51752,     0.51852,     0.51952,     0.52052,     0.52152,     0.52252,     0.52352,     0.52452,     0.52553,     0.52653,     0.52753,\n",
      "           0.52853,     0.52953,     0.53053,     0.53153,     0.53253,     0.53353,     0.53453,     0.53554,     0.53654,     0.53754,     0.53854,     0.53954,     0.54054,     0.54154,     0.54254,     0.54354,     0.54454,     0.54555,     0.54655,     0.54755,     0.54855,     0.54955,     0.55055,     0.55155,\n",
      "           0.55255,     0.55355,     0.55455,     0.55556,     0.55656,     0.55756,     0.55856,     0.55956,     0.56056,     0.56156,     0.56256,     0.56356,     0.56456,     0.56557,     0.56657,     0.56757,     0.56857,     0.56957,     0.57057,     0.57157,     0.57257,     0.57357,     0.57457,     0.57558,\n",
      "           0.57658,     0.57758,     0.57858,     0.57958,     0.58058,     0.58158,     0.58258,     0.58358,     0.58458,     0.58559,     0.58659,     0.58759,     0.58859,     0.58959,     0.59059,     0.59159,     0.59259,     0.59359,     0.59459,      0.5956,      0.5966,      0.5976,      0.5986,      0.5996,\n",
      "            0.6006,      0.6016,      0.6026,      0.6036,      0.6046,     0.60561,     0.60661,     0.60761,     0.60861,     0.60961,     0.61061,     0.61161,     0.61261,     0.61361,     0.61461,     0.61562,     0.61662,     0.61762,     0.61862,     0.61962,     0.62062,     0.62162,     0.62262,     0.62362,\n",
      "           0.62462,     0.62563,     0.62663,     0.62763,     0.62863,     0.62963,     0.63063,     0.63163,     0.63263,     0.63363,     0.63463,     0.63564,     0.63664,     0.63764,     0.63864,     0.63964,     0.64064,     0.64164,     0.64264,     0.64364,     0.64464,     0.64565,     0.64665,     0.64765,\n",
      "           0.64865,     0.64965,     0.65065,     0.65165,     0.65265,     0.65365,     0.65465,     0.65566,     0.65666,     0.65766,     0.65866,     0.65966,     0.66066,     0.66166,     0.66266,     0.66366,     0.66466,     0.66567,     0.66667,     0.66767,     0.66867,     0.66967,     0.67067,     0.67167,\n",
      "           0.67267,     0.67367,     0.67467,     0.67568,     0.67668,     0.67768,     0.67868,     0.67968,     0.68068,     0.68168,     0.68268,     0.68368,     0.68468,     0.68569,     0.68669,     0.68769,     0.68869,     0.68969,     0.69069,     0.69169,     0.69269,     0.69369,     0.69469,      0.6957,\n",
      "            0.6967,      0.6977,      0.6987,      0.6997,      0.7007,      0.7017,      0.7027,      0.7037,      0.7047,     0.70571,     0.70671,     0.70771,     0.70871,     0.70971,     0.71071,     0.71171,     0.71271,     0.71371,     0.71471,     0.71572,     0.71672,     0.71772,     0.71872,     0.71972,\n",
      "           0.72072,     0.72172,     0.72272,     0.72372,     0.72472,     0.72573,     0.72673,     0.72773,     0.72873,     0.72973,     0.73073,     0.73173,     0.73273,     0.73373,     0.73473,     0.73574,     0.73674,     0.73774,     0.73874,     0.73974,     0.74074,     0.74174,     0.74274,     0.74374,\n",
      "           0.74474,     0.74575,     0.74675,     0.74775,     0.74875,     0.74975,     0.75075,     0.75175,     0.75275,     0.75375,     0.75475,     0.75576,     0.75676,     0.75776,     0.75876,     0.75976,     0.76076,     0.76176,     0.76276,     0.76376,     0.76476,     0.76577,     0.76677,     0.76777,\n",
      "           0.76877,     0.76977,     0.77077,     0.77177,     0.77277,     0.77377,     0.77477,     0.77578,     0.77678,     0.77778,     0.77878,     0.77978,     0.78078,     0.78178,     0.78278,     0.78378,     0.78478,     0.78579,     0.78679,     0.78779,     0.78879,     0.78979,     0.79079,     0.79179,\n",
      "           0.79279,     0.79379,     0.79479,      0.7958,      0.7968,      0.7978,      0.7988,      0.7998,      0.8008,      0.8018,      0.8028,      0.8038,      0.8048,     0.80581,     0.80681,     0.80781,     0.80881,     0.80981,     0.81081,     0.81181,     0.81281,     0.81381,     0.81481,     0.81582,\n",
      "           0.81682,     0.81782,     0.81882,     0.81982,     0.82082,     0.82182,     0.82282,     0.82382,     0.82482,     0.82583,     0.82683,     0.82783,     0.82883,     0.82983,     0.83083,     0.83183,     0.83283,     0.83383,     0.83483,     0.83584,     0.83684,     0.83784,     0.83884,     0.83984,\n",
      "           0.84084,     0.84184,     0.84284,     0.84384,     0.84484,     0.84585,     0.84685,     0.84785,     0.84885,     0.84985,     0.85085,     0.85185,     0.85285,     0.85385,     0.85485,     0.85586,     0.85686,     0.85786,     0.85886,     0.85986,     0.86086,     0.86186,     0.86286,     0.86386,\n",
      "           0.86486,     0.86587,     0.86687,     0.86787,     0.86887,     0.86987,     0.87087,     0.87187,     0.87287,     0.87387,     0.87487,     0.87588,     0.87688,     0.87788,     0.87888,     0.87988,     0.88088,     0.88188,     0.88288,     0.88388,     0.88488,     0.88589,     0.88689,     0.88789,\n",
      "           0.88889,     0.88989,     0.89089,     0.89189,     0.89289,     0.89389,     0.89489,      0.8959,      0.8969,      0.8979,      0.8989,      0.8999,      0.9009,      0.9019,      0.9029,      0.9039,      0.9049,     0.90591,     0.90691,     0.90791,     0.90891,     0.90991,     0.91091,     0.91191,\n",
      "           0.91291,     0.91391,     0.91491,     0.91592,     0.91692,     0.91792,     0.91892,     0.91992,     0.92092,     0.92192,     0.92292,     0.92392,     0.92492,     0.92593,     0.92693,     0.92793,     0.92893,     0.92993,     0.93093,     0.93193,     0.93293,     0.93393,     0.93493,     0.93594,\n",
      "           0.93694,     0.93794,     0.93894,     0.93994,     0.94094,     0.94194,     0.94294,     0.94394,     0.94494,     0.94595,     0.94695,     0.94795,     0.94895,     0.94995,     0.95095,     0.95195,     0.95295,     0.95395,     0.95495,     0.95596,     0.95696,     0.95796,     0.95896,     0.95996,\n",
      "           0.96096,     0.96196,     0.96296,     0.96396,     0.96496,     0.96597,     0.96697,     0.96797,     0.96897,     0.96997,     0.97097,     0.97197,     0.97297,     0.97397,     0.97497,     0.97598,     0.97698,     0.97798,     0.97898,     0.97998,     0.98098,     0.98198,     0.98298,     0.98398,\n",
      "           0.98498,     0.98599,     0.98699,     0.98799,     0.98899,     0.98999,     0.99099,     0.99199,     0.99299,     0.99399,     0.99499,       0.996,       0.997,       0.998,       0.999,           1]), array([[          1,           1,           1,           1,           1,           1,           1,           1,           1,           1,           1,           1,           1,           1,           1,           1,           1,           1,           1,           1,           1,           1,           1,\n",
      "                  1,           1,           1,           1,           1,           1,           1,           1,           1,           1,           1,           1,           1,           1,           1,           1,           1,           1,           1,           1,           1,           1,           1,\n",
      "                  1,           1,           1,           1,           1,           1,           1,           1,           1,           1,           1,           1,           1,           1,           1,           1,           1,           1,           1,           1,           1,           1,           1,\n",
      "                  1,           1,           1,           1,           1,           1,           1,           1,           1,           1,           1,           1,           1,           1,           1,           1,           1,           1,           1,           1,           1,           1,           1,\n",
      "                  1,           1,           1,           1,           1,           1,           1,           1,           1,           1,           1,           1,           1,           1,           1,           1,           1,           1,           1,           1,           1,           1,           1,\n",
      "                  1,           1,           1,           1,           1,           1,           1,           1,           1,           1,           1,           1,           1,           1,           1,           1,           1,           1,           1,           1,           1,           1,           1,\n",
      "                  1,           1,           1,           1,           1,           1,           1,           1,           1,           1,           1,           1,           1,           1,           1,           1,           1,           1,           1,           1,           1,           1,           1,\n",
      "                  1,           1,           1,           1,           1,           1,           1,           1,           1,           1,           1,           1,           1,           1,           1,           1,           1,           1,           1,           1,           1,           1,           1,\n",
      "                  1,           1,           1,           1,           1,           1,           1,           1,           1,           1,           1,           1,           1,           1,           1,           1,           1,           1,           1,           1,           1,           1,           1,\n",
      "                  1,           1,           1,           1,           1,           1,           1,           1,           1,           1,           1,           1,           1,           1,           1,           1,           1,           1,           1,           1,           1,           1,           1,\n",
      "                  1,           1,           1,           1,           1,           1,           1,           1,           1,           1,           1,           1,           1,           1,           1,           1,           1,           1,           1,           1,           1,           1,           1,\n",
      "                  1,           1,           1,           1,           1,           1,           1,           1,           1,           1,           1,           1,           1,           1,           1,           1,           1,           1,           1,           1,           1,           1,           1,\n",
      "                  1,           1,           1,           1,           1,           1,           1,           1,           1,           1,           1,           1,           1,           1,           1,           1,           1,           1,           1,           1,           1,           1,           1,\n",
      "                  1,           1,           1,           1,           1,           1,           1,           1,           1,           1,           1,           1,           1,           1,           1,           1,           1,           1,           1,           1,           1,           1,           1,\n",
      "                  1,           1,           1,           1,           1,           1,           1,           1,           1,           1,           1,           1,           1,           1,           1,           1,           1,           1,           1,           1,           1,           1,           1,\n",
      "                  1,           1,           1,           1,           1,           1,           1,           1,           1,           1,           1,           1,           1,           1,           1,           1,           1,           1,           1,           1,           1,           1,           1,\n",
      "                  1,           1,           1,           1,           1,           1,           1,           1,           1,           1,           1,           1,           1,           1,           1,           1,           1,           1,           1,           1,           1,           1,           1,\n",
      "                  1,           1,           1,           1,           1,           1,           1,           1,           1,           1,           1,           1,           1,           1,           1,           1,           1,           1,           1,           1,           1,           1,           1,\n",
      "                  1,           1,           1,           1,           1,           1,           1,           1,           1,           1,           1,           1,           1,           1,           1,           1,           1,           1,           1,           1,           1,           1,           1,\n",
      "                  1,           1,           1,           1,           1,           1,           1,           1,           1,           1,           1,           1,           1,           1,           1,           1,           1,           1,           1,           1,           1,           1,           1,\n",
      "                  1,           1,           1,           1,           1,           1,           1,           1,           1,           1,           1,           1,           1,           1,           1,           1,           1,           1,           1,           1,           1,           1,           1,\n",
      "                  1,           1,           1,           1,           1,           1,           1,           1,           1,           1,           1,           1,           1,           1,           1,           1,           1,           1,           1,           1,           1,           1,           1,\n",
      "                  1,           1,           1,           1,           1,           1,           1,           1,           1,           1,           1,           1,           1,           1,           1,           1,           1,           1,           1,           1,           1,           1,           1,\n",
      "                  1,           1,           1,           1,           1,           1,           1,           1,           1,           1,           1,           1,           1,           1,           1,           1,           1,           1,           1,           1,           1,           1,           1,\n",
      "                  1,           1,           1,           1,           1,           1,           1,           1,           1,           1,           1,           1,           1,           1,           1,           1,           1,           1,           1,           1,           1,           1,           1,\n",
      "                  1,           1,           1,           1,           1,           1,           1,           1,           1,           1,           1,           1,           1,           1,           1,           1,           1,           1,           1,           1,           1,           1,           1,\n",
      "                  1,           1,           1,           1,           1,           1,           1,           1,           1,           1,           1,           1,           1,           1,           1,           1,           1,           1,           1,           1,           1,           1,           1,\n",
      "                  1,           1,           1,           1,           1,           1,           1,           1,           1,           1,           1,           1,           1,           1,           1,           1,           1,           1,           1,           1,           1,           1,           1,\n",
      "                  1,           1,           1,           1,           1,           1,           1,           1,           1,           1,           1,           1,           1,           1,           1,           1,           1,           1,           1,           1,           1,           1,           1,\n",
      "                  1,           1,           1,           1,           1,           1,           1,           1,           1,           1,           1,           1,           1,           1,           1,           1,           1,           1,           1,           1,           1,           1,           1,\n",
      "                  1,           1,           1,           1,           1,           1,           1,           1,           1,           1,           1,           1,           1,           1,           1,           1,           1,           1,           1,           1,           1,           1,           1,\n",
      "                  1,           1,           1,           1,           1,           1,           1,           1,           1,           1,           1,           1,           1,           1,           1,           1,           1,           1,           1,           1,           1,           1,           1,\n",
      "                  1,           1,           1,           1,           1,           1,           1,           1,           1,           1,           1,           1,           1,           1,           1,           1,           1,           1,           1,           1,           1,           1,           1,\n",
      "                  1,           1,           1,           1,           1,           1,           1,           1,           1,           1,           1,           1,           1,           1,           1,           1,           1,           1,           1,           1,           1,           1,           1,\n",
      "                  1,           1,           1,           1,           1,           1,           1,           1,           1,           1,           1,           1,           1,           1,           1,           1,           1,           1,           1,           1,           1,           1,           1,\n",
      "                  1,           1,           1,           1,           1,           1,           1,           1,           1,           1,           1,           1,           1,           1,           1,           1,           1,           1,           1,           1,           1,           1,           1,\n",
      "                  1,           1,           1,           1,           1,           1,           1,           1,           1,           1,           1,           1,           1,           1,           1,           1,           1,           1,           1,           1,           1,           1,           1,\n",
      "                  1,           1,           1,           1,           1,           1,           1,           1,           1,           1,           1,           1,           1,           1,     0.98462,     0.98462,     0.98462,     0.98462,     0.98462,     0.98462,     0.98462,     0.98462,     0.98462,\n",
      "            0.98462,     0.98462,     0.98462,     0.98462,     0.98462,     0.98462,     0.98462,     0.98462,     0.98462,     0.98462,     0.98462,     0.98462,     0.98462,     0.98462,     0.98462,     0.98462,     0.98462,     0.98462,     0.98462,     0.98462,     0.98462,     0.98462,     0.98462,\n",
      "            0.98462,     0.98462,     0.98462,     0.98462,     0.98462,     0.98462,     0.98462,     0.98462,     0.98462,     0.98462,     0.98462,     0.98462,     0.98462,     0.98462,     0.98462,     0.98462,     0.98462,     0.98462,     0.98462,     0.98462,     0.98462,     0.98462,     0.98462,\n",
      "            0.98462,     0.98462,     0.98462,     0.98462,     0.98462,     0.98462,     0.98462,     0.98462,     0.98462,     0.98462,     0.98462,     0.98462,     0.98462,     0.98462,     0.98462,     0.98462,     0.98462,     0.98462,     0.98462,     0.98462,     0.98462,     0.98462,     0.98462,\n",
      "            0.98462,     0.98462,     0.98462,     0.98462,     0.98462,     0.98462,     0.98462,     0.98462,     0.98462,     0.98462,     0.98462,     0.98462,     0.91549,     0.91549,     0.91549,     0.91549,     0.91549,     0.91549,     0.91549,     0.91549,     0.91549,     0.91549,     0.91549,\n",
      "            0.91549,     0.91549,     0.91549,     0.91549,     0.89189,     0.89189,     0.89189,     0.89189,     0.89189,     0.89189,     0.89189,     0.89189,     0.89189,     0.89189,     0.89189,     0.89189,     0.89189,     0.89189,     0.89189,    0.018544,    0.018544,    0.018544,    0.018544,\n",
      "           0.018544,    0.018544,    0.018544,    0.018544,    0.018544,    0.018544,    0.018544,    0.018544,    0.018544,    0.018544,           0]]), 'Recall', 'Precision'], [array([          0,    0.001001,    0.002002,    0.003003,    0.004004,    0.005005,    0.006006,    0.007007,    0.008008,    0.009009,     0.01001,    0.011011,    0.012012,    0.013013,    0.014014,    0.015015,    0.016016,    0.017017,    0.018018,    0.019019,     0.02002,    0.021021,    0.022022,    0.023023,\n",
      "          0.024024,    0.025025,    0.026026,    0.027027,    0.028028,    0.029029,     0.03003,    0.031031,    0.032032,    0.033033,    0.034034,    0.035035,    0.036036,    0.037037,    0.038038,    0.039039,     0.04004,    0.041041,    0.042042,    0.043043,    0.044044,    0.045045,    0.046046,    0.047047,\n",
      "          0.048048,    0.049049,     0.05005,    0.051051,    0.052052,    0.053053,    0.054054,    0.055055,    0.056056,    0.057057,    0.058058,    0.059059,     0.06006,    0.061061,    0.062062,    0.063063,    0.064064,    0.065065,    0.066066,    0.067067,    0.068068,    0.069069,     0.07007,    0.071071,\n",
      "          0.072072,    0.073073,    0.074074,    0.075075,    0.076076,    0.077077,    0.078078,    0.079079,     0.08008,    0.081081,    0.082082,    0.083083,    0.084084,    0.085085,    0.086086,    0.087087,    0.088088,    0.089089,     0.09009,    0.091091,    0.092092,    0.093093,    0.094094,    0.095095,\n",
      "          0.096096,    0.097097,    0.098098,    0.099099,      0.1001,      0.1011,      0.1021,      0.1031,      0.1041,     0.10511,     0.10611,     0.10711,     0.10811,     0.10911,     0.11011,     0.11111,     0.11211,     0.11311,     0.11411,     0.11512,     0.11612,     0.11712,     0.11812,     0.11912,\n",
      "           0.12012,     0.12112,     0.12212,     0.12312,     0.12412,     0.12513,     0.12613,     0.12713,     0.12813,     0.12913,     0.13013,     0.13113,     0.13213,     0.13313,     0.13413,     0.13514,     0.13614,     0.13714,     0.13814,     0.13914,     0.14014,     0.14114,     0.14214,     0.14314,\n",
      "           0.14414,     0.14515,     0.14615,     0.14715,     0.14815,     0.14915,     0.15015,     0.15115,     0.15215,     0.15315,     0.15415,     0.15516,     0.15616,     0.15716,     0.15816,     0.15916,     0.16016,     0.16116,     0.16216,     0.16316,     0.16416,     0.16517,     0.16617,     0.16717,\n",
      "           0.16817,     0.16917,     0.17017,     0.17117,     0.17217,     0.17317,     0.17417,     0.17518,     0.17618,     0.17718,     0.17818,     0.17918,     0.18018,     0.18118,     0.18218,     0.18318,     0.18418,     0.18519,     0.18619,     0.18719,     0.18819,     0.18919,     0.19019,     0.19119,\n",
      "           0.19219,     0.19319,     0.19419,      0.1952,      0.1962,      0.1972,      0.1982,      0.1992,      0.2002,      0.2012,      0.2022,      0.2032,      0.2042,     0.20521,     0.20621,     0.20721,     0.20821,     0.20921,     0.21021,     0.21121,     0.21221,     0.21321,     0.21421,     0.21522,\n",
      "           0.21622,     0.21722,     0.21822,     0.21922,     0.22022,     0.22122,     0.22222,     0.22322,     0.22422,     0.22523,     0.22623,     0.22723,     0.22823,     0.22923,     0.23023,     0.23123,     0.23223,     0.23323,     0.23423,     0.23524,     0.23624,     0.23724,     0.23824,     0.23924,\n",
      "           0.24024,     0.24124,     0.24224,     0.24324,     0.24424,     0.24525,     0.24625,     0.24725,     0.24825,     0.24925,     0.25025,     0.25125,     0.25225,     0.25325,     0.25425,     0.25526,     0.25626,     0.25726,     0.25826,     0.25926,     0.26026,     0.26126,     0.26226,     0.26326,\n",
      "           0.26426,     0.26527,     0.26627,     0.26727,     0.26827,     0.26927,     0.27027,     0.27127,     0.27227,     0.27327,     0.27427,     0.27528,     0.27628,     0.27728,     0.27828,     0.27928,     0.28028,     0.28128,     0.28228,     0.28328,     0.28428,     0.28529,     0.28629,     0.28729,\n",
      "           0.28829,     0.28929,     0.29029,     0.29129,     0.29229,     0.29329,     0.29429,      0.2953,      0.2963,      0.2973,      0.2983,      0.2993,      0.3003,      0.3013,      0.3023,      0.3033,      0.3043,     0.30531,     0.30631,     0.30731,     0.30831,     0.30931,     0.31031,     0.31131,\n",
      "           0.31231,     0.31331,     0.31431,     0.31532,     0.31632,     0.31732,     0.31832,     0.31932,     0.32032,     0.32132,     0.32232,     0.32332,     0.32432,     0.32533,     0.32633,     0.32733,     0.32833,     0.32933,     0.33033,     0.33133,     0.33233,     0.33333,     0.33433,     0.33534,\n",
      "           0.33634,     0.33734,     0.33834,     0.33934,     0.34034,     0.34134,     0.34234,     0.34334,     0.34434,     0.34535,     0.34635,     0.34735,     0.34835,     0.34935,     0.35035,     0.35135,     0.35235,     0.35335,     0.35435,     0.35536,     0.35636,     0.35736,     0.35836,     0.35936,\n",
      "           0.36036,     0.36136,     0.36236,     0.36336,     0.36436,     0.36537,     0.36637,     0.36737,     0.36837,     0.36937,     0.37037,     0.37137,     0.37237,     0.37337,     0.37437,     0.37538,     0.37638,     0.37738,     0.37838,     0.37938,     0.38038,     0.38138,     0.38238,     0.38338,\n",
      "           0.38438,     0.38539,     0.38639,     0.38739,     0.38839,     0.38939,     0.39039,     0.39139,     0.39239,     0.39339,     0.39439,      0.3954,      0.3964,      0.3974,      0.3984,      0.3994,      0.4004,      0.4014,      0.4024,      0.4034,      0.4044,     0.40541,     0.40641,     0.40741,\n",
      "           0.40841,     0.40941,     0.41041,     0.41141,     0.41241,     0.41341,     0.41441,     0.41542,     0.41642,     0.41742,     0.41842,     0.41942,     0.42042,     0.42142,     0.42242,     0.42342,     0.42442,     0.42543,     0.42643,     0.42743,     0.42843,     0.42943,     0.43043,     0.43143,\n",
      "           0.43243,     0.43343,     0.43443,     0.43544,     0.43644,     0.43744,     0.43844,     0.43944,     0.44044,     0.44144,     0.44244,     0.44344,     0.44444,     0.44545,     0.44645,     0.44745,     0.44845,     0.44945,     0.45045,     0.45145,     0.45245,     0.45345,     0.45445,     0.45546,\n",
      "           0.45646,     0.45746,     0.45846,     0.45946,     0.46046,     0.46146,     0.46246,     0.46346,     0.46446,     0.46547,     0.46647,     0.46747,     0.46847,     0.46947,     0.47047,     0.47147,     0.47247,     0.47347,     0.47447,     0.47548,     0.47648,     0.47748,     0.47848,     0.47948,\n",
      "           0.48048,     0.48148,     0.48248,     0.48348,     0.48448,     0.48549,     0.48649,     0.48749,     0.48849,     0.48949,     0.49049,     0.49149,     0.49249,     0.49349,     0.49449,      0.4955,      0.4965,      0.4975,      0.4985,      0.4995,      0.5005,      0.5015,      0.5025,      0.5035,\n",
      "            0.5045,     0.50551,     0.50651,     0.50751,     0.50851,     0.50951,     0.51051,     0.51151,     0.51251,     0.51351,     0.51451,     0.51552,     0.51652,     0.51752,     0.51852,     0.51952,     0.52052,     0.52152,     0.52252,     0.52352,     0.52452,     0.52553,     0.52653,     0.52753,\n",
      "           0.52853,     0.52953,     0.53053,     0.53153,     0.53253,     0.53353,     0.53453,     0.53554,     0.53654,     0.53754,     0.53854,     0.53954,     0.54054,     0.54154,     0.54254,     0.54354,     0.54454,     0.54555,     0.54655,     0.54755,     0.54855,     0.54955,     0.55055,     0.55155,\n",
      "           0.55255,     0.55355,     0.55455,     0.55556,     0.55656,     0.55756,     0.55856,     0.55956,     0.56056,     0.56156,     0.56256,     0.56356,     0.56456,     0.56557,     0.56657,     0.56757,     0.56857,     0.56957,     0.57057,     0.57157,     0.57257,     0.57357,     0.57457,     0.57558,\n",
      "           0.57658,     0.57758,     0.57858,     0.57958,     0.58058,     0.58158,     0.58258,     0.58358,     0.58458,     0.58559,     0.58659,     0.58759,     0.58859,     0.58959,     0.59059,     0.59159,     0.59259,     0.59359,     0.59459,      0.5956,      0.5966,      0.5976,      0.5986,      0.5996,\n",
      "            0.6006,      0.6016,      0.6026,      0.6036,      0.6046,     0.60561,     0.60661,     0.60761,     0.60861,     0.60961,     0.61061,     0.61161,     0.61261,     0.61361,     0.61461,     0.61562,     0.61662,     0.61762,     0.61862,     0.61962,     0.62062,     0.62162,     0.62262,     0.62362,\n",
      "           0.62462,     0.62563,     0.62663,     0.62763,     0.62863,     0.62963,     0.63063,     0.63163,     0.63263,     0.63363,     0.63463,     0.63564,     0.63664,     0.63764,     0.63864,     0.63964,     0.64064,     0.64164,     0.64264,     0.64364,     0.64464,     0.64565,     0.64665,     0.64765,\n",
      "           0.64865,     0.64965,     0.65065,     0.65165,     0.65265,     0.65365,     0.65465,     0.65566,     0.65666,     0.65766,     0.65866,     0.65966,     0.66066,     0.66166,     0.66266,     0.66366,     0.66466,     0.66567,     0.66667,     0.66767,     0.66867,     0.66967,     0.67067,     0.67167,\n",
      "           0.67267,     0.67367,     0.67467,     0.67568,     0.67668,     0.67768,     0.67868,     0.67968,     0.68068,     0.68168,     0.68268,     0.68368,     0.68468,     0.68569,     0.68669,     0.68769,     0.68869,     0.68969,     0.69069,     0.69169,     0.69269,     0.69369,     0.69469,      0.6957,\n",
      "            0.6967,      0.6977,      0.6987,      0.6997,      0.7007,      0.7017,      0.7027,      0.7037,      0.7047,     0.70571,     0.70671,     0.70771,     0.70871,     0.70971,     0.71071,     0.71171,     0.71271,     0.71371,     0.71471,     0.71572,     0.71672,     0.71772,     0.71872,     0.71972,\n",
      "           0.72072,     0.72172,     0.72272,     0.72372,     0.72472,     0.72573,     0.72673,     0.72773,     0.72873,     0.72973,     0.73073,     0.73173,     0.73273,     0.73373,     0.73473,     0.73574,     0.73674,     0.73774,     0.73874,     0.73974,     0.74074,     0.74174,     0.74274,     0.74374,\n",
      "           0.74474,     0.74575,     0.74675,     0.74775,     0.74875,     0.74975,     0.75075,     0.75175,     0.75275,     0.75375,     0.75475,     0.75576,     0.75676,     0.75776,     0.75876,     0.75976,     0.76076,     0.76176,     0.76276,     0.76376,     0.76476,     0.76577,     0.76677,     0.76777,\n",
      "           0.76877,     0.76977,     0.77077,     0.77177,     0.77277,     0.77377,     0.77477,     0.77578,     0.77678,     0.77778,     0.77878,     0.77978,     0.78078,     0.78178,     0.78278,     0.78378,     0.78478,     0.78579,     0.78679,     0.78779,     0.78879,     0.78979,     0.79079,     0.79179,\n",
      "           0.79279,     0.79379,     0.79479,      0.7958,      0.7968,      0.7978,      0.7988,      0.7998,      0.8008,      0.8018,      0.8028,      0.8038,      0.8048,     0.80581,     0.80681,     0.80781,     0.80881,     0.80981,     0.81081,     0.81181,     0.81281,     0.81381,     0.81481,     0.81582,\n",
      "           0.81682,     0.81782,     0.81882,     0.81982,     0.82082,     0.82182,     0.82282,     0.82382,     0.82482,     0.82583,     0.82683,     0.82783,     0.82883,     0.82983,     0.83083,     0.83183,     0.83283,     0.83383,     0.83483,     0.83584,     0.83684,     0.83784,     0.83884,     0.83984,\n",
      "           0.84084,     0.84184,     0.84284,     0.84384,     0.84484,     0.84585,     0.84685,     0.84785,     0.84885,     0.84985,     0.85085,     0.85185,     0.85285,     0.85385,     0.85485,     0.85586,     0.85686,     0.85786,     0.85886,     0.85986,     0.86086,     0.86186,     0.86286,     0.86386,\n",
      "           0.86486,     0.86587,     0.86687,     0.86787,     0.86887,     0.86987,     0.87087,     0.87187,     0.87287,     0.87387,     0.87487,     0.87588,     0.87688,     0.87788,     0.87888,     0.87988,     0.88088,     0.88188,     0.88288,     0.88388,     0.88488,     0.88589,     0.88689,     0.88789,\n",
      "           0.88889,     0.88989,     0.89089,     0.89189,     0.89289,     0.89389,     0.89489,      0.8959,      0.8969,      0.8979,      0.8989,      0.8999,      0.9009,      0.9019,      0.9029,      0.9039,      0.9049,     0.90591,     0.90691,     0.90791,     0.90891,     0.90991,     0.91091,     0.91191,\n",
      "           0.91291,     0.91391,     0.91491,     0.91592,     0.91692,     0.91792,     0.91892,     0.91992,     0.92092,     0.92192,     0.92292,     0.92392,     0.92492,     0.92593,     0.92693,     0.92793,     0.92893,     0.92993,     0.93093,     0.93193,     0.93293,     0.93393,     0.93493,     0.93594,\n",
      "           0.93694,     0.93794,     0.93894,     0.93994,     0.94094,     0.94194,     0.94294,     0.94394,     0.94494,     0.94595,     0.94695,     0.94795,     0.94895,     0.94995,     0.95095,     0.95195,     0.95295,     0.95395,     0.95495,     0.95596,     0.95696,     0.95796,     0.95896,     0.95996,\n",
      "           0.96096,     0.96196,     0.96296,     0.96396,     0.96496,     0.96597,     0.96697,     0.96797,     0.96897,     0.96997,     0.97097,     0.97197,     0.97297,     0.97397,     0.97497,     0.97598,     0.97698,     0.97798,     0.97898,     0.97998,     0.98098,     0.98198,     0.98298,     0.98398,\n",
      "           0.98498,     0.98599,     0.98699,     0.98799,     0.98899,     0.98999,     0.99099,     0.99199,     0.99299,     0.99399,     0.99499,       0.996,       0.997,       0.998,       0.999,           1]), array([[   0.029245,    0.029331,     0.35991,     0.60063,     0.72656,      0.7616,     0.79171,     0.81047,     0.82801,     0.83651,     0.83901,     0.84643,      0.8503,     0.86048,     0.87428,     0.87641,     0.87853,      0.8836,     0.89392,     0.89906,     0.90247,     0.90507,     0.90694,\n",
      "             0.9088,     0.91051,     0.91153,     0.91255,     0.91357,     0.91458,     0.91559,      0.9166,     0.91849,     0.92043,     0.92237,     0.92343,     0.92399,     0.92455,      0.9251,     0.92566,     0.92621,     0.92677,     0.92732,     0.92788,     0.92843,     0.92898,     0.92954,\n",
      "             0.9307,      0.9319,     0.93311,     0.93431,     0.93551,     0.93521,     0.93309,     0.93095,     0.92881,     0.92951,     0.93055,      0.9316,     0.93264,     0.93369,     0.93473,     0.93537,      0.9356,     0.93583,     0.93606,      0.9363,     0.93653,     0.93676,     0.93699,\n",
      "            0.93722,     0.93745,     0.93769,     0.93792,     0.93815,     0.93838,     0.93861,     0.93884,     0.93907,      0.9393,     0.93953,     0.93976,     0.93999,     0.94022,     0.94045,     0.94068,     0.94091,     0.94114,     0.94137,      0.9416,     0.94183,     0.94199,     0.94173,\n",
      "            0.94147,     0.94122,     0.94096,      0.9407,     0.94044,     0.94018,     0.93992,     0.93966,      0.9394,     0.93914,     0.93888,     0.93862,     0.93836,      0.9381,     0.93784,     0.93758,     0.93732,     0.93706,      0.9368,     0.93654,     0.93628,     0.93602,     0.93576,\n",
      "             0.9355,     0.93524,     0.93498,     0.93472,     0.93446,     0.93435,     0.93444,     0.93454,     0.93463,     0.93473,     0.93482,     0.93492,     0.93502,     0.93511,     0.93521,      0.9353,      0.9354,     0.93549,     0.93559,     0.93568,     0.93578,     0.93587,     0.93597,\n",
      "            0.93606,     0.93616,     0.93625,     0.93635,     0.93644,     0.93654,     0.93663,     0.93673,     0.93682,     0.93692,     0.93701,     0.93711,      0.9372,      0.9373,     0.93739,     0.93749,     0.93758,     0.93768,     0.93777,     0.93787,     0.93796,     0.93806,     0.93815,\n",
      "            0.93824,     0.93834,     0.93843,     0.93853,     0.93862,     0.93872,     0.93881,     0.93891,       0.939,      0.9391,     0.93919,     0.93929,     0.93938,     0.93947,     0.93957,     0.93966,     0.93976,     0.93985,     0.93995,     0.94004,     0.94013,     0.94023,     0.94032,\n",
      "            0.94042,     0.94051,     0.94061,      0.9407,     0.94079,     0.94089,     0.94098,     0.94108,     0.94117,     0.94149,     0.94182,     0.94215,     0.94248,     0.94281,     0.94314,     0.94347,      0.9438,     0.94413,     0.94446,     0.94479,     0.94512,     0.94544,     0.94577,\n",
      "             0.9461,     0.94643,     0.94676,     0.94708,     0.94741,     0.94774,     0.94806,     0.94821,      0.9483,     0.94838,     0.94847,     0.94855,     0.94863,     0.94872,      0.9488,     0.94889,     0.94897,     0.94906,     0.94914,     0.94923,     0.94931,      0.9494,     0.94948,\n",
      "            0.94957,     0.94965,     0.94973,     0.94982,      0.9499,     0.94999,     0.95007,     0.95016,     0.95024,     0.95033,     0.95041,     0.95049,     0.95058,     0.95066,     0.95075,     0.95083,     0.95092,       0.951,     0.95108,     0.95117,     0.95125,     0.95134,     0.95142,\n",
      "            0.95151,     0.95159,     0.95167,     0.95176,     0.95184,     0.95193,     0.95201,     0.95209,     0.95218,     0.95226,     0.95235,     0.95243,     0.95251,      0.9526,     0.95268,     0.95277,     0.95285,     0.95293,     0.95302,      0.9531,     0.95319,     0.95327,     0.95335,\n",
      "            0.95344,     0.95352,     0.95361,     0.95369,     0.95377,     0.95386,     0.95394,     0.95402,     0.95411,     0.95419,     0.95428,     0.95436,     0.95444,     0.95453,     0.95461,     0.95469,     0.95478,     0.95486,     0.95495,     0.95503,     0.95511,      0.9552,     0.95529,\n",
      "             0.9554,      0.9555,      0.9556,     0.95571,     0.95581,     0.95592,     0.95602,     0.95612,     0.95623,     0.95633,     0.95644,     0.95654,     0.95664,     0.95675,     0.95685,     0.95695,     0.95706,     0.95716,     0.95726,     0.95737,     0.95747,     0.95757,     0.95768,\n",
      "            0.95778,     0.95789,     0.95799,     0.95809,      0.9582,      0.9583,      0.9584,     0.95851,     0.95861,     0.95871,     0.95881,     0.95892,     0.95902,     0.95912,     0.95923,     0.95933,     0.95943,     0.95954,     0.95964,     0.95974,     0.95985,     0.95995,     0.96005,\n",
      "            0.96015,     0.96026,     0.96036,     0.96046,     0.96057,     0.96067,     0.96077,     0.96087,     0.96098,     0.96108,     0.96118,     0.96129,     0.96139,     0.96149,     0.96159,      0.9617,      0.9618,      0.9619,       0.962,     0.96211,     0.96221,     0.96231,     0.96242,\n",
      "             0.9626,     0.96278,     0.96296,     0.96315,     0.96333,     0.96351,     0.96369,     0.96387,     0.96405,     0.96423,     0.96441,     0.96459,     0.96478,     0.96496,     0.96514,     0.96532,      0.9655,     0.96568,     0.96586,     0.96604,     0.96622,      0.9664,     0.96658,\n",
      "            0.96676,     0.96694,     0.96712,      0.9673,     0.96748,     0.96766,     0.96784,     0.96802,      0.9682,     0.96838,     0.96856,     0.96874,     0.96892,      0.9691,     0.96928,     0.96945,     0.96963,     0.96967,     0.96964,     0.96961,     0.96957,     0.96954,      0.9695,\n",
      "            0.96947,     0.96944,      0.9694,     0.96937,     0.96933,      0.9693,     0.96926,     0.96923,      0.9692,     0.96916,     0.96913,     0.96909,     0.96906,     0.96902,     0.96899,     0.96896,     0.96892,     0.96889,     0.96885,     0.96882,     0.96878,     0.96875,     0.96872,\n",
      "            0.96868,     0.96865,     0.96861,     0.96858,     0.96854,     0.96851,     0.96848,     0.96844,     0.96841,     0.96837,     0.96834,      0.9683,     0.96827,     0.96824,      0.9682,     0.96817,     0.96813,      0.9681,     0.96806,     0.96803,       0.968,     0.96796,     0.96793,\n",
      "            0.96789,     0.96786,     0.96782,     0.96779,     0.96776,     0.96772,     0.96769,     0.96765,     0.96762,     0.96758,     0.96755,     0.96751,     0.96748,     0.96745,     0.96741,     0.96738,     0.96734,     0.96731,     0.96727,     0.96724,     0.96721,     0.96717,     0.96714,\n",
      "             0.9671,     0.96707,     0.96703,       0.967,     0.96696,     0.96693,      0.9669,     0.96686,     0.96683,     0.96679,     0.96676,     0.96672,     0.96669,     0.96666,     0.96662,     0.96659,     0.96655,     0.96652,     0.96648,     0.96645,     0.96641,     0.96638,     0.96635,\n",
      "            0.96631,     0.96628,     0.96624,     0.96621,     0.96617,     0.96614,      0.9661,     0.96607,     0.96604,       0.966,     0.96597,     0.96593,      0.9659,     0.96586,     0.96583,     0.96579,     0.96576,     0.96573,     0.96569,     0.96566,     0.96562,     0.96559,     0.96555,\n",
      "            0.96552,     0.96548,     0.96545,     0.96542,     0.96538,     0.96535,     0.96531,     0.96528,     0.96524,     0.96521,     0.96517,     0.96514,      0.9651,     0.96507,     0.96504,       0.965,     0.96497,     0.96493,      0.9649,     0.96486,     0.96483,     0.96479,     0.96476,\n",
      "            0.96472,     0.96469,     0.96466,     0.96462,     0.96459,     0.96455,     0.96452,     0.96448,     0.96445,     0.96441,     0.96438,     0.96434,     0.96431,     0.96428,     0.96424,     0.96421,     0.96417,     0.96414,      0.9641,     0.96407,     0.96403,       0.964,     0.96396,\n",
      "            0.96393,      0.9639,     0.96386,     0.96383,     0.96379,     0.96376,     0.96372,     0.96369,     0.96365,     0.96362,     0.96358,     0.96355,     0.96351,     0.96348,     0.96345,     0.96341,     0.96338,     0.96334,     0.96331,     0.96327,     0.96324,      0.9632,     0.96317,\n",
      "            0.96313,      0.9631,     0.96306,     0.96303,       0.963,     0.96296,     0.96293,     0.96289,     0.96286,     0.96282,     0.96279,     0.96275,     0.96272,     0.96268,     0.96265,     0.96261,     0.96258,     0.96254,     0.96251,     0.96248,     0.96244,     0.96241,     0.96237,\n",
      "            0.96234,      0.9623,     0.96227,     0.96223,      0.9622,     0.96216,     0.96213,     0.96209,     0.96206,     0.96202,     0.96199,     0.96195,     0.96192,     0.96189,     0.96185,     0.96167,     0.96133,     0.96099,     0.96065,      0.9603,     0.95996,     0.95962,     0.95928,\n",
      "            0.95893,     0.95859,     0.95825,      0.9579,     0.95756,     0.95722,     0.95687,     0.95653,     0.95618,     0.95584,     0.95549,     0.95515,      0.9548,     0.95445,     0.95411,     0.95381,     0.95366,     0.95351,     0.95336,     0.95321,     0.95306,     0.95291,     0.95276,\n",
      "            0.95261,     0.95246,     0.95231,     0.95216,       0.952,     0.95185,      0.9517,     0.95155,      0.9514,     0.95125,      0.9511,     0.95095,      0.9508,     0.95065,      0.9505,     0.95034,     0.95019,     0.95004,     0.94989,     0.94974,     0.94959,     0.94944,     0.94929,\n",
      "            0.94913,     0.94898,     0.94883,     0.94868,     0.94853,     0.94838,     0.94822,     0.94807,     0.94792,     0.94777,     0.94762,     0.94747,     0.94731,     0.94716,     0.94701,     0.94686,     0.94671,     0.94655,      0.9464,     0.94625,      0.9461,     0.94594,     0.94579,\n",
      "            0.94568,     0.94559,     0.94551,     0.94542,     0.94533,     0.94525,     0.94516,     0.94507,     0.94498,      0.9449,     0.94481,     0.94472,     0.94464,     0.94455,     0.94446,     0.94438,     0.94429,      0.9442,     0.94411,     0.94403,     0.94394,     0.94385,     0.94376,\n",
      "            0.94368,     0.94359,      0.9435,     0.94342,     0.94333,     0.94324,     0.94315,     0.94307,     0.94298,     0.94289,      0.9428,     0.94272,     0.94263,     0.94254,     0.94245,     0.94237,     0.94228,     0.94219,      0.9421,     0.94202,     0.94193,     0.94184,     0.94175,\n",
      "            0.94167,     0.94158,     0.94149,      0.9414,     0.94132,     0.94123,     0.94114,     0.94105,     0.94096,     0.94088,     0.94079,      0.9407,     0.94061,     0.94053,     0.94044,     0.94035,     0.94026,     0.94017,     0.94009,        0.94,     0.93991,     0.93982,     0.93974,\n",
      "            0.93965,     0.93956,     0.93947,     0.93938,      0.9393,     0.93921,     0.93912,     0.93903,     0.93894,     0.93886,     0.93877,     0.93868,     0.93859,      0.9385,     0.93841,     0.93833,     0.93824,     0.93815,     0.93806,     0.93797,     0.93789,      0.9378,     0.93771,\n",
      "            0.93762,     0.93753,     0.93606,     0.93375,     0.93144,     0.92911,     0.92674,     0.92435,     0.92195,     0.92087,     0.92139,     0.92191,     0.92243,     0.92295,     0.92347,     0.92399,      0.9245,     0.92502,     0.92553,     0.92605,     0.92656,     0.92708,     0.92759,\n",
      "            0.92784,     0.92702,     0.92621,     0.92539,     0.92457,     0.92375,     0.92293,      0.9221,     0.92128,     0.92045,     0.91963,     0.91899,     0.91845,     0.91791,     0.91737,     0.91683,     0.91628,     0.91574,      0.9152,     0.91465,     0.91411,     0.91356,     0.91302,\n",
      "            0.91247,     0.91192,     0.91137,     0.91083,     0.90945,     0.90734,     0.90522,     0.90309,     0.90146,     0.90088,      0.9003,     0.89972,     0.89914,     0.89856,     0.89798,      0.8974,     0.89682,     0.89623,     0.89565,     0.89507,     0.89448,      0.8939,     0.89331,\n",
      "            0.89272,      0.8921,     0.89146,     0.89081,     0.89017,     0.88953,     0.88888,     0.88824,     0.88759,     0.88694,     0.88629,     0.88564,       0.885,     0.88435,     0.88369,     0.88303,     0.88234,     0.88165,     0.88096,     0.88027,     0.87957,     0.87888,     0.87819,\n",
      "            0.87749,     0.87679,      0.8761,      0.8754,      0.8747,       0.874,     0.86746,     0.86265,     0.85954,     0.85642,     0.84873,     0.84274,     0.83977,     0.83678,     0.83324,     0.82857,     0.82329,     0.81454,     0.80928,     0.80414,     0.80246,      0.8012,     0.79994,\n",
      "            0.79868,     0.79742,     0.79615,     0.79488,     0.79361,     0.79231,     0.79096,     0.78961,     0.78826,     0.78691,     0.78555,     0.78419,     0.78282,     0.78046,     0.77531,      0.7596,     0.75477,     0.75024,     0.73953,     0.70767,     0.69215,      0.6781,     0.67109,\n",
      "            0.66692,     0.66274,     0.65308,     0.63716,     0.62728,     0.61931,      0.5751,     0.54332,     0.53678,     0.53018,     0.50657,     0.49608,     0.48555,     0.44038,     0.42872,     0.37472,     0.35361,     0.33599,     0.32103,     0.31371,     0.30633,     0.28321,     0.24211,\n",
      "            0.21553,      0.1693,     0.15923,     0.15257,     0.14586,      0.1391,    0.050819,           0,           0,           0,           0,           0,           0,           0,           0,           0,           0,           0,           0,           0,           0,           0,           0,\n",
      "                  0,           0,           0,           0,           0,           0,           0,           0,           0,           0,           0]]), 'Confidence', 'F1'], [array([          0,    0.001001,    0.002002,    0.003003,    0.004004,    0.005005,    0.006006,    0.007007,    0.008008,    0.009009,     0.01001,    0.011011,    0.012012,    0.013013,    0.014014,    0.015015,    0.016016,    0.017017,    0.018018,    0.019019,     0.02002,    0.021021,    0.022022,    0.023023,\n",
      "          0.024024,    0.025025,    0.026026,    0.027027,    0.028028,    0.029029,     0.03003,    0.031031,    0.032032,    0.033033,    0.034034,    0.035035,    0.036036,    0.037037,    0.038038,    0.039039,     0.04004,    0.041041,    0.042042,    0.043043,    0.044044,    0.045045,    0.046046,    0.047047,\n",
      "          0.048048,    0.049049,     0.05005,    0.051051,    0.052052,    0.053053,    0.054054,    0.055055,    0.056056,    0.057057,    0.058058,    0.059059,     0.06006,    0.061061,    0.062062,    0.063063,    0.064064,    0.065065,    0.066066,    0.067067,    0.068068,    0.069069,     0.07007,    0.071071,\n",
      "          0.072072,    0.073073,    0.074074,    0.075075,    0.076076,    0.077077,    0.078078,    0.079079,     0.08008,    0.081081,    0.082082,    0.083083,    0.084084,    0.085085,    0.086086,    0.087087,    0.088088,    0.089089,     0.09009,    0.091091,    0.092092,    0.093093,    0.094094,    0.095095,\n",
      "          0.096096,    0.097097,    0.098098,    0.099099,      0.1001,      0.1011,      0.1021,      0.1031,      0.1041,     0.10511,     0.10611,     0.10711,     0.10811,     0.10911,     0.11011,     0.11111,     0.11211,     0.11311,     0.11411,     0.11512,     0.11612,     0.11712,     0.11812,     0.11912,\n",
      "           0.12012,     0.12112,     0.12212,     0.12312,     0.12412,     0.12513,     0.12613,     0.12713,     0.12813,     0.12913,     0.13013,     0.13113,     0.13213,     0.13313,     0.13413,     0.13514,     0.13614,     0.13714,     0.13814,     0.13914,     0.14014,     0.14114,     0.14214,     0.14314,\n",
      "           0.14414,     0.14515,     0.14615,     0.14715,     0.14815,     0.14915,     0.15015,     0.15115,     0.15215,     0.15315,     0.15415,     0.15516,     0.15616,     0.15716,     0.15816,     0.15916,     0.16016,     0.16116,     0.16216,     0.16316,     0.16416,     0.16517,     0.16617,     0.16717,\n",
      "           0.16817,     0.16917,     0.17017,     0.17117,     0.17217,     0.17317,     0.17417,     0.17518,     0.17618,     0.17718,     0.17818,     0.17918,     0.18018,     0.18118,     0.18218,     0.18318,     0.18418,     0.18519,     0.18619,     0.18719,     0.18819,     0.18919,     0.19019,     0.19119,\n",
      "           0.19219,     0.19319,     0.19419,      0.1952,      0.1962,      0.1972,      0.1982,      0.1992,      0.2002,      0.2012,      0.2022,      0.2032,      0.2042,     0.20521,     0.20621,     0.20721,     0.20821,     0.20921,     0.21021,     0.21121,     0.21221,     0.21321,     0.21421,     0.21522,\n",
      "           0.21622,     0.21722,     0.21822,     0.21922,     0.22022,     0.22122,     0.22222,     0.22322,     0.22422,     0.22523,     0.22623,     0.22723,     0.22823,     0.22923,     0.23023,     0.23123,     0.23223,     0.23323,     0.23423,     0.23524,     0.23624,     0.23724,     0.23824,     0.23924,\n",
      "           0.24024,     0.24124,     0.24224,     0.24324,     0.24424,     0.24525,     0.24625,     0.24725,     0.24825,     0.24925,     0.25025,     0.25125,     0.25225,     0.25325,     0.25425,     0.25526,     0.25626,     0.25726,     0.25826,     0.25926,     0.26026,     0.26126,     0.26226,     0.26326,\n",
      "           0.26426,     0.26527,     0.26627,     0.26727,     0.26827,     0.26927,     0.27027,     0.27127,     0.27227,     0.27327,     0.27427,     0.27528,     0.27628,     0.27728,     0.27828,     0.27928,     0.28028,     0.28128,     0.28228,     0.28328,     0.28428,     0.28529,     0.28629,     0.28729,\n",
      "           0.28829,     0.28929,     0.29029,     0.29129,     0.29229,     0.29329,     0.29429,      0.2953,      0.2963,      0.2973,      0.2983,      0.2993,      0.3003,      0.3013,      0.3023,      0.3033,      0.3043,     0.30531,     0.30631,     0.30731,     0.30831,     0.30931,     0.31031,     0.31131,\n",
      "           0.31231,     0.31331,     0.31431,     0.31532,     0.31632,     0.31732,     0.31832,     0.31932,     0.32032,     0.32132,     0.32232,     0.32332,     0.32432,     0.32533,     0.32633,     0.32733,     0.32833,     0.32933,     0.33033,     0.33133,     0.33233,     0.33333,     0.33433,     0.33534,\n",
      "           0.33634,     0.33734,     0.33834,     0.33934,     0.34034,     0.34134,     0.34234,     0.34334,     0.34434,     0.34535,     0.34635,     0.34735,     0.34835,     0.34935,     0.35035,     0.35135,     0.35235,     0.35335,     0.35435,     0.35536,     0.35636,     0.35736,     0.35836,     0.35936,\n",
      "           0.36036,     0.36136,     0.36236,     0.36336,     0.36436,     0.36537,     0.36637,     0.36737,     0.36837,     0.36937,     0.37037,     0.37137,     0.37237,     0.37337,     0.37437,     0.37538,     0.37638,     0.37738,     0.37838,     0.37938,     0.38038,     0.38138,     0.38238,     0.38338,\n",
      "           0.38438,     0.38539,     0.38639,     0.38739,     0.38839,     0.38939,     0.39039,     0.39139,     0.39239,     0.39339,     0.39439,      0.3954,      0.3964,      0.3974,      0.3984,      0.3994,      0.4004,      0.4014,      0.4024,      0.4034,      0.4044,     0.40541,     0.40641,     0.40741,\n",
      "           0.40841,     0.40941,     0.41041,     0.41141,     0.41241,     0.41341,     0.41441,     0.41542,     0.41642,     0.41742,     0.41842,     0.41942,     0.42042,     0.42142,     0.42242,     0.42342,     0.42442,     0.42543,     0.42643,     0.42743,     0.42843,     0.42943,     0.43043,     0.43143,\n",
      "           0.43243,     0.43343,     0.43443,     0.43544,     0.43644,     0.43744,     0.43844,     0.43944,     0.44044,     0.44144,     0.44244,     0.44344,     0.44444,     0.44545,     0.44645,     0.44745,     0.44845,     0.44945,     0.45045,     0.45145,     0.45245,     0.45345,     0.45445,     0.45546,\n",
      "           0.45646,     0.45746,     0.45846,     0.45946,     0.46046,     0.46146,     0.46246,     0.46346,     0.46446,     0.46547,     0.46647,     0.46747,     0.46847,     0.46947,     0.47047,     0.47147,     0.47247,     0.47347,     0.47447,     0.47548,     0.47648,     0.47748,     0.47848,     0.47948,\n",
      "           0.48048,     0.48148,     0.48248,     0.48348,     0.48448,     0.48549,     0.48649,     0.48749,     0.48849,     0.48949,     0.49049,     0.49149,     0.49249,     0.49349,     0.49449,      0.4955,      0.4965,      0.4975,      0.4985,      0.4995,      0.5005,      0.5015,      0.5025,      0.5035,\n",
      "            0.5045,     0.50551,     0.50651,     0.50751,     0.50851,     0.50951,     0.51051,     0.51151,     0.51251,     0.51351,     0.51451,     0.51552,     0.51652,     0.51752,     0.51852,     0.51952,     0.52052,     0.52152,     0.52252,     0.52352,     0.52452,     0.52553,     0.52653,     0.52753,\n",
      "           0.52853,     0.52953,     0.53053,     0.53153,     0.53253,     0.53353,     0.53453,     0.53554,     0.53654,     0.53754,     0.53854,     0.53954,     0.54054,     0.54154,     0.54254,     0.54354,     0.54454,     0.54555,     0.54655,     0.54755,     0.54855,     0.54955,     0.55055,     0.55155,\n",
      "           0.55255,     0.55355,     0.55455,     0.55556,     0.55656,     0.55756,     0.55856,     0.55956,     0.56056,     0.56156,     0.56256,     0.56356,     0.56456,     0.56557,     0.56657,     0.56757,     0.56857,     0.56957,     0.57057,     0.57157,     0.57257,     0.57357,     0.57457,     0.57558,\n",
      "           0.57658,     0.57758,     0.57858,     0.57958,     0.58058,     0.58158,     0.58258,     0.58358,     0.58458,     0.58559,     0.58659,     0.58759,     0.58859,     0.58959,     0.59059,     0.59159,     0.59259,     0.59359,     0.59459,      0.5956,      0.5966,      0.5976,      0.5986,      0.5996,\n",
      "            0.6006,      0.6016,      0.6026,      0.6036,      0.6046,     0.60561,     0.60661,     0.60761,     0.60861,     0.60961,     0.61061,     0.61161,     0.61261,     0.61361,     0.61461,     0.61562,     0.61662,     0.61762,     0.61862,     0.61962,     0.62062,     0.62162,     0.62262,     0.62362,\n",
      "           0.62462,     0.62563,     0.62663,     0.62763,     0.62863,     0.62963,     0.63063,     0.63163,     0.63263,     0.63363,     0.63463,     0.63564,     0.63664,     0.63764,     0.63864,     0.63964,     0.64064,     0.64164,     0.64264,     0.64364,     0.64464,     0.64565,     0.64665,     0.64765,\n",
      "           0.64865,     0.64965,     0.65065,     0.65165,     0.65265,     0.65365,     0.65465,     0.65566,     0.65666,     0.65766,     0.65866,     0.65966,     0.66066,     0.66166,     0.66266,     0.66366,     0.66466,     0.66567,     0.66667,     0.66767,     0.66867,     0.66967,     0.67067,     0.67167,\n",
      "           0.67267,     0.67367,     0.67467,     0.67568,     0.67668,     0.67768,     0.67868,     0.67968,     0.68068,     0.68168,     0.68268,     0.68368,     0.68468,     0.68569,     0.68669,     0.68769,     0.68869,     0.68969,     0.69069,     0.69169,     0.69269,     0.69369,     0.69469,      0.6957,\n",
      "            0.6967,      0.6977,      0.6987,      0.6997,      0.7007,      0.7017,      0.7027,      0.7037,      0.7047,     0.70571,     0.70671,     0.70771,     0.70871,     0.70971,     0.71071,     0.71171,     0.71271,     0.71371,     0.71471,     0.71572,     0.71672,     0.71772,     0.71872,     0.71972,\n",
      "           0.72072,     0.72172,     0.72272,     0.72372,     0.72472,     0.72573,     0.72673,     0.72773,     0.72873,     0.72973,     0.73073,     0.73173,     0.73273,     0.73373,     0.73473,     0.73574,     0.73674,     0.73774,     0.73874,     0.73974,     0.74074,     0.74174,     0.74274,     0.74374,\n",
      "           0.74474,     0.74575,     0.74675,     0.74775,     0.74875,     0.74975,     0.75075,     0.75175,     0.75275,     0.75375,     0.75475,     0.75576,     0.75676,     0.75776,     0.75876,     0.75976,     0.76076,     0.76176,     0.76276,     0.76376,     0.76476,     0.76577,     0.76677,     0.76777,\n",
      "           0.76877,     0.76977,     0.77077,     0.77177,     0.77277,     0.77377,     0.77477,     0.77578,     0.77678,     0.77778,     0.77878,     0.77978,     0.78078,     0.78178,     0.78278,     0.78378,     0.78478,     0.78579,     0.78679,     0.78779,     0.78879,     0.78979,     0.79079,     0.79179,\n",
      "           0.79279,     0.79379,     0.79479,      0.7958,      0.7968,      0.7978,      0.7988,      0.7998,      0.8008,      0.8018,      0.8028,      0.8038,      0.8048,     0.80581,     0.80681,     0.80781,     0.80881,     0.80981,     0.81081,     0.81181,     0.81281,     0.81381,     0.81481,     0.81582,\n",
      "           0.81682,     0.81782,     0.81882,     0.81982,     0.82082,     0.82182,     0.82282,     0.82382,     0.82482,     0.82583,     0.82683,     0.82783,     0.82883,     0.82983,     0.83083,     0.83183,     0.83283,     0.83383,     0.83483,     0.83584,     0.83684,     0.83784,     0.83884,     0.83984,\n",
      "           0.84084,     0.84184,     0.84284,     0.84384,     0.84484,     0.84585,     0.84685,     0.84785,     0.84885,     0.84985,     0.85085,     0.85185,     0.85285,     0.85385,     0.85485,     0.85586,     0.85686,     0.85786,     0.85886,     0.85986,     0.86086,     0.86186,     0.86286,     0.86386,\n",
      "           0.86486,     0.86587,     0.86687,     0.86787,     0.86887,     0.86987,     0.87087,     0.87187,     0.87287,     0.87387,     0.87487,     0.87588,     0.87688,     0.87788,     0.87888,     0.87988,     0.88088,     0.88188,     0.88288,     0.88388,     0.88488,     0.88589,     0.88689,     0.88789,\n",
      "           0.88889,     0.88989,     0.89089,     0.89189,     0.89289,     0.89389,     0.89489,      0.8959,      0.8969,      0.8979,      0.8989,      0.8999,      0.9009,      0.9019,      0.9029,      0.9039,      0.9049,     0.90591,     0.90691,     0.90791,     0.90891,     0.90991,     0.91091,     0.91191,\n",
      "           0.91291,     0.91391,     0.91491,     0.91592,     0.91692,     0.91792,     0.91892,     0.91992,     0.92092,     0.92192,     0.92292,     0.92392,     0.92492,     0.92593,     0.92693,     0.92793,     0.92893,     0.92993,     0.93093,     0.93193,     0.93293,     0.93393,     0.93493,     0.93594,\n",
      "           0.93694,     0.93794,     0.93894,     0.93994,     0.94094,     0.94194,     0.94294,     0.94394,     0.94494,     0.94595,     0.94695,     0.94795,     0.94895,     0.94995,     0.95095,     0.95195,     0.95295,     0.95395,     0.95495,     0.95596,     0.95696,     0.95796,     0.95896,     0.95996,\n",
      "           0.96096,     0.96196,     0.96296,     0.96396,     0.96496,     0.96597,     0.96697,     0.96797,     0.96897,     0.96997,     0.97097,     0.97197,     0.97297,     0.97397,     0.97497,     0.97598,     0.97698,     0.97798,     0.97898,     0.97998,     0.98098,     0.98198,     0.98298,     0.98398,\n",
      "           0.98498,     0.98599,     0.98699,     0.98799,     0.98899,     0.98999,     0.99099,     0.99199,     0.99299,     0.99399,     0.99499,       0.996,       0.997,       0.998,       0.999,           1]), array([[   0.014839,    0.014884,     0.22018,     0.43203,     0.57553,     0.62078,      0.6618,     0.68844,     0.71414,     0.72689,     0.73066,     0.74199,     0.74796,     0.76386,     0.78589,     0.78934,     0.79278,     0.80107,     0.81821,     0.82687,     0.83265,     0.83709,     0.84029,\n",
      "            0.84348,     0.84644,     0.84821,     0.84997,     0.85174,      0.8535,     0.85527,     0.85703,     0.86034,     0.86375,     0.86717,     0.86905,     0.87004,     0.87102,     0.87201,       0.873,     0.87399,     0.87498,     0.87597,     0.87696,     0.87795,     0.87894,     0.87993,\n",
      "            0.88201,     0.88418,     0.88635,     0.88853,      0.8907,      0.8917,     0.89129,     0.89087,     0.89046,     0.89213,     0.89406,       0.896,     0.89793,     0.89986,      0.9018,     0.90299,     0.90342,     0.90386,     0.90429,     0.90472,     0.90516,     0.90559,     0.90602,\n",
      "            0.90646,     0.90689,     0.90732,     0.90776,     0.90819,     0.90862,     0.90906,     0.90949,     0.90992,     0.91036,     0.91079,     0.91122,     0.91166,     0.91209,     0.91252,     0.91296,     0.91339,     0.91382,     0.91426,     0.91469,     0.91512,     0.91549,     0.91545,\n",
      "            0.91541,     0.91537,     0.91532,     0.91528,     0.91524,      0.9152,     0.91516,     0.91512,     0.91508,     0.91504,       0.915,     0.91496,     0.91492,     0.91488,     0.91484,      0.9148,     0.91476,     0.91472,     0.91467,     0.91463,     0.91459,     0.91455,     0.91451,\n",
      "            0.91447,     0.91443,     0.91439,     0.91435,     0.91431,     0.91436,     0.91455,     0.91473,     0.91491,      0.9151,     0.91528,     0.91546,     0.91564,     0.91583,     0.91601,     0.91619,     0.91637,     0.91656,     0.91674,     0.91692,     0.91711,     0.91729,     0.91747,\n",
      "            0.91765,     0.91784,     0.91802,      0.9182,     0.91839,     0.91857,     0.91875,     0.91893,     0.91912,      0.9193,     0.91948,     0.91967,     0.91985,     0.92003,     0.92021,      0.9204,     0.92058,     0.92076,     0.92094,     0.92113,     0.92131,     0.92149,     0.92168,\n",
      "            0.92186,     0.92204,     0.92222,     0.92241,     0.92259,     0.92277,     0.92296,     0.92314,     0.92332,      0.9235,     0.92369,     0.92387,     0.92405,     0.92424,     0.92442,      0.9246,     0.92478,     0.92497,     0.92515,     0.92533,     0.92552,      0.9257,     0.92588,\n",
      "            0.92606,     0.92625,     0.92643,     0.92661,     0.92679,     0.92698,     0.92716,     0.92734,     0.92753,     0.92814,     0.92879,     0.92943,     0.93007,     0.93072,     0.93136,       0.932,     0.93265,     0.93329,     0.93393,     0.93458,     0.93522,     0.93586,     0.93651,\n",
      "            0.93715,     0.93779,     0.93844,     0.93908,     0.93972,     0.94037,     0.94101,      0.9413,     0.94147,     0.94163,      0.9418,     0.94197,     0.94214,      0.9423,     0.94247,     0.94264,      0.9428,     0.94297,     0.94314,     0.94331,     0.94347,     0.94364,     0.94381,\n",
      "            0.94397,     0.94414,     0.94431,     0.94447,     0.94464,     0.94481,     0.94498,     0.94514,     0.94531,     0.94548,     0.94564,     0.94581,     0.94598,     0.94615,     0.94631,     0.94648,     0.94665,     0.94681,     0.94698,     0.94715,     0.94732,     0.94748,     0.94765,\n",
      "            0.94782,     0.94798,     0.94815,     0.94832,     0.94848,     0.94865,     0.94882,     0.94899,     0.94915,     0.94932,     0.94949,     0.94965,     0.94982,     0.94999,     0.95016,     0.95032,     0.95049,     0.95066,     0.95082,     0.95099,     0.95116,     0.95133,     0.95149,\n",
      "            0.95166,     0.95183,     0.95199,     0.95216,     0.95233,     0.95249,     0.95266,     0.95283,       0.953,     0.95316,     0.95333,      0.9535,     0.95366,     0.95383,       0.954,     0.95417,     0.95433,      0.9545,     0.95467,     0.95483,       0.955,     0.95517,     0.95536,\n",
      "            0.95557,     0.95578,     0.95599,     0.95619,      0.9564,     0.95661,     0.95682,     0.95703,     0.95723,     0.95744,     0.95765,     0.95786,     0.95807,     0.95827,     0.95848,     0.95869,      0.9589,     0.95911,     0.95931,     0.95952,     0.95973,     0.95994,     0.96015,\n",
      "            0.96035,     0.96056,     0.96077,     0.96098,     0.96118,     0.96139,      0.9616,     0.96181,     0.96202,     0.96222,     0.96243,     0.96264,     0.96285,     0.96306,     0.96326,     0.96347,     0.96368,     0.96389,      0.9641,      0.9643,     0.96451,     0.96472,     0.96493,\n",
      "            0.96514,     0.96534,     0.96555,     0.96576,     0.96597,     0.96618,     0.96638,     0.96659,      0.9668,     0.96701,     0.96722,     0.96742,     0.96763,     0.96784,     0.96805,     0.96826,     0.96846,     0.96867,     0.96888,     0.96909,      0.9693,      0.9695,     0.96972,\n",
      "            0.97009,     0.97046,     0.97083,      0.9712,     0.97157,     0.97194,     0.97231,     0.97268,     0.97304,     0.97341,     0.97378,     0.97415,     0.97452,     0.97489,     0.97526,     0.97563,       0.976,     0.97637,     0.97673,      0.9771,     0.97747,     0.97784,     0.97821,\n",
      "            0.97858,     0.97895,     0.97932,     0.97969,     0.98006,     0.98042,     0.98079,     0.98116,     0.98153,      0.9819,     0.98227,     0.98264,     0.98301,     0.98338,     0.98375,     0.98412,     0.98448,     0.98461,     0.98461,     0.98461,     0.98461,     0.98461,     0.98461,\n",
      "            0.98461,     0.98461,     0.98461,     0.98461,      0.9846,      0.9846,      0.9846,      0.9846,      0.9846,      0.9846,      0.9846,      0.9846,      0.9846,     0.98459,     0.98459,     0.98459,     0.98459,     0.98459,     0.98459,     0.98459,     0.98459,     0.98459,     0.98459,\n",
      "            0.98458,     0.98458,     0.98458,     0.98458,     0.98458,     0.98458,     0.98458,     0.98458,     0.98458,     0.98457,     0.98457,     0.98457,     0.98457,     0.98457,     0.98457,     0.98457,     0.98457,     0.98457,     0.98457,     0.98456,     0.98456,     0.98456,     0.98456,\n",
      "            0.98456,     0.98456,     0.98456,     0.98456,     0.98456,     0.98455,     0.98455,     0.98455,     0.98455,     0.98455,     0.98455,     0.98455,     0.98455,     0.98455,     0.98455,     0.98454,     0.98454,     0.98454,     0.98454,     0.98454,     0.98454,     0.98454,     0.98454,\n",
      "            0.98454,     0.98453,     0.98453,     0.98453,     0.98453,     0.98453,     0.98453,     0.98453,     0.98453,     0.98453,     0.98453,     0.98452,     0.98452,     0.98452,     0.98452,     0.98452,     0.98452,     0.98452,     0.98452,     0.98452,     0.98451,     0.98451,     0.98451,\n",
      "            0.98451,     0.98451,     0.98451,     0.98451,     0.98451,     0.98451,     0.98451,      0.9845,      0.9845,      0.9845,      0.9845,      0.9845,      0.9845,      0.9845,      0.9845,      0.9845,     0.98449,     0.98449,     0.98449,     0.98449,     0.98449,     0.98449,     0.98449,\n",
      "            0.98449,     0.98449,     0.98449,     0.98448,     0.98448,     0.98448,     0.98448,     0.98448,     0.98448,     0.98448,     0.98448,     0.98448,     0.98447,     0.98447,     0.98447,     0.98447,     0.98447,     0.98447,     0.98447,     0.98447,     0.98447,     0.98447,     0.98446,\n",
      "            0.98446,     0.98446,     0.98446,     0.98446,     0.98446,     0.98446,     0.98446,     0.98446,     0.98445,     0.98445,     0.98445,     0.98445,     0.98445,     0.98445,     0.98445,     0.98445,     0.98445,     0.98445,     0.98444,     0.98444,     0.98444,     0.98444,     0.98444,\n",
      "            0.98444,     0.98444,     0.98444,     0.98444,     0.98443,     0.98443,     0.98443,     0.98443,     0.98443,     0.98443,     0.98443,     0.98443,     0.98443,     0.98443,     0.98442,     0.98442,     0.98442,     0.98442,     0.98442,     0.98442,     0.98442,     0.98442,     0.98442,\n",
      "            0.98441,     0.98441,     0.98441,     0.98441,     0.98441,     0.98441,     0.98441,     0.98441,     0.98441,     0.98441,      0.9844,      0.9844,      0.9844,      0.9844,      0.9844,      0.9844,      0.9844,      0.9844,      0.9844,     0.98439,     0.98439,     0.98439,     0.98439,\n",
      "            0.98439,     0.98439,     0.98439,     0.98439,     0.98439,     0.98439,     0.98438,     0.98438,     0.98438,     0.98438,     0.98438,     0.98438,     0.98438,     0.98438,     0.98438,     0.98437,     0.98436,     0.98435,     0.98434,     0.98433,     0.98432,     0.98431,      0.9843,\n",
      "            0.98428,     0.98427,     0.98426,     0.98425,     0.98424,     0.98423,     0.98422,     0.98421,      0.9842,     0.98419,     0.98418,     0.98417,     0.98416,     0.98415,     0.98414,     0.98413,     0.98412,     0.98412,     0.98411,     0.98411,      0.9841,      0.9841,     0.98409,\n",
      "            0.98409,     0.98408,     0.98408,     0.98407,     0.98407,     0.98406,     0.98406,     0.98405,     0.98405,     0.98404,     0.98404,     0.98404,     0.98403,     0.98403,     0.98402,     0.98402,     0.98401,     0.98401,       0.984,       0.984,     0.98399,     0.98399,     0.98398,\n",
      "            0.98398,     0.98397,     0.98397,     0.98396,     0.98396,     0.98395,     0.98395,     0.98394,     0.98394,     0.98393,     0.98393,     0.98393,     0.98392,     0.98392,     0.98391,     0.98391,      0.9839,      0.9839,     0.98389,     0.98389,     0.98388,     0.98388,     0.98387,\n",
      "            0.98387,     0.98387,     0.98386,     0.98386,     0.98386,     0.98386,     0.98385,     0.98385,     0.98385,     0.98384,     0.98384,     0.98384,     0.98384,     0.98383,     0.98383,     0.98383,     0.98382,     0.98382,     0.98382,     0.98382,     0.98381,     0.98381,     0.98381,\n",
      "             0.9838,      0.9838,      0.9838,      0.9838,     0.98379,     0.98379,     0.98379,     0.98378,     0.98378,     0.98378,     0.98378,     0.98377,     0.98377,     0.98377,     0.98377,     0.98376,     0.98376,     0.98376,     0.98375,     0.98375,     0.98375,     0.98375,     0.98374,\n",
      "            0.98374,     0.98374,     0.98373,     0.98373,     0.98373,     0.98373,     0.98372,     0.98372,     0.98372,     0.98371,     0.98371,     0.98371,     0.98371,      0.9837,      0.9837,      0.9837,     0.98369,     0.98369,     0.98369,     0.98369,     0.98368,     0.98368,     0.98368,\n",
      "            0.98368,     0.98367,     0.98367,     0.98367,     0.98366,     0.98366,     0.98366,     0.98366,     0.98365,     0.98365,     0.98365,     0.98364,     0.98364,     0.98364,     0.98364,     0.98363,     0.98363,     0.98363,     0.98362,     0.98362,     0.98362,     0.98362,     0.98361,\n",
      "            0.98361,     0.98361,     0.98356,     0.98348,     0.98341,     0.98333,     0.98325,     0.98317,     0.98309,     0.98359,     0.98478,     0.98597,     0.98716,     0.98835,     0.98954,     0.99073,     0.99191,      0.9931,     0.99429,     0.99548,     0.99667,     0.99786,     0.99905,\n",
      "                  1,           1,           1,           1,           1,           1,           1,           1,           1,           1,           1,           1,           1,           1,           1,           1,           1,           1,           1,           1,           1,           1,           1,\n",
      "                  1,           1,           1,           1,           1,           1,           1,           1,           1,           1,           1,           1,           1,           1,           1,           1,           1,           1,           1,           1,           1,           1,           1,\n",
      "                  1,           1,           1,           1,           1,           1,           1,           1,           1,           1,           1,           1,           1,           1,           1,           1,           1,           1,           1,           1,           1,           1,           1,\n",
      "                  1,           1,           1,           1,           1,           1,           1,           1,           1,           1,           1,           1,           1,           1,           1,           1,           1,           1,           1,           1,           1,           1,           1,\n",
      "                  1,           1,           1,           1,           1,           1,           1,           1,           1,           1,           1,           1,           1,           1,           1,           1,           1,           1,           1,           1,           1,           1,           1,\n",
      "                  1,           1,           1,           1,           1,           1,           1,           1,           1,           1,           1,           1,           1,           1,           1,           1,           1,           1,           1,           1,           1,           1,           1,\n",
      "                  1,           1,           1,           1,           1,           1,           1,           1,           1,           1,           1,           1,           1,           1,           1,           1,           1,           1,           1,           1,           1,           1,           1,\n",
      "                  1,           1,           1,           1,           1,           1,           1,           1,           1,           1,           1]]), 'Confidence', 'Precision'], [array([          0,    0.001001,    0.002002,    0.003003,    0.004004,    0.005005,    0.006006,    0.007007,    0.008008,    0.009009,     0.01001,    0.011011,    0.012012,    0.013013,    0.014014,    0.015015,    0.016016,    0.017017,    0.018018,    0.019019,     0.02002,    0.021021,    0.022022,    0.023023,\n",
      "          0.024024,    0.025025,    0.026026,    0.027027,    0.028028,    0.029029,     0.03003,    0.031031,    0.032032,    0.033033,    0.034034,    0.035035,    0.036036,    0.037037,    0.038038,    0.039039,     0.04004,    0.041041,    0.042042,    0.043043,    0.044044,    0.045045,    0.046046,    0.047047,\n",
      "          0.048048,    0.049049,     0.05005,    0.051051,    0.052052,    0.053053,    0.054054,    0.055055,    0.056056,    0.057057,    0.058058,    0.059059,     0.06006,    0.061061,    0.062062,    0.063063,    0.064064,    0.065065,    0.066066,    0.067067,    0.068068,    0.069069,     0.07007,    0.071071,\n",
      "          0.072072,    0.073073,    0.074074,    0.075075,    0.076076,    0.077077,    0.078078,    0.079079,     0.08008,    0.081081,    0.082082,    0.083083,    0.084084,    0.085085,    0.086086,    0.087087,    0.088088,    0.089089,     0.09009,    0.091091,    0.092092,    0.093093,    0.094094,    0.095095,\n",
      "          0.096096,    0.097097,    0.098098,    0.099099,      0.1001,      0.1011,      0.1021,      0.1031,      0.1041,     0.10511,     0.10611,     0.10711,     0.10811,     0.10911,     0.11011,     0.11111,     0.11211,     0.11311,     0.11411,     0.11512,     0.11612,     0.11712,     0.11812,     0.11912,\n",
      "           0.12012,     0.12112,     0.12212,     0.12312,     0.12412,     0.12513,     0.12613,     0.12713,     0.12813,     0.12913,     0.13013,     0.13113,     0.13213,     0.13313,     0.13413,     0.13514,     0.13614,     0.13714,     0.13814,     0.13914,     0.14014,     0.14114,     0.14214,     0.14314,\n",
      "           0.14414,     0.14515,     0.14615,     0.14715,     0.14815,     0.14915,     0.15015,     0.15115,     0.15215,     0.15315,     0.15415,     0.15516,     0.15616,     0.15716,     0.15816,     0.15916,     0.16016,     0.16116,     0.16216,     0.16316,     0.16416,     0.16517,     0.16617,     0.16717,\n",
      "           0.16817,     0.16917,     0.17017,     0.17117,     0.17217,     0.17317,     0.17417,     0.17518,     0.17618,     0.17718,     0.17818,     0.17918,     0.18018,     0.18118,     0.18218,     0.18318,     0.18418,     0.18519,     0.18619,     0.18719,     0.18819,     0.18919,     0.19019,     0.19119,\n",
      "           0.19219,     0.19319,     0.19419,      0.1952,      0.1962,      0.1972,      0.1982,      0.1992,      0.2002,      0.2012,      0.2022,      0.2032,      0.2042,     0.20521,     0.20621,     0.20721,     0.20821,     0.20921,     0.21021,     0.21121,     0.21221,     0.21321,     0.21421,     0.21522,\n",
      "           0.21622,     0.21722,     0.21822,     0.21922,     0.22022,     0.22122,     0.22222,     0.22322,     0.22422,     0.22523,     0.22623,     0.22723,     0.22823,     0.22923,     0.23023,     0.23123,     0.23223,     0.23323,     0.23423,     0.23524,     0.23624,     0.23724,     0.23824,     0.23924,\n",
      "           0.24024,     0.24124,     0.24224,     0.24324,     0.24424,     0.24525,     0.24625,     0.24725,     0.24825,     0.24925,     0.25025,     0.25125,     0.25225,     0.25325,     0.25425,     0.25526,     0.25626,     0.25726,     0.25826,     0.25926,     0.26026,     0.26126,     0.26226,     0.26326,\n",
      "           0.26426,     0.26527,     0.26627,     0.26727,     0.26827,     0.26927,     0.27027,     0.27127,     0.27227,     0.27327,     0.27427,     0.27528,     0.27628,     0.27728,     0.27828,     0.27928,     0.28028,     0.28128,     0.28228,     0.28328,     0.28428,     0.28529,     0.28629,     0.28729,\n",
      "           0.28829,     0.28929,     0.29029,     0.29129,     0.29229,     0.29329,     0.29429,      0.2953,      0.2963,      0.2973,      0.2983,      0.2993,      0.3003,      0.3013,      0.3023,      0.3033,      0.3043,     0.30531,     0.30631,     0.30731,     0.30831,     0.30931,     0.31031,     0.31131,\n",
      "           0.31231,     0.31331,     0.31431,     0.31532,     0.31632,     0.31732,     0.31832,     0.31932,     0.32032,     0.32132,     0.32232,     0.32332,     0.32432,     0.32533,     0.32633,     0.32733,     0.32833,     0.32933,     0.33033,     0.33133,     0.33233,     0.33333,     0.33433,     0.33534,\n",
      "           0.33634,     0.33734,     0.33834,     0.33934,     0.34034,     0.34134,     0.34234,     0.34334,     0.34434,     0.34535,     0.34635,     0.34735,     0.34835,     0.34935,     0.35035,     0.35135,     0.35235,     0.35335,     0.35435,     0.35536,     0.35636,     0.35736,     0.35836,     0.35936,\n",
      "           0.36036,     0.36136,     0.36236,     0.36336,     0.36436,     0.36537,     0.36637,     0.36737,     0.36837,     0.36937,     0.37037,     0.37137,     0.37237,     0.37337,     0.37437,     0.37538,     0.37638,     0.37738,     0.37838,     0.37938,     0.38038,     0.38138,     0.38238,     0.38338,\n",
      "           0.38438,     0.38539,     0.38639,     0.38739,     0.38839,     0.38939,     0.39039,     0.39139,     0.39239,     0.39339,     0.39439,      0.3954,      0.3964,      0.3974,      0.3984,      0.3994,      0.4004,      0.4014,      0.4024,      0.4034,      0.4044,     0.40541,     0.40641,     0.40741,\n",
      "           0.40841,     0.40941,     0.41041,     0.41141,     0.41241,     0.41341,     0.41441,     0.41542,     0.41642,     0.41742,     0.41842,     0.41942,     0.42042,     0.42142,     0.42242,     0.42342,     0.42442,     0.42543,     0.42643,     0.42743,     0.42843,     0.42943,     0.43043,     0.43143,\n",
      "           0.43243,     0.43343,     0.43443,     0.43544,     0.43644,     0.43744,     0.43844,     0.43944,     0.44044,     0.44144,     0.44244,     0.44344,     0.44444,     0.44545,     0.44645,     0.44745,     0.44845,     0.44945,     0.45045,     0.45145,     0.45245,     0.45345,     0.45445,     0.45546,\n",
      "           0.45646,     0.45746,     0.45846,     0.45946,     0.46046,     0.46146,     0.46246,     0.46346,     0.46446,     0.46547,     0.46647,     0.46747,     0.46847,     0.46947,     0.47047,     0.47147,     0.47247,     0.47347,     0.47447,     0.47548,     0.47648,     0.47748,     0.47848,     0.47948,\n",
      "           0.48048,     0.48148,     0.48248,     0.48348,     0.48448,     0.48549,     0.48649,     0.48749,     0.48849,     0.48949,     0.49049,     0.49149,     0.49249,     0.49349,     0.49449,      0.4955,      0.4965,      0.4975,      0.4985,      0.4995,      0.5005,      0.5015,      0.5025,      0.5035,\n",
      "            0.5045,     0.50551,     0.50651,     0.50751,     0.50851,     0.50951,     0.51051,     0.51151,     0.51251,     0.51351,     0.51451,     0.51552,     0.51652,     0.51752,     0.51852,     0.51952,     0.52052,     0.52152,     0.52252,     0.52352,     0.52452,     0.52553,     0.52653,     0.52753,\n",
      "           0.52853,     0.52953,     0.53053,     0.53153,     0.53253,     0.53353,     0.53453,     0.53554,     0.53654,     0.53754,     0.53854,     0.53954,     0.54054,     0.54154,     0.54254,     0.54354,     0.54454,     0.54555,     0.54655,     0.54755,     0.54855,     0.54955,     0.55055,     0.55155,\n",
      "           0.55255,     0.55355,     0.55455,     0.55556,     0.55656,     0.55756,     0.55856,     0.55956,     0.56056,     0.56156,     0.56256,     0.56356,     0.56456,     0.56557,     0.56657,     0.56757,     0.56857,     0.56957,     0.57057,     0.57157,     0.57257,     0.57357,     0.57457,     0.57558,\n",
      "           0.57658,     0.57758,     0.57858,     0.57958,     0.58058,     0.58158,     0.58258,     0.58358,     0.58458,     0.58559,     0.58659,     0.58759,     0.58859,     0.58959,     0.59059,     0.59159,     0.59259,     0.59359,     0.59459,      0.5956,      0.5966,      0.5976,      0.5986,      0.5996,\n",
      "            0.6006,      0.6016,      0.6026,      0.6036,      0.6046,     0.60561,     0.60661,     0.60761,     0.60861,     0.60961,     0.61061,     0.61161,     0.61261,     0.61361,     0.61461,     0.61562,     0.61662,     0.61762,     0.61862,     0.61962,     0.62062,     0.62162,     0.62262,     0.62362,\n",
      "           0.62462,     0.62563,     0.62663,     0.62763,     0.62863,     0.62963,     0.63063,     0.63163,     0.63263,     0.63363,     0.63463,     0.63564,     0.63664,     0.63764,     0.63864,     0.63964,     0.64064,     0.64164,     0.64264,     0.64364,     0.64464,     0.64565,     0.64665,     0.64765,\n",
      "           0.64865,     0.64965,     0.65065,     0.65165,     0.65265,     0.65365,     0.65465,     0.65566,     0.65666,     0.65766,     0.65866,     0.65966,     0.66066,     0.66166,     0.66266,     0.66366,     0.66466,     0.66567,     0.66667,     0.66767,     0.66867,     0.66967,     0.67067,     0.67167,\n",
      "           0.67267,     0.67367,     0.67467,     0.67568,     0.67668,     0.67768,     0.67868,     0.67968,     0.68068,     0.68168,     0.68268,     0.68368,     0.68468,     0.68569,     0.68669,     0.68769,     0.68869,     0.68969,     0.69069,     0.69169,     0.69269,     0.69369,     0.69469,      0.6957,\n",
      "            0.6967,      0.6977,      0.6987,      0.6997,      0.7007,      0.7017,      0.7027,      0.7037,      0.7047,     0.70571,     0.70671,     0.70771,     0.70871,     0.70971,     0.71071,     0.71171,     0.71271,     0.71371,     0.71471,     0.71572,     0.71672,     0.71772,     0.71872,     0.71972,\n",
      "           0.72072,     0.72172,     0.72272,     0.72372,     0.72472,     0.72573,     0.72673,     0.72773,     0.72873,     0.72973,     0.73073,     0.73173,     0.73273,     0.73373,     0.73473,     0.73574,     0.73674,     0.73774,     0.73874,     0.73974,     0.74074,     0.74174,     0.74274,     0.74374,\n",
      "           0.74474,     0.74575,     0.74675,     0.74775,     0.74875,     0.74975,     0.75075,     0.75175,     0.75275,     0.75375,     0.75475,     0.75576,     0.75676,     0.75776,     0.75876,     0.75976,     0.76076,     0.76176,     0.76276,     0.76376,     0.76476,     0.76577,     0.76677,     0.76777,\n",
      "           0.76877,     0.76977,     0.77077,     0.77177,     0.77277,     0.77377,     0.77477,     0.77578,     0.77678,     0.77778,     0.77878,     0.77978,     0.78078,     0.78178,     0.78278,     0.78378,     0.78478,     0.78579,     0.78679,     0.78779,     0.78879,     0.78979,     0.79079,     0.79179,\n",
      "           0.79279,     0.79379,     0.79479,      0.7958,      0.7968,      0.7978,      0.7988,      0.7998,      0.8008,      0.8018,      0.8028,      0.8038,      0.8048,     0.80581,     0.80681,     0.80781,     0.80881,     0.80981,     0.81081,     0.81181,     0.81281,     0.81381,     0.81481,     0.81582,\n",
      "           0.81682,     0.81782,     0.81882,     0.81982,     0.82082,     0.82182,     0.82282,     0.82382,     0.82482,     0.82583,     0.82683,     0.82783,     0.82883,     0.82983,     0.83083,     0.83183,     0.83283,     0.83383,     0.83483,     0.83584,     0.83684,     0.83784,     0.83884,     0.83984,\n",
      "           0.84084,     0.84184,     0.84284,     0.84384,     0.84484,     0.84585,     0.84685,     0.84785,     0.84885,     0.84985,     0.85085,     0.85185,     0.85285,     0.85385,     0.85485,     0.85586,     0.85686,     0.85786,     0.85886,     0.85986,     0.86086,     0.86186,     0.86286,     0.86386,\n",
      "           0.86486,     0.86587,     0.86687,     0.86787,     0.86887,     0.86987,     0.87087,     0.87187,     0.87287,     0.87387,     0.87487,     0.87588,     0.87688,     0.87788,     0.87888,     0.87988,     0.88088,     0.88188,     0.88288,     0.88388,     0.88488,     0.88589,     0.88689,     0.88789,\n",
      "           0.88889,     0.88989,     0.89089,     0.89189,     0.89289,     0.89389,     0.89489,      0.8959,      0.8969,      0.8979,      0.8989,      0.8999,      0.9009,      0.9019,      0.9029,      0.9039,      0.9049,     0.90591,     0.90691,     0.90791,     0.90891,     0.90991,     0.91091,     0.91191,\n",
      "           0.91291,     0.91391,     0.91491,     0.91592,     0.91692,     0.91792,     0.91892,     0.91992,     0.92092,     0.92192,     0.92292,     0.92392,     0.92492,     0.92593,     0.92693,     0.92793,     0.92893,     0.92993,     0.93093,     0.93193,     0.93293,     0.93393,     0.93493,     0.93594,\n",
      "           0.93694,     0.93794,     0.93894,     0.93994,     0.94094,     0.94194,     0.94294,     0.94394,     0.94494,     0.94595,     0.94695,     0.94795,     0.94895,     0.94995,     0.95095,     0.95195,     0.95295,     0.95395,     0.95495,     0.95596,     0.95696,     0.95796,     0.95896,     0.95996,\n",
      "           0.96096,     0.96196,     0.96296,     0.96396,     0.96496,     0.96597,     0.96697,     0.96797,     0.96897,     0.96997,     0.97097,     0.97197,     0.97297,     0.97397,     0.97497,     0.97598,     0.97698,     0.97798,     0.97898,     0.97998,     0.98098,     0.98198,     0.98298,     0.98398,\n",
      "           0.98498,     0.98599,     0.98699,     0.98799,     0.98899,     0.98999,     0.99099,     0.99199,     0.99299,     0.99399,     0.99499,       0.996,       0.997,       0.998,       0.999,           1]), array([[          1,           1,     0.98507,     0.98507,     0.98507,     0.98507,     0.98507,     0.98507,     0.98507,     0.98507,     0.98507,     0.98507,     0.98507,     0.98507,     0.98507,     0.98507,     0.98507,     0.98507,     0.98507,     0.98507,     0.98507,     0.98507,     0.98507,\n",
      "            0.98507,     0.98507,     0.98507,     0.98507,     0.98507,     0.98507,     0.98507,     0.98507,     0.98507,     0.98507,     0.98507,     0.98507,     0.98507,     0.98507,     0.98507,     0.98507,     0.98507,     0.98507,     0.98507,     0.98507,     0.98507,     0.98507,     0.98507,\n",
      "            0.98507,     0.98507,     0.98507,     0.98507,     0.98507,     0.98319,       0.979,      0.9748,     0.97061,     0.97015,     0.97015,     0.97015,     0.97015,     0.97015,     0.97015,     0.97015,     0.97015,     0.97015,     0.97015,     0.97015,     0.97015,     0.97015,     0.97015,\n",
      "            0.97015,     0.97015,     0.97015,     0.97015,     0.97015,     0.97015,     0.97015,     0.97015,     0.97015,     0.97015,     0.97015,     0.97015,     0.97015,     0.97015,     0.97015,     0.97015,     0.97015,     0.97015,     0.97015,     0.97015,     0.97015,     0.97007,     0.96957,\n",
      "            0.96907,     0.96857,     0.96807,     0.96756,     0.96706,     0.96656,     0.96606,     0.96555,     0.96505,     0.96455,     0.96405,     0.96355,     0.96304,     0.96254,     0.96204,     0.96154,     0.96103,     0.96053,     0.96003,     0.95953,     0.95903,     0.95852,     0.95802,\n",
      "            0.95752,     0.95702,     0.95651,     0.95601,     0.95551,     0.95522,     0.95522,     0.95522,     0.95522,     0.95522,     0.95522,     0.95522,     0.95522,     0.95522,     0.95522,     0.95522,     0.95522,     0.95522,     0.95522,     0.95522,     0.95522,     0.95522,     0.95522,\n",
      "            0.95522,     0.95522,     0.95522,     0.95522,     0.95522,     0.95522,     0.95522,     0.95522,     0.95522,     0.95522,     0.95522,     0.95522,     0.95522,     0.95522,     0.95522,     0.95522,     0.95522,     0.95522,     0.95522,     0.95522,     0.95522,     0.95522,     0.95522,\n",
      "            0.95522,     0.95522,     0.95522,     0.95522,     0.95522,     0.95522,     0.95522,     0.95522,     0.95522,     0.95522,     0.95522,     0.95522,     0.95522,     0.95522,     0.95522,     0.95522,     0.95522,     0.95522,     0.95522,     0.95522,     0.95522,     0.95522,     0.95522,\n",
      "            0.95522,     0.95522,     0.95522,     0.95522,     0.95522,     0.95522,     0.95522,     0.95522,     0.95522,     0.95522,     0.95522,     0.95522,     0.95522,     0.95522,     0.95522,     0.95522,     0.95522,     0.95522,     0.95522,     0.95522,     0.95522,     0.95522,     0.95522,\n",
      "            0.95522,     0.95522,     0.95522,     0.95522,     0.95522,     0.95522,     0.95522,     0.95522,     0.95522,     0.95522,     0.95522,     0.95522,     0.95522,     0.95522,     0.95522,     0.95522,     0.95522,     0.95522,     0.95522,     0.95522,     0.95522,     0.95522,     0.95522,\n",
      "            0.95522,     0.95522,     0.95522,     0.95522,     0.95522,     0.95522,     0.95522,     0.95522,     0.95522,     0.95522,     0.95522,     0.95522,     0.95522,     0.95522,     0.95522,     0.95522,     0.95522,     0.95522,     0.95522,     0.95522,     0.95522,     0.95522,     0.95522,\n",
      "            0.95522,     0.95522,     0.95522,     0.95522,     0.95522,     0.95522,     0.95522,     0.95522,     0.95522,     0.95522,     0.95522,     0.95522,     0.95522,     0.95522,     0.95522,     0.95522,     0.95522,     0.95522,     0.95522,     0.95522,     0.95522,     0.95522,     0.95522,\n",
      "            0.95522,     0.95522,     0.95522,     0.95522,     0.95522,     0.95522,     0.95522,     0.95522,     0.95522,     0.95522,     0.95522,     0.95522,     0.95522,     0.95522,     0.95522,     0.95522,     0.95522,     0.95522,     0.95522,     0.95522,     0.95522,     0.95522,     0.95522,\n",
      "            0.95522,     0.95522,     0.95522,     0.95522,     0.95522,     0.95522,     0.95522,     0.95522,     0.95522,     0.95522,     0.95522,     0.95522,     0.95522,     0.95522,     0.95522,     0.95522,     0.95522,     0.95522,     0.95522,     0.95522,     0.95522,     0.95522,     0.95522,\n",
      "            0.95522,     0.95522,     0.95522,     0.95522,     0.95522,     0.95522,     0.95522,     0.95522,     0.95522,     0.95522,     0.95522,     0.95522,     0.95522,     0.95522,     0.95522,     0.95522,     0.95522,     0.95522,     0.95522,     0.95522,     0.95522,     0.95522,     0.95522,\n",
      "            0.95522,     0.95522,     0.95522,     0.95522,     0.95522,     0.95522,     0.95522,     0.95522,     0.95522,     0.95522,     0.95522,     0.95522,     0.95522,     0.95522,     0.95522,     0.95522,     0.95522,     0.95522,     0.95522,     0.95522,     0.95522,     0.95522,     0.95522,\n",
      "            0.95522,     0.95522,     0.95522,     0.95522,     0.95522,     0.95522,     0.95522,     0.95522,     0.95522,     0.95522,     0.95522,     0.95522,     0.95522,     0.95522,     0.95522,     0.95522,     0.95522,     0.95522,     0.95522,     0.95522,     0.95522,     0.95522,     0.95522,\n",
      "            0.95522,     0.95522,     0.95522,     0.95522,     0.95522,     0.95522,     0.95522,     0.95522,     0.95522,     0.95522,     0.95522,     0.95522,     0.95522,     0.95522,     0.95522,     0.95522,     0.95522,     0.95518,     0.95512,     0.95505,     0.95499,     0.95492,     0.95485,\n",
      "            0.95479,     0.95472,     0.95466,     0.95459,     0.95453,     0.95446,      0.9544,     0.95433,     0.95427,      0.9542,     0.95414,     0.95407,       0.954,     0.95394,     0.95387,     0.95381,     0.95374,     0.95368,     0.95361,     0.95355,     0.95348,     0.95342,     0.95335,\n",
      "            0.95328,     0.95322,     0.95315,     0.95309,     0.95302,     0.95296,     0.95289,     0.95283,     0.95276,      0.9527,     0.95263,     0.95257,      0.9525,     0.95243,     0.95237,      0.9523,     0.95224,     0.95217,     0.95211,     0.95204,     0.95198,     0.95191,     0.95185,\n",
      "            0.95178,     0.95171,     0.95165,     0.95158,     0.95152,     0.95145,     0.95139,     0.95132,     0.95126,     0.95119,     0.95113,     0.95106,       0.951,     0.95093,     0.95086,      0.9508,     0.95073,     0.95067,      0.9506,     0.95054,     0.95047,     0.95041,     0.95034,\n",
      "            0.95028,     0.95021,     0.95015,     0.95008,     0.95001,     0.94995,     0.94988,     0.94982,     0.94975,     0.94969,     0.94962,     0.94956,     0.94949,     0.94943,     0.94936,     0.94929,     0.94923,     0.94916,      0.9491,     0.94903,     0.94897,      0.9489,     0.94884,\n",
      "            0.94877,     0.94871,     0.94864,     0.94858,     0.94851,     0.94844,     0.94838,     0.94831,     0.94825,     0.94818,     0.94812,     0.94805,     0.94799,     0.94792,     0.94786,     0.94779,     0.94772,     0.94766,     0.94759,     0.94753,     0.94746,      0.9474,     0.94733,\n",
      "            0.94727,      0.9472,     0.94714,     0.94707,     0.94701,     0.94694,     0.94687,     0.94681,     0.94674,     0.94668,     0.94661,     0.94655,     0.94648,     0.94642,     0.94635,     0.94629,     0.94622,     0.94615,     0.94609,     0.94602,     0.94596,     0.94589,     0.94583,\n",
      "            0.94576,      0.9457,     0.94563,     0.94557,      0.9455,     0.94544,     0.94537,      0.9453,     0.94524,     0.94517,     0.94511,     0.94504,     0.94498,     0.94491,     0.94485,     0.94478,     0.94472,     0.94465,     0.94459,     0.94452,     0.94445,     0.94439,     0.94432,\n",
      "            0.94426,     0.94419,     0.94413,     0.94406,       0.944,     0.94393,     0.94387,      0.9438,     0.94373,     0.94367,      0.9436,     0.94354,     0.94347,     0.94341,     0.94334,     0.94328,     0.94321,     0.94315,     0.94308,     0.94302,     0.94295,     0.94288,     0.94282,\n",
      "            0.94275,     0.94269,     0.94262,     0.94256,     0.94249,     0.94243,     0.94236,      0.9423,     0.94223,     0.94216,      0.9421,     0.94203,     0.94197,      0.9419,     0.94184,     0.94177,     0.94171,     0.94164,     0.94158,     0.94151,     0.94145,     0.94138,     0.94131,\n",
      "            0.94125,     0.94118,     0.94112,     0.94105,     0.94099,     0.94092,     0.94086,     0.94079,     0.94073,     0.94066,     0.94059,     0.94053,     0.94046,      0.9404,     0.94033,        0.94,     0.93935,     0.93871,     0.93807,     0.93743,     0.93678,     0.93614,      0.9355,\n",
      "            0.93486,     0.93421,     0.93357,     0.93293,     0.93229,     0.93164,       0.931,     0.93036,     0.92971,     0.92907,     0.92843,     0.92779,     0.92714,      0.9265,     0.92586,     0.92531,     0.92503,     0.92475,     0.92447,     0.92419,     0.92391,     0.92363,     0.92336,\n",
      "            0.92308,      0.9228,     0.92252,     0.92224,     0.92196,     0.92169,     0.92141,     0.92113,     0.92085,     0.92057,     0.92029,     0.92002,     0.91974,     0.91946,     0.91918,      0.9189,     0.91862,     0.91834,     0.91807,     0.91779,     0.91751,     0.91723,     0.91695,\n",
      "            0.91667,      0.9164,     0.91612,     0.91584,     0.91556,     0.91528,       0.915,     0.91473,     0.91445,     0.91417,     0.91389,     0.91361,     0.91333,     0.91305,     0.91278,      0.9125,     0.91222,     0.91194,     0.91166,     0.91138,     0.91111,     0.91083,     0.91055,\n",
      "            0.91035,     0.91019,     0.91003,     0.90987,     0.90971,     0.90955,     0.90939,     0.90924,     0.90908,     0.90892,     0.90876,      0.9086,     0.90844,     0.90828,     0.90812,     0.90797,     0.90781,     0.90765,     0.90749,     0.90733,     0.90717,     0.90701,     0.90685,\n",
      "             0.9067,     0.90654,     0.90638,     0.90622,     0.90606,      0.9059,     0.90574,     0.90558,     0.90542,     0.90527,     0.90511,     0.90495,     0.90479,     0.90463,     0.90447,     0.90431,     0.90415,       0.904,     0.90384,     0.90368,     0.90352,     0.90336,      0.9032,\n",
      "            0.90304,     0.90288,     0.90273,     0.90257,     0.90241,     0.90225,     0.90209,     0.90193,     0.90177,     0.90161,     0.90146,      0.9013,     0.90114,     0.90098,     0.90082,     0.90066,      0.9005,     0.90034,     0.90019,     0.90003,     0.89987,     0.89971,     0.89955,\n",
      "            0.89939,     0.89923,     0.89907,     0.89892,     0.89876,      0.8986,     0.89844,     0.89828,     0.89812,     0.89796,      0.8978,     0.89765,     0.89749,     0.89733,     0.89717,     0.89701,     0.89685,     0.89669,     0.89653,     0.89638,     0.89622,     0.89606,      0.8959,\n",
      "            0.89574,     0.89558,     0.89293,     0.88881,     0.88469,     0.88056,     0.87636,     0.87216,     0.86796,     0.86567,     0.86567,     0.86567,     0.86567,     0.86567,     0.86567,     0.86567,     0.86567,     0.86567,     0.86567,     0.86567,     0.86567,     0.86567,     0.86567,\n",
      "            0.86539,     0.86397,     0.86255,     0.86114,     0.85972,      0.8583,     0.85688,     0.85546,     0.85405,     0.85263,     0.85121,     0.85012,      0.8492,     0.84828,     0.84735,     0.84643,      0.8455,     0.84458,     0.84365,     0.84273,      0.8418,     0.84088,     0.83995,\n",
      "            0.83903,      0.8381,     0.83718,     0.83625,     0.83393,     0.83039,     0.82685,     0.82331,     0.82059,     0.81963,     0.81868,     0.81772,     0.81676,     0.81581,     0.81485,     0.81389,     0.81293,     0.81198,     0.81102,     0.81006,     0.80911,     0.80815,     0.80719,\n",
      "            0.80624,     0.80521,     0.80417,     0.80312,     0.80208,     0.80103,     0.79999,     0.79894,      0.7979,     0.79685,     0.79581,     0.79476,     0.79371,     0.79267,     0.79162,     0.79055,     0.78945,     0.78834,     0.78724,     0.78614,     0.78503,     0.78393,     0.78283,\n",
      "            0.78172,     0.78062,     0.77952,     0.77841,     0.77731,      0.7762,     0.76595,     0.75847,     0.75368,      0.7489,     0.73721,     0.72821,     0.72379,     0.71937,     0.71415,     0.70732,     0.69965,     0.68711,     0.67966,     0.67244,     0.67009,     0.66834,     0.66659,\n",
      "            0.66484,     0.66309,     0.66134,     0.65959,     0.65784,     0.65605,     0.65421,     0.65237,     0.65052,     0.64868,     0.64683,     0.64499,     0.64315,     0.63996,     0.63307,     0.61239,     0.60613,     0.60031,     0.58671,     0.54759,     0.52922,     0.51297,     0.50499,\n",
      "            0.50029,     0.49559,     0.48487,     0.46752,     0.45697,     0.44855,     0.40361,     0.37298,     0.36684,     0.36071,      0.3392,     0.32986,     0.32061,     0.28236,     0.27285,     0.23056,     0.21478,     0.20192,      0.1912,     0.18604,     0.18087,     0.16497,     0.13773,\n",
      "            0.12078,    0.092476,      0.0865,    0.082582,    0.078665,    0.074747,    0.026072,           0,           0,           0,           0,           0,           0,           0,           0,           0,           0,           0,           0,           0,           0,           0,           0,\n",
      "                  0,           0,           0,           0,           0,           0,           0,           0,           0,           0,           0]]), 'Confidence', 'Recall']]\n",
      "fitness: 0.8968295655193727\n",
      "keys: ['metrics/precision(B)', 'metrics/recall(B)', 'metrics/mAP50(B)', 'metrics/mAP50-95(B)']\n",
      "maps: array([    0.88747])\n",
      "names: {0: 'mask'}\n",
      "plot: True\n",
      "results_dict: {'metrics/precision(B)': 0.9845788864684131, 'metrics/recall(B)': 0.9529577269940057, 'metrics/mAP50(B)': 0.9810296041506225, 'metrics/mAP50-95(B)': 0.887474005671456, 'fitness': 0.8968295655193727}\n",
      "save_dir: PosixPath('/Users/mohith/VSCodeProjects/CSE 573/PROJECT/alert_drive/runs/detect/train82')\n",
      "speed: {'preprocess': 1.392055960262523, 'inference': 163.61146464067346, 'loss': 0.00014725853415096507, 'postprocess': 0.25686796973733345}\n",
      "task: 'detect'\n"
     ]
    }
   ],
   "source": [
    "print(results)"
   ]
  }
 ],
 "metadata": {
  "kernelspec": {
   "display_name": ".venv",
   "language": "python",
   "name": "python3"
  },
  "language_info": {
   "codemirror_mode": {
    "name": "ipython",
    "version": 3
   },
   "file_extension": ".py",
   "mimetype": "text/x-python",
   "name": "python",
   "nbconvert_exporter": "python",
   "pygments_lexer": "ipython3",
   "version": "3.12.3"
  }
 },
 "nbformat": 4,
 "nbformat_minor": 2
}
