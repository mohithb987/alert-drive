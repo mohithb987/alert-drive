{
 "cells": [
  {
   "cell_type": "code",
   "execution_count": 1,
   "metadata": {},
   "outputs": [],
   "source": [
    "import cv2\n",
    "import os\n",
    "import glob\n",
    "from PIL import Image"
   ]
  },
  {
   "cell_type": "code",
   "execution_count": 13,
   "metadata": {},
   "outputs": [
    {
     "name": "stdout",
     "output_type": "stream",
     "text": [
      "All files: 587\n",
      "Class driver: 286\n",
      "Class shotgun: 301\n",
      "driver Data: {'input/data/images/18/driver/frame_00008 copy 2.jpg': 1, 'input/data/images/18/driver/frame_00014 copy 2.jpg': 1, 'input/data/images/18/driver/frame_00000 copy 2.jpg': 1, 'input/data/images/18/driver/frame_00012.jpg': 1, 'input/data/images/18/driver/frame_00006.jpg': 1, 'input/data/images/18/driver/frame_00016 copy 2.jpg': 1, 'input/data/images/18/driver/frame_00007.jpg': 1, 'input/data/images/18/driver/frame_00013.jpg': 1, 'input/data/images/18/driver/frame_00005.jpg': 1, 'input/data/images/18/driver/frame_00010.jpg': 1, 'input/data/images/18/driver/frame_00004.jpg': 1, 'input/data/images/18/driver/frame_00003.jpg': 1, 'input/data/images/18/driver/frame_00002.jpg': 1, 'input/data/images/18/driver/frame_00001 copy 2.jpg': 1, 'input/data/images/18/driver/frame_00025.jpg': 1, 'input/data/images/18/driver/frame_00019.jpg': 1, 'input/data/images/18/driver/frame_00009 copy 2.jpg': 1, 'input/data/images/18/driver/frame_00020.jpg': 1, 'input/data/images/18/driver/frame_00015 copy 2.jpg': 1, 'input/data/images/18/driver/frame_00022 copy 2.jpg': 1, 'input/data/images/18/driver/frame_00018 copy 2.jpg': 1, 'input/data/images/18/driver/frame_00017 copy 2.jpg': 1, 'input/data/images/9/driver/frame_00012.jpg': 1, 'input/data/images/9/driver/frame_00006.jpg': 1, 'input/data/images/9/driver/frame_00007.jpg': 1, 'input/data/images/9/driver/frame_00005.jpg': 1, 'input/data/images/9/driver/frame_00011.jpg': 1, 'input/data/images/9/driver/frame_00010.jpg': 1, 'input/data/images/9/driver/frame_00000.jpg': 1, 'input/data/images/9/driver/frame_00014.jpg': 1, 'input/data/images/9/driver/frame_00015.jpg': 1, 'input/data/images/9/driver/frame_00001.jpg': 1, 'input/data/images/9/driver/frame_00017.jpg': 1, 'input/data/images/9/driver/frame_00003.jpg': 1, 'input/data/images/9/driver/frame_00002.jpg': 1, 'input/data/images/9/driver/frame_00016.jpg': 1, 'input/data/images/9/driver/frame_00018.jpg': 1, 'input/data/images/9/driver/frame_00009.jpg': 1, 'input/data/images/9/driver/frame_00008.jpg': 1, 'input/data/images/0/driver/frame_00012.jpg': 1, 'input/data/images/0/driver/frame_00006.jpg': 1, 'input/data/images/0/driver/frame_00013.jpg': 1, 'input/data/images/0/driver/frame_00011.jpg': 1, 'input/data/images/0/driver/frame_00004.jpg': 1, 'input/data/images/0/driver/frame_00014.jpg': 1, 'input/data/images/0/driver/frame_00015.jpg': 1, 'input/data/images/0/driver/frame_00001.jpg': 1, 'input/data/images/0/driver/frame_00018.jpg': 1, 'input/data/images/0/driver/frame_00025.jpg': 1, 'input/data/images/0/driver/frame_00019.jpg': 1, 'input/data/images/0/driver/frame_00021.jpg': 1, 'input/data/images/0/driver/frame_00008.jpg': 1, 'input/data/images/0/driver/frame_00020.jpg': 1, 'input/data/images/0/driver/frame_00022.jpg': 1, 'input/data/images/0/driver/frame_00023.jpg': 1, 'input/data/images/11/driver/frame_00012.jpg': 1, 'input/data/images/11/driver/frame_00007.jpg': 1, 'input/data/images/11/driver/frame_00005.jpg': 1, 'input/data/images/11/driver/frame_00011.jpg': 1, 'input/data/images/11/driver/frame_00004.jpg': 1, 'input/data/images/11/driver/frame_00000.jpg': 1, 'input/data/images/11/driver/frame_00015.jpg': 1, 'input/data/images/11/driver/frame_00003.jpg': 1, 'input/data/images/11/driver/frame_00002.jpg': 1, 'input/data/images/11/driver/frame_00016.jpg': 1, 'input/data/images/7/driver/frame_00019 copy 2.jpg': 1, 'input/data/images/7/driver/frame_00000 copy 2.jpg': 1, 'input/data/images/7/driver/frame_00006.jpg': 1, 'input/data/images/7/driver/frame_00005.jpg': 1, 'input/data/images/7/driver/frame_00011.jpg': 1, 'input/data/images/7/driver/frame_00010.jpg': 1, 'input/data/images/7/driver/frame_00007 copy 2.jpg': 1, 'input/data/images/7/driver/frame_00002 copy 2.jpg': 1, 'input/data/images/7/driver/frame_00017.jpg': 1, 'input/data/images/7/driver/frame_00003.jpg': 1, 'input/data/images/7/driver/frame_00001 copy 2.jpg': 1, 'input/data/images/7/driver/frame_00009.jpg': 1, 'input/data/images/7/driver/frame_00008.jpg': 1, 'input/data/images/7/driver/frame_00012 copy 2.jpg': 1, 'input/data/images/16/driver/frame_00006 copy.jpg': 1, 'input/data/images/16/driver/frame_00007.jpg': 1, 'input/data/images/16/driver/frame_00005.jpg': 1, 'input/data/images/16/driver/frame_00004.jpg': 1, 'input/data/images/16/driver/frame_00000.jpg': 1, 'input/data/images/16/driver/frame_00015.jpg': 1, 'input/data/images/16/driver/frame_00001.jpg': 1, 'input/data/images/16/driver/frame_00002.jpg': 1, 'input/data/images/16/driver/frame_00016.jpg': 1, 'input/data/images/16/driver/frame_00021.jpg': 1, 'input/data/images/16/driver/frame_00018 copy.jpg': 1, 'input/data/images/16/driver/frame_00008.jpg': 1, 'input/data/images/16/driver/frame_00020.jpg': 1, 'input/data/images/16/driver/frame_00022.jpg': 1, 'input/data/images/16/driver/frame_00012 copy.jpg': 1, 'input/data/images/16/driver/frame_00023.jpg': 1, 'input/data/images/16/driver/frame_00014 copy.jpg': 1, 'input/data/images/6/driver/frame_00006.jpg': 1, 'input/data/images/6/driver/frame_00007.jpg': 1, 'input/data/images/6/driver/frame_00005.jpg': 1, 'input/data/images/6/driver/frame_00011.jpg': 1, 'input/data/images/6/driver/frame_00004.jpg': 1, 'input/data/images/6/driver/frame_00000.jpg': 1, 'input/data/images/6/driver/frame_00014.jpg': 1, 'input/data/images/6/driver/frame_00028.jpg': 1, 'input/data/images/6/driver/frame_00015.jpg': 1, 'input/data/images/6/driver/frame_00003.jpg': 1, 'input/data/images/6/driver/frame_00002.jpg': 1, 'input/data/images/6/driver/frame_00016.jpg': 1, 'input/data/images/6/driver/frame_00032.jpg': 1, 'input/data/images/6/driver/frame_00025.jpg': 1, 'input/data/images/6/driver/frame_00019.jpg': 1, 'input/data/images/6/driver/frame_00021.jpg': 1, 'input/data/images/6/driver/frame_00009.jpg': 1, 'input/data/images/6/driver/frame_00008.jpg': 1, 'input/data/images/6/driver/frame_00020.jpg': 1, 'input/data/images/6/driver/frame_00022.jpg': 1, 'input/data/images/1/driver/frame_00012.jpg': 1, 'input/data/images/1/driver/frame_00006.jpg': 1, 'input/data/images/1/driver/frame_00007.jpg': 1, 'input/data/images/1/driver/frame_00013.jpg': 1, 'input/data/images/1/driver/frame_00005.jpg': 1, 'input/data/images/1/driver/frame_00010.jpg': 1, 'input/data/images/1/driver/frame_00004.jpg': 1, 'input/data/images/1/driver/frame_00000.jpg': 1, 'input/data/images/1/driver/frame_00014.jpg': 1, 'input/data/images/1/driver/frame_00015.jpg': 1, 'input/data/images/1/driver/frame_00001.jpg': 1, 'input/data/images/1/driver/frame_00017.jpg': 1, 'input/data/images/1/driver/frame_00003.jpg': 1, 'input/data/images/1/driver/frame_00002.jpg': 1, 'input/data/images/1/driver/frame_00016.jpg': 1, 'input/data/images/1/driver/frame_00018.jpg': 1, 'input/data/images/1/driver/frame_00019.jpg': 1, 'input/data/images/1/driver/frame_00009.jpg': 1, 'input/data/images/1/driver/frame_00008.jpg': 1, 'input/data/images/1/driver/frame_00020.jpg': 1, 'input/data/images/10/driver/frame_00012.jpg': 1, 'input/data/images/10/driver/frame_00006.jpg': 1, 'input/data/images/10/driver/frame_00007.jpg': 1, 'input/data/images/10/driver/frame_00013.jpg': 1, 'input/data/images/10/driver/frame_00005.jpg': 1, 'input/data/images/10/driver/frame_00011.jpg': 1, 'input/data/images/10/driver/frame_00010.jpg': 1, 'input/data/images/10/driver/frame_00004.jpg': 1, 'input/data/images/10/driver/frame_00000.jpg': 1, 'input/data/images/10/driver/frame_00015.jpg': 1, 'input/data/images/10/driver/frame_00001.jpg': 1, 'input/data/images/10/driver/frame_00017.jpg': 1, 'input/data/images/10/driver/frame_00003.jpg': 1, 'input/data/images/10/driver/frame_00002.jpg': 1, 'input/data/images/10/driver/frame_00016.jpg': 1, 'input/data/images/10/driver/frame_00018.jpg': 1, 'input/data/images/10/driver/frame_00009.jpg': 1, 'input/data/images/8/driver/frame_00005.jpg': 1, 'input/data/images/8/driver/frame_00011.jpg': 1, 'input/data/images/8/driver/frame_00010.jpg': 1, 'input/data/images/8/driver/frame_00014.jpg': 1, 'input/data/images/8/driver/frame_00015.jpg': 1, 'input/data/images/8/driver/frame_00001.jpg': 1, 'input/data/images/8/driver/frame_00017.jpg': 1, 'input/data/images/8/driver/frame_00019.jpg': 1, 'input/data/images/8/driver/frame_00009.jpg': 1, 'input/data/images/8/driver/frame_00018 copy.jpg': 1, 'input/data/images/8/driver/frame_00020.jpg': 1, 'input/data/images/4/driver/frame_00012.jpg': 1, 'input/data/images/4/driver/frame_00006.jpg': 1, 'input/data/images/4/driver/frame_00013.jpg': 1, 'input/data/images/4/driver/frame_00005.jpg': 1, 'input/data/images/4/driver/frame_00011.jpg': 1, 'input/data/images/4/driver/frame_00010.jpg': 1, 'input/data/images/4/driver/frame_00004.jpg': 1, 'input/data/images/4/driver/frame_00001.jpg': 1, 'input/data/images/4/driver/frame_00003.jpg': 1, 'input/data/images/4/driver/frame_00002.jpg': 1, 'input/data/images/4/driver/frame_00018.jpg': 1, 'input/data/images/4/driver/frame_00019.jpg': 1, 'input/data/images/4/driver/frame_00009.jpg': 1, 'input/data/images/4/driver/frame_00020.jpg': 1, 'input/data/images/4/driver/frame_00023.jpg': 1, 'input/data/images/3/driver/frame_00012.jpg': 1, 'input/data/images/3/driver/frame_00006.jpg': 1, 'input/data/images/3/driver/frame_00007.jpg': 1, 'input/data/images/3/driver/frame_00013.jpg': 1, 'input/data/images/3/driver/frame_00005.jpg': 1, 'input/data/images/3/driver/frame_00011.jpg': 1, 'input/data/images/3/driver/frame_00010.jpg': 1, 'input/data/images/3/driver/frame_00004.jpg': 1, 'input/data/images/3/driver/frame_00000.jpg': 1, 'input/data/images/3/driver/frame_00014.jpg': 1, 'input/data/images/3/driver/frame_00015.jpg': 1, 'input/data/images/3/driver/frame_00001.jpg': 1, 'input/data/images/3/driver/frame_00017.jpg': 1, 'input/data/images/3/driver/frame_00003.jpg': 1, 'input/data/images/3/driver/frame_00002.jpg': 1, 'input/data/images/3/driver/frame_00016.jpg': 1, 'input/data/images/3/driver/frame_00018.jpg': 1, 'input/data/images/3/driver/frame_00019.jpg': 1, 'input/data/images/3/driver/frame_00009.jpg': 1, 'input/data/images/3/driver/frame_00008.jpg': 1, 'input/data/images/12/driver/frame_00012.jpg': 1, 'input/data/images/12/driver/frame_00006.jpg': 1, 'input/data/images/12/driver/frame_00007.jpg': 1, 'input/data/images/12/driver/frame_00005.jpg': 1, 'input/data/images/12/driver/frame_00010.jpg': 1, 'input/data/images/12/driver/frame_00004.jpg': 1, 'input/data/images/12/driver/frame_00000.jpg': 1, 'input/data/images/12/driver/frame_00014.jpg': 1, 'input/data/images/12/driver/frame_00001.jpg': 1, 'input/data/images/12/driver/frame_00017.jpg': 1, 'input/data/images/12/driver/frame_00003.jpg': 1, 'input/data/images/12/driver/frame_00002.jpg': 1, 'input/data/images/12/driver/frame_00016.jpg': 1, 'input/data/images/12/driver/frame_00009.jpg': 1, 'input/data/images/12/driver/frame_00008.jpg': 1, 'input/data/images/2/driver/frame_00012.jpg': 1, 'input/data/images/2/driver/frame_00006.jpg': 1, 'input/data/images/2/driver/frame_00007.jpg': 1, 'input/data/images/2/driver/frame_00013.jpg': 1, 'input/data/images/2/driver/frame_00005.jpg': 1, 'input/data/images/2/driver/frame_00011.jpg': 1, 'input/data/images/2/driver/frame_00010.jpg': 1, 'input/data/images/2/driver/frame_00004.jpg': 1, 'input/data/images/2/driver/frame_00000.jpg': 1, 'input/data/images/2/driver/frame_00015.jpg': 1, 'input/data/images/2/driver/frame_00001.jpg': 1, 'input/data/images/2/driver/frame_00017.jpg': 1, 'input/data/images/2/driver/frame_00003.jpg': 1, 'input/data/images/2/driver/frame_00002.jpg': 1, 'input/data/images/2/driver/frame_00016.jpg': 1, 'input/data/images/2/driver/frame_00018.jpg': 1, 'input/data/images/2/driver/frame_00009.jpg': 1, 'input/data/images/13/driver/frame_00007 copy.jpg': 1, 'input/data/images/13/driver/frame_00006.jpg': 1, 'input/data/images/13/driver/frame_00001 copy.jpg': 1, 'input/data/images/13/driver/frame_00000 copy.jpg': 1, 'input/data/images/13/driver/frame_00005.jpg': 1, 'input/data/images/13/driver/frame_00011.jpg': 1, 'input/data/images/13/driver/frame_00010.jpg': 1, 'input/data/images/13/driver/frame_00017.jpg': 1, 'input/data/images/13/driver/frame_00003.jpg': 1, 'input/data/images/13/driver/frame_00009.jpg': 1, 'input/data/images/13/driver/frame_00019 copy.jpg': 1, 'input/data/images/13/driver/frame_00008.jpg': 1, 'input/data/images/13/driver/frame_00012 copy.jpg': 1, 'input/data/images/13/driver/frame_00002 copy.jpg': 1, 'input/data/images/5/driver/frame_00011 copy.jpg': 1, 'input/data/images/5/driver/frame_00023 copy 2.jpg': 1, 'input/data/images/5/driver/frame_00037 copy 2.jpg': 1, 'input/data/images/5/driver/frame_00021 copy 2.jpg': 1, 'input/data/images/5/driver/frame_00005.jpg': 1, 'input/data/images/5/driver/frame_00011.jpg': 1, 'input/data/images/5/driver/frame_00003.jpg': 1, 'input/data/images/5/driver/frame_00046 copy 2.jpg': 1, 'input/data/images/5/driver/frame_00024 copy 2.jpg': 1, 'input/data/images/5/driver/frame_00022 copy 2.jpg': 1, 'input/data/images/5/driver/frame_00033 copy 2.jpg': 1, 'input/data/images/5/driver/frame_00051.jpg': 1, 'input/data/images/5/driver/frame_00053.jpg': 1, 'input/data/images/5/driver/frame_00025 copy 2.jpg': 1, 'input/data/images/5/driver/frame_00039 copy 2.jpg': 1, 'input/data/images/5/driver/frame_00052.jpg': 1, 'input/data/images/5/driver/frame_00042.jpg': 1, 'input/data/images/5/driver/frame_00056.jpg': 1, 'input/data/images/5/driver/frame_00040.jpg': 1, 'input/data/images/5/driver/frame_00054.jpg': 1, 'input/data/images/14/driver/frame_00012.jpg': 1, 'input/data/images/14/driver/frame_00013.jpg': 1, 'input/data/images/14/driver/frame_00005.jpg': 1, 'input/data/images/14/driver/frame_00011.jpg': 1, 'input/data/images/14/driver/frame_00010.jpg': 1, 'input/data/images/14/driver/frame_00000.jpg': 1, 'input/data/images/14/driver/frame_00014.jpg': 1, 'input/data/images/14/driver/frame_00028.jpg': 1, 'input/data/images/14/driver/frame_00003.jpg': 1, 'input/data/images/14/driver/frame_00002.jpg': 1, 'input/data/images/14/driver/frame_00016.jpg': 1, 'input/data/images/14/driver/frame_00027.jpg': 1, 'input/data/images/14/driver/frame_00026.jpg': 1, 'input/data/images/14/driver/frame_00018.jpg': 1, 'input/data/images/14/driver/frame_00024.jpg': 1, 'input/data/images/14/driver/frame_00019.jpg': 1, 'input/data/images/14/driver/frame_00021.jpg': 1, 'input/data/images/14/driver/frame_00008.jpg': 1, 'input/data/images/14/driver/frame_00020.jpg': 1, 'input/data/images/14/driver/frame_00022.jpg': 1, 'input/data/images/14/driver/frame_00023.jpg': 1}\n",
      "shotgun Data: {'input/data/images/18/shotgun/frame_00012.jpg': 0, 'input/data/images/18/shotgun/frame_00006.jpg': 0, 'input/data/images/18/shotgun/frame_00001 copy.jpg': 0, 'input/data/images/18/shotgun/frame_00000 copy.jpg': 0, 'input/data/images/18/shotgun/frame_00007.jpg': 0, 'input/data/images/18/shotgun/frame_00013.jpg': 0, 'input/data/images/18/shotgun/frame_00005.jpg': 0, 'input/data/images/18/shotgun/frame_00010.jpg': 0, 'input/data/images/18/shotgun/frame_00004.jpg': 0, 'input/data/images/18/shotgun/frame_00016 copy.jpg': 0, 'input/data/images/18/shotgun/frame_00017 copy.jpg': 0, 'input/data/images/18/shotgun/frame_00003.jpg': 0, 'input/data/images/18/shotgun/frame_00002.jpg': 0, 'input/data/images/18/shotgun/frame_00022 copy.jpg': 0, 'input/data/images/18/shotgun/frame_00025.jpg': 0, 'input/data/images/18/shotgun/frame_00019.jpg': 0, 'input/data/images/18/shotgun/frame_00018 copy.jpg': 0, 'input/data/images/18/shotgun/frame_00020.jpg': 0, 'input/data/images/18/shotgun/frame_00021 copy.jpg': 0, 'input/data/images/18/shotgun/frame_00015 copy.jpg': 0, 'input/data/images/18/shotgun/frame_00014 copy.jpg': 0, 'input/data/images/18/shotgun/frame_00008 copy.jpg': 0, 'input/data/images/18/shotgun/frame_00009 copy.jpg': 0, 'input/data/images/9/shotgun/frame_00012.jpg': 0, 'input/data/images/9/shotgun/frame_00006.jpg': 0, 'input/data/images/9/shotgun/frame_00007.jpg': 0, 'input/data/images/9/shotgun/frame_00005.jpg': 0, 'input/data/images/9/shotgun/frame_00011.jpg': 0, 'input/data/images/9/shotgun/frame_00010.jpg': 0, 'input/data/images/9/shotgun/frame_00000.jpg': 0, 'input/data/images/9/shotgun/frame_00014.jpg': 0, 'input/data/images/9/shotgun/frame_00015.jpg': 0, 'input/data/images/9/shotgun/frame_00001.jpg': 0, 'input/data/images/9/shotgun/frame_00017.jpg': 0, 'input/data/images/9/shotgun/frame_00003.jpg': 0, 'input/data/images/9/shotgun/frame_00002.jpg': 0, 'input/data/images/9/shotgun/frame_00016.jpg': 0, 'input/data/images/9/shotgun/frame_00018.jpg': 0, 'input/data/images/9/shotgun/frame_00009.jpg': 0, 'input/data/images/9/shotgun/frame_00008.jpg': 0, 'input/data/images/0/shotgun/frame_00012.jpg': 0, 'input/data/images/0/shotgun/frame_00006.jpg': 0, 'input/data/images/0/shotgun/frame_00013.jpg': 0, 'input/data/images/0/shotgun/frame_00011.jpg': 0, 'input/data/images/0/shotgun/frame_00004.jpg': 0, 'input/data/images/0/shotgun/frame_00014.jpg': 0, 'input/data/images/0/shotgun/frame_00015.jpg': 0, 'input/data/images/0/shotgun/frame_00001.jpg': 0, 'input/data/images/0/shotgun/frame_00018.jpg': 0, 'input/data/images/0/shotgun/frame_00025.jpg': 0, 'input/data/images/0/shotgun/frame_00019.jpg': 0, 'input/data/images/0/shotgun/frame_00021.jpg': 0, 'input/data/images/0/shotgun/frame_00008.jpg': 0, 'input/data/images/0/shotgun/frame_00020.jpg': 0, 'input/data/images/0/shotgun/frame_00022.jpg': 0, 'input/data/images/0/shotgun/frame_00023.jpg': 0, 'input/data/images/11/shotgun/frame_00012.jpg': 0, 'input/data/images/11/shotgun/frame_00007.jpg': 0, 'input/data/images/11/shotgun/frame_00013.jpg': 0, 'input/data/images/11/shotgun/frame_00005.jpg': 0, 'input/data/images/11/shotgun/frame_00011.jpg': 0, 'input/data/images/11/shotgun/frame_00010.jpg': 0, 'input/data/images/11/shotgun/frame_00004.jpg': 0, 'input/data/images/11/shotgun/frame_00000.jpg': 0, 'input/data/images/11/shotgun/frame_00014.jpg': 0, 'input/data/images/11/shotgun/frame_00015.jpg': 0, 'input/data/images/11/shotgun/frame_00001.jpg': 0, 'input/data/images/11/shotgun/frame_00017.jpg': 0, 'input/data/images/11/shotgun/frame_00003.jpg': 0, 'input/data/images/11/shotgun/frame_00002.jpg': 0, 'input/data/images/11/shotgun/frame_00016.jpg': 0, 'input/data/images/11/shotgun/frame_00018.jpg': 0, 'input/data/images/11/shotgun/frame_00019.jpg': 0, 'input/data/images/11/shotgun/frame_00013 2.jpg': 0, 'input/data/images/7/shotgun/frame_00007 copy.jpg': 0, 'input/data/images/7/shotgun/frame_00006.jpg': 0, 'input/data/images/7/shotgun/frame_00001 copy.jpg': 0, 'input/data/images/7/shotgun/frame_00000 copy.jpg': 0, 'input/data/images/7/shotgun/frame_00005.jpg': 0, 'input/data/images/7/shotgun/frame_00011.jpg': 0, 'input/data/images/7/shotgun/frame_00010.jpg': 0, 'input/data/images/7/shotgun/frame_00003.jpg': 0, 'input/data/images/7/shotgun/frame_00009.jpg': 0, 'input/data/images/7/shotgun/frame_00019 copy.jpg': 0, 'input/data/images/7/shotgun/frame_00008.jpg': 0, 'input/data/images/7/shotgun/frame_00012 copy.jpg': 0, 'input/data/images/7/shotgun/frame_00002 copy.jpg': 0, 'input/data/images/16/shotgun/frame_00006 3.jpg': 0, 'input/data/images/16/shotgun/frame_00006 2.jpg': 0, 'input/data/images/16/shotgun/frame_00007.jpg': 0, 'input/data/images/16/shotgun/frame_00005.jpg': 0, 'input/data/images/16/shotgun/frame_00004.jpg': 0, 'input/data/images/16/shotgun/frame_00000.jpg': 0, 'input/data/images/16/shotgun/frame_00018 2.jpg': 0, 'input/data/images/16/shotgun/frame_00015.jpg': 0, 'input/data/images/16/shotgun/frame_00001.jpg': 0, 'input/data/images/16/shotgun/frame_00002.jpg': 0, 'input/data/images/16/shotgun/frame_00016.jpg': 0, 'input/data/images/16/shotgun/frame_00014 2.jpg': 0, 'input/data/images/16/shotgun/frame_00021.jpg': 0, 'input/data/images/16/shotgun/frame_00008.jpg': 0, 'input/data/images/16/shotgun/frame_00020.jpg': 0, 'input/data/images/16/shotgun/frame_00022.jpg': 0, 'input/data/images/16/shotgun/frame_00023.jpg': 0, 'input/data/images/16/shotgun/frame_00012 2.jpg': 0, 'input/data/images/6/shotgun/frame_00006.jpg': 0, 'input/data/images/6/shotgun/frame_00005.jpg': 0, 'input/data/images/6/shotgun/frame_00011.jpg': 0, 'input/data/images/6/shotgun/frame_00004.jpg': 0, 'input/data/images/6/shotgun/frame_00000.jpg': 0, 'input/data/images/6/shotgun/frame_00014.jpg': 0, 'input/data/images/6/shotgun/frame_00028.jpg': 0, 'input/data/images/6/shotgun/frame_00015.jpg': 0, 'input/data/images/6/shotgun/frame_00003.jpg': 0, 'input/data/images/6/shotgun/frame_00002.jpg': 0, 'input/data/images/6/shotgun/frame_00016.jpg': 0, 'input/data/images/6/shotgun/frame_00032.jpg': 0, 'input/data/images/6/shotgun/frame_00025.jpg': 0, 'input/data/images/6/shotgun/frame_00019.jpg': 0, 'input/data/images/6/shotgun/frame_00021.jpg': 0, 'input/data/images/6/shotgun/frame_00009.jpg': 0, 'input/data/images/6/shotgun/frame_00008.jpg': 0, 'input/data/images/6/shotgun/frame_00020.jpg': 0, 'input/data/images/6/shotgun/frame_00022.jpg': 0, 'input/data/images/1/shotgun/frame_00012.jpg': 0, 'input/data/images/1/shotgun/frame_00006.jpg': 0, 'input/data/images/1/shotgun/frame_00007.jpg': 0, 'input/data/images/1/shotgun/frame_00013.jpg': 0, 'input/data/images/1/shotgun/frame_00005.jpg': 0, 'input/data/images/1/shotgun/frame_00010.jpg': 0, 'input/data/images/1/shotgun/frame_00004.jpg': 0, 'input/data/images/1/shotgun/frame_00000.jpg': 0, 'input/data/images/1/shotgun/frame_00014.jpg': 0, 'input/data/images/1/shotgun/frame_00015.jpg': 0, 'input/data/images/1/shotgun/frame_00001.jpg': 0, 'input/data/images/1/shotgun/frame_00017.jpg': 0, 'input/data/images/1/shotgun/frame_00003.jpg': 0, 'input/data/images/1/shotgun/frame_00002.jpg': 0, 'input/data/images/1/shotgun/frame_00016.jpg': 0, 'input/data/images/1/shotgun/frame_00018.jpg': 0, 'input/data/images/1/shotgun/frame_00019.jpg': 0, 'input/data/images/1/shotgun/frame_00009.jpg': 0, 'input/data/images/1/shotgun/frame_00008.jpg': 0, 'input/data/images/1/shotgun/frame_00020.jpg': 0, 'input/data/images/10/shotgun/frame_00012.jpg': 0, 'input/data/images/10/shotgun/frame_00006.jpg': 0, 'input/data/images/10/shotgun/frame_00007.jpg': 0, 'input/data/images/10/shotgun/frame_00013.jpg': 0, 'input/data/images/10/shotgun/frame_00005.jpg': 0, 'input/data/images/10/shotgun/frame_00011.jpg': 0, 'input/data/images/10/shotgun/frame_00004.jpg': 0, 'input/data/images/10/shotgun/frame_00000.jpg': 0, 'input/data/images/10/shotgun/frame_00015.jpg': 0, 'input/data/images/10/shotgun/frame_00001.jpg': 0, 'input/data/images/10/shotgun/frame_00017.jpg': 0, 'input/data/images/10/shotgun/frame_00003.jpg': 0, 'input/data/images/10/shotgun/frame_00002.jpg': 0, 'input/data/images/10/shotgun/frame_00016.jpg': 0, 'input/data/images/10/shotgun/frame_00018.jpg': 0, 'input/data/images/10/shotgun/frame_00009.jpg': 0, 'input/data/images/10/shotgun/frame_00010 2.jpg': 0, 'input/data/images/8/shotgun/frame_00005.jpg': 0, 'input/data/images/8/shotgun/frame_00014.jpg': 0, 'input/data/images/8/shotgun/frame_00018 2.jpg': 0, 'input/data/images/8/shotgun/frame_00015.jpg': 0, 'input/data/images/8/shotgun/frame_00001.jpg': 0, 'input/data/images/8/shotgun/frame_00017.jpg': 0, 'input/data/images/8/shotgun/frame_00018.jpg': 0, 'input/data/images/8/shotgun/frame_00019.jpg': 0, 'input/data/images/8/shotgun/frame_00009.jpg': 0, 'input/data/images/8/shotgun/frame_00020.jpg': 0, 'input/data/images/4/shotgun/frame_00012.jpg': 0, 'input/data/images/4/shotgun/frame_00006.jpg': 0, 'input/data/images/4/shotgun/frame_00007.jpg': 0, 'input/data/images/4/shotgun/frame_00013.jpg': 0, 'input/data/images/4/shotgun/frame_00005.jpg': 0, 'input/data/images/4/shotgun/frame_00011.jpg': 0, 'input/data/images/4/shotgun/frame_00010.jpg': 0, 'input/data/images/4/shotgun/frame_00004.jpg': 0, 'input/data/images/4/shotgun/frame_00000.jpg': 0, 'input/data/images/4/shotgun/frame_00015.jpg': 0, 'input/data/images/4/shotgun/frame_00001.jpg': 0, 'input/data/images/4/shotgun/frame_00017.jpg': 0, 'input/data/images/4/shotgun/frame_00003.jpg': 0, 'input/data/images/4/shotgun/frame_00002.jpg': 0, 'input/data/images/4/shotgun/frame_00016.jpg': 0, 'input/data/images/4/shotgun/frame_00018.jpg': 0, 'input/data/images/4/shotgun/frame_00024.jpg': 0, 'input/data/images/4/shotgun/frame_00019.jpg': 0, 'input/data/images/4/shotgun/frame_00021.jpg': 0, 'input/data/images/4/shotgun/frame_00009.jpg': 0, 'input/data/images/4/shotgun/frame_00008.jpg': 0, 'input/data/images/4/shotgun/frame_00020.jpg': 0, 'input/data/images/4/shotgun/frame_00022.jpg': 0, 'input/data/images/4/shotgun/frame_00023.jpg': 0, 'input/data/images/3/shotgun/frame_00012.jpg': 0, 'input/data/images/3/shotgun/frame_00006.jpg': 0, 'input/data/images/3/shotgun/frame_00007.jpg': 0, 'input/data/images/3/shotgun/frame_00013.jpg': 0, 'input/data/images/3/shotgun/frame_00005.jpg': 0, 'input/data/images/3/shotgun/frame_00011.jpg': 0, 'input/data/images/3/shotgun/frame_00010.jpg': 0, 'input/data/images/3/shotgun/frame_00004.jpg': 0, 'input/data/images/3/shotgun/frame_00000.jpg': 0, 'input/data/images/3/shotgun/frame_00014.jpg': 0, 'input/data/images/3/shotgun/frame_00015.jpg': 0, 'input/data/images/3/shotgun/frame_00001.jpg': 0, 'input/data/images/3/shotgun/frame_00017.jpg': 0, 'input/data/images/3/shotgun/frame_00003.jpg': 0, 'input/data/images/3/shotgun/frame_00002.jpg': 0, 'input/data/images/3/shotgun/frame_00016.jpg': 0, 'input/data/images/3/shotgun/frame_00018.jpg': 0, 'input/data/images/3/shotgun/frame_00019.jpg': 0, 'input/data/images/3/shotgun/frame_00009.jpg': 0, 'input/data/images/3/shotgun/frame_00008.jpg': 0, 'input/data/images/12/shotgun/frame_00012.jpg': 0, 'input/data/images/12/shotgun/frame_00006.jpg': 0, 'input/data/images/12/shotgun/frame_00007.jpg': 0, 'input/data/images/12/shotgun/frame_00005.jpg': 0, 'input/data/images/12/shotgun/frame_00010.jpg': 0, 'input/data/images/12/shotgun/frame_00004.jpg': 0, 'input/data/images/12/shotgun/frame_00000.jpg': 0, 'input/data/images/12/shotgun/frame_00014.jpg': 0, 'input/data/images/12/shotgun/frame_00001.jpg': 0, 'input/data/images/12/shotgun/frame_00017.jpg': 0, 'input/data/images/12/shotgun/frame_00003.jpg': 0, 'input/data/images/12/shotgun/frame_00002.jpg': 0, 'input/data/images/12/shotgun/frame_00016.jpg': 0, 'input/data/images/12/shotgun/frame_00009.jpg': 0, 'input/data/images/12/shotgun/frame_00008.jpg': 0, 'input/data/images/2/shotgun/frame_00012.jpg': 0, 'input/data/images/2/shotgun/frame_00006.jpg': 0, 'input/data/images/2/shotgun/frame_00007.jpg': 0, 'input/data/images/2/shotgun/frame_00013.jpg': 0, 'input/data/images/2/shotgun/frame_00005.jpg': 0, 'input/data/images/2/shotgun/frame_00011.jpg': 0, 'input/data/images/2/shotgun/frame_00010.jpg': 0, 'input/data/images/2/shotgun/frame_00004.jpg': 0, 'input/data/images/2/shotgun/frame_00000.jpg': 0, 'input/data/images/2/shotgun/frame_00015.jpg': 0, 'input/data/images/2/shotgun/frame_00001.jpg': 0, 'input/data/images/2/shotgun/frame_00017.jpg': 0, 'input/data/images/2/shotgun/frame_00003.jpg': 0, 'input/data/images/2/shotgun/frame_00002.jpg': 0, 'input/data/images/2/shotgun/frame_00016.jpg': 0, 'input/data/images/2/shotgun/frame_00018.jpg': 0, 'input/data/images/2/shotgun/frame_00009.jpg': 0, 'input/data/images/13/shotgun/frame_00019 copy 2.jpg': 0, 'input/data/images/13/shotgun/frame_00000 copy 2.jpg': 0, 'input/data/images/13/shotgun/frame_00006.jpg': 0, 'input/data/images/13/shotgun/frame_00005.jpg': 0, 'input/data/images/13/shotgun/frame_00011.jpg': 0, 'input/data/images/13/shotgun/frame_00010.jpg': 0, 'input/data/images/13/shotgun/frame_00007 copy 2.jpg': 0, 'input/data/images/13/shotgun/frame_00002 copy 2.jpg': 0, 'input/data/images/13/shotgun/frame_00003.jpg': 0, 'input/data/images/13/shotgun/frame_00001 copy 2.jpg': 0, 'input/data/images/13/shotgun/frame_00009.jpg': 0, 'input/data/images/13/shotgun/frame_00008.jpg': 0, 'input/data/images/13/shotgun/frame_00012 copy 2.jpg': 0, 'input/data/images/5/shotgun/frame_00025 copy.jpg': 0, 'input/data/images/5/shotgun/frame_00024 copy.jpg': 0, 'input/data/images/5/shotgun/frame_00039 copy.jpg': 0, 'input/data/images/5/shotgun/frame_00033 copy.jpg': 0, 'input/data/images/5/shotgun/frame_00005.jpg': 0, 'input/data/images/5/shotgun/frame_00038.jpg': 0, 'input/data/images/5/shotgun/frame_00003.jpg': 0, 'input/data/images/5/shotgun/frame_00022 copy.jpg': 0, 'input/data/images/5/shotgun/frame_00023 copy.jpg': 0, 'input/data/images/5/shotgun/frame_00046 copy.jpg': 0, 'input/data/images/5/shotgun/frame_00051.jpg': 0, 'input/data/images/5/shotgun/frame_00021 copy.jpg': 0, 'input/data/images/5/shotgun/frame_00053.jpg': 0, 'input/data/images/5/shotgun/frame_00052.jpg': 0, 'input/data/images/5/shotgun/frame_00042.jpg': 0, 'input/data/images/5/shotgun/frame_00056.jpg': 0, 'input/data/images/5/shotgun/frame_00037 copy.jpg': 0, 'input/data/images/5/shotgun/frame_00040.jpg': 0, 'input/data/images/5/shotgun/frame_00054.jpg': 0, 'input/data/images/14/shotgun/frame_00000 2.jpg': 0, 'input/data/images/14/shotgun/frame_00012.jpg': 0, 'input/data/images/14/shotgun/frame_00013.jpg': 0, 'input/data/images/14/shotgun/frame_00005.jpg': 0, 'input/data/images/14/shotgun/frame_00011.jpg': 0, 'input/data/images/14/shotgun/frame_00010.jpg': 0, 'input/data/images/14/shotgun/frame_00014.jpg': 0, 'input/data/images/14/shotgun/frame_00028.jpg': 0, 'input/data/images/14/shotgun/frame_00029.jpg': 0, 'input/data/images/14/shotgun/frame_00003.jpg': 0, 'input/data/images/14/shotgun/frame_00002.jpg': 0, 'input/data/images/14/shotgun/frame_00016.jpg': 0, 'input/data/images/14/shotgun/frame_00027.jpg': 0, 'input/data/images/14/shotgun/frame_00026.jpg': 0, 'input/data/images/14/shotgun/frame_00018.jpg': 0, 'input/data/images/14/shotgun/frame_00024.jpg': 0, 'input/data/images/14/shotgun/frame_00019.jpg': 0, 'input/data/images/14/shotgun/frame_00021.jpg': 0, 'input/data/images/14/shotgun/frame_00008.jpg': 0, 'input/data/images/14/shotgun/frame_00020.jpg': 0, 'input/data/images/14/shotgun/frame_00022.jpg': 0, 'input/data/images/14/shotgun/frame_00023.jpg': 0}\n",
      "All Data: {'input/data/images/18/driver/frame_00008 copy 2.jpg': 1, 'input/data/images/18/driver/frame_00014 copy 2.jpg': 1, 'input/data/images/18/driver/frame_00000 copy 2.jpg': 1, 'input/data/images/18/driver/frame_00012.jpg': 1, 'input/data/images/18/driver/frame_00006.jpg': 1, 'input/data/images/18/driver/frame_00016 copy 2.jpg': 1, 'input/data/images/18/driver/frame_00007.jpg': 1, 'input/data/images/18/driver/frame_00013.jpg': 1, 'input/data/images/18/driver/frame_00005.jpg': 1, 'input/data/images/18/driver/frame_00010.jpg': 1, 'input/data/images/18/driver/frame_00004.jpg': 1, 'input/data/images/18/driver/frame_00003.jpg': 1, 'input/data/images/18/driver/frame_00002.jpg': 1, 'input/data/images/18/driver/frame_00001 copy 2.jpg': 1, 'input/data/images/18/driver/frame_00025.jpg': 1, 'input/data/images/18/driver/frame_00019.jpg': 1, 'input/data/images/18/driver/frame_00009 copy 2.jpg': 1, 'input/data/images/18/driver/frame_00020.jpg': 1, 'input/data/images/18/driver/frame_00015 copy 2.jpg': 1, 'input/data/images/18/driver/frame_00022 copy 2.jpg': 1, 'input/data/images/18/driver/frame_00018 copy 2.jpg': 1, 'input/data/images/18/driver/frame_00017 copy 2.jpg': 1, 'input/data/images/9/driver/frame_00012.jpg': 1, 'input/data/images/9/driver/frame_00006.jpg': 1, 'input/data/images/9/driver/frame_00007.jpg': 1, 'input/data/images/9/driver/frame_00005.jpg': 1, 'input/data/images/9/driver/frame_00011.jpg': 1, 'input/data/images/9/driver/frame_00010.jpg': 1, 'input/data/images/9/driver/frame_00000.jpg': 1, 'input/data/images/9/driver/frame_00014.jpg': 1, 'input/data/images/9/driver/frame_00015.jpg': 1, 'input/data/images/9/driver/frame_00001.jpg': 1, 'input/data/images/9/driver/frame_00017.jpg': 1, 'input/data/images/9/driver/frame_00003.jpg': 1, 'input/data/images/9/driver/frame_00002.jpg': 1, 'input/data/images/9/driver/frame_00016.jpg': 1, 'input/data/images/9/driver/frame_00018.jpg': 1, 'input/data/images/9/driver/frame_00009.jpg': 1, 'input/data/images/9/driver/frame_00008.jpg': 1, 'input/data/images/0/driver/frame_00012.jpg': 1, 'input/data/images/0/driver/frame_00006.jpg': 1, 'input/data/images/0/driver/frame_00013.jpg': 1, 'input/data/images/0/driver/frame_00011.jpg': 1, 'input/data/images/0/driver/frame_00004.jpg': 1, 'input/data/images/0/driver/frame_00014.jpg': 1, 'input/data/images/0/driver/frame_00015.jpg': 1, 'input/data/images/0/driver/frame_00001.jpg': 1, 'input/data/images/0/driver/frame_00018.jpg': 1, 'input/data/images/0/driver/frame_00025.jpg': 1, 'input/data/images/0/driver/frame_00019.jpg': 1, 'input/data/images/0/driver/frame_00021.jpg': 1, 'input/data/images/0/driver/frame_00008.jpg': 1, 'input/data/images/0/driver/frame_00020.jpg': 1, 'input/data/images/0/driver/frame_00022.jpg': 1, 'input/data/images/0/driver/frame_00023.jpg': 1, 'input/data/images/11/driver/frame_00012.jpg': 1, 'input/data/images/11/driver/frame_00007.jpg': 1, 'input/data/images/11/driver/frame_00005.jpg': 1, 'input/data/images/11/driver/frame_00011.jpg': 1, 'input/data/images/11/driver/frame_00004.jpg': 1, 'input/data/images/11/driver/frame_00000.jpg': 1, 'input/data/images/11/driver/frame_00015.jpg': 1, 'input/data/images/11/driver/frame_00003.jpg': 1, 'input/data/images/11/driver/frame_00002.jpg': 1, 'input/data/images/11/driver/frame_00016.jpg': 1, 'input/data/images/7/driver/frame_00019 copy 2.jpg': 1, 'input/data/images/7/driver/frame_00000 copy 2.jpg': 1, 'input/data/images/7/driver/frame_00006.jpg': 1, 'input/data/images/7/driver/frame_00005.jpg': 1, 'input/data/images/7/driver/frame_00011.jpg': 1, 'input/data/images/7/driver/frame_00010.jpg': 1, 'input/data/images/7/driver/frame_00007 copy 2.jpg': 1, 'input/data/images/7/driver/frame_00002 copy 2.jpg': 1, 'input/data/images/7/driver/frame_00017.jpg': 1, 'input/data/images/7/driver/frame_00003.jpg': 1, 'input/data/images/7/driver/frame_00001 copy 2.jpg': 1, 'input/data/images/7/driver/frame_00009.jpg': 1, 'input/data/images/7/driver/frame_00008.jpg': 1, 'input/data/images/7/driver/frame_00012 copy 2.jpg': 1, 'input/data/images/16/driver/frame_00006 copy.jpg': 1, 'input/data/images/16/driver/frame_00007.jpg': 1, 'input/data/images/16/driver/frame_00005.jpg': 1, 'input/data/images/16/driver/frame_00004.jpg': 1, 'input/data/images/16/driver/frame_00000.jpg': 1, 'input/data/images/16/driver/frame_00015.jpg': 1, 'input/data/images/16/driver/frame_00001.jpg': 1, 'input/data/images/16/driver/frame_00002.jpg': 1, 'input/data/images/16/driver/frame_00016.jpg': 1, 'input/data/images/16/driver/frame_00021.jpg': 1, 'input/data/images/16/driver/frame_00018 copy.jpg': 1, 'input/data/images/16/driver/frame_00008.jpg': 1, 'input/data/images/16/driver/frame_00020.jpg': 1, 'input/data/images/16/driver/frame_00022.jpg': 1, 'input/data/images/16/driver/frame_00012 copy.jpg': 1, 'input/data/images/16/driver/frame_00023.jpg': 1, 'input/data/images/16/driver/frame_00014 copy.jpg': 1, 'input/data/images/6/driver/frame_00006.jpg': 1, 'input/data/images/6/driver/frame_00007.jpg': 1, 'input/data/images/6/driver/frame_00005.jpg': 1, 'input/data/images/6/driver/frame_00011.jpg': 1, 'input/data/images/6/driver/frame_00004.jpg': 1, 'input/data/images/6/driver/frame_00000.jpg': 1, 'input/data/images/6/driver/frame_00014.jpg': 1, 'input/data/images/6/driver/frame_00028.jpg': 1, 'input/data/images/6/driver/frame_00015.jpg': 1, 'input/data/images/6/driver/frame_00003.jpg': 1, 'input/data/images/6/driver/frame_00002.jpg': 1, 'input/data/images/6/driver/frame_00016.jpg': 1, 'input/data/images/6/driver/frame_00032.jpg': 1, 'input/data/images/6/driver/frame_00025.jpg': 1, 'input/data/images/6/driver/frame_00019.jpg': 1, 'input/data/images/6/driver/frame_00021.jpg': 1, 'input/data/images/6/driver/frame_00009.jpg': 1, 'input/data/images/6/driver/frame_00008.jpg': 1, 'input/data/images/6/driver/frame_00020.jpg': 1, 'input/data/images/6/driver/frame_00022.jpg': 1, 'input/data/images/1/driver/frame_00012.jpg': 1, 'input/data/images/1/driver/frame_00006.jpg': 1, 'input/data/images/1/driver/frame_00007.jpg': 1, 'input/data/images/1/driver/frame_00013.jpg': 1, 'input/data/images/1/driver/frame_00005.jpg': 1, 'input/data/images/1/driver/frame_00010.jpg': 1, 'input/data/images/1/driver/frame_00004.jpg': 1, 'input/data/images/1/driver/frame_00000.jpg': 1, 'input/data/images/1/driver/frame_00014.jpg': 1, 'input/data/images/1/driver/frame_00015.jpg': 1, 'input/data/images/1/driver/frame_00001.jpg': 1, 'input/data/images/1/driver/frame_00017.jpg': 1, 'input/data/images/1/driver/frame_00003.jpg': 1, 'input/data/images/1/driver/frame_00002.jpg': 1, 'input/data/images/1/driver/frame_00016.jpg': 1, 'input/data/images/1/driver/frame_00018.jpg': 1, 'input/data/images/1/driver/frame_00019.jpg': 1, 'input/data/images/1/driver/frame_00009.jpg': 1, 'input/data/images/1/driver/frame_00008.jpg': 1, 'input/data/images/1/driver/frame_00020.jpg': 1, 'input/data/images/10/driver/frame_00012.jpg': 1, 'input/data/images/10/driver/frame_00006.jpg': 1, 'input/data/images/10/driver/frame_00007.jpg': 1, 'input/data/images/10/driver/frame_00013.jpg': 1, 'input/data/images/10/driver/frame_00005.jpg': 1, 'input/data/images/10/driver/frame_00011.jpg': 1, 'input/data/images/10/driver/frame_00010.jpg': 1, 'input/data/images/10/driver/frame_00004.jpg': 1, 'input/data/images/10/driver/frame_00000.jpg': 1, 'input/data/images/10/driver/frame_00015.jpg': 1, 'input/data/images/10/driver/frame_00001.jpg': 1, 'input/data/images/10/driver/frame_00017.jpg': 1, 'input/data/images/10/driver/frame_00003.jpg': 1, 'input/data/images/10/driver/frame_00002.jpg': 1, 'input/data/images/10/driver/frame_00016.jpg': 1, 'input/data/images/10/driver/frame_00018.jpg': 1, 'input/data/images/10/driver/frame_00009.jpg': 1, 'input/data/images/8/driver/frame_00005.jpg': 1, 'input/data/images/8/driver/frame_00011.jpg': 1, 'input/data/images/8/driver/frame_00010.jpg': 1, 'input/data/images/8/driver/frame_00014.jpg': 1, 'input/data/images/8/driver/frame_00015.jpg': 1, 'input/data/images/8/driver/frame_00001.jpg': 1, 'input/data/images/8/driver/frame_00017.jpg': 1, 'input/data/images/8/driver/frame_00019.jpg': 1, 'input/data/images/8/driver/frame_00009.jpg': 1, 'input/data/images/8/driver/frame_00018 copy.jpg': 1, 'input/data/images/8/driver/frame_00020.jpg': 1, 'input/data/images/4/driver/frame_00012.jpg': 1, 'input/data/images/4/driver/frame_00006.jpg': 1, 'input/data/images/4/driver/frame_00013.jpg': 1, 'input/data/images/4/driver/frame_00005.jpg': 1, 'input/data/images/4/driver/frame_00011.jpg': 1, 'input/data/images/4/driver/frame_00010.jpg': 1, 'input/data/images/4/driver/frame_00004.jpg': 1, 'input/data/images/4/driver/frame_00001.jpg': 1, 'input/data/images/4/driver/frame_00003.jpg': 1, 'input/data/images/4/driver/frame_00002.jpg': 1, 'input/data/images/4/driver/frame_00018.jpg': 1, 'input/data/images/4/driver/frame_00019.jpg': 1, 'input/data/images/4/driver/frame_00009.jpg': 1, 'input/data/images/4/driver/frame_00020.jpg': 1, 'input/data/images/4/driver/frame_00023.jpg': 1, 'input/data/images/3/driver/frame_00012.jpg': 1, 'input/data/images/3/driver/frame_00006.jpg': 1, 'input/data/images/3/driver/frame_00007.jpg': 1, 'input/data/images/3/driver/frame_00013.jpg': 1, 'input/data/images/3/driver/frame_00005.jpg': 1, 'input/data/images/3/driver/frame_00011.jpg': 1, 'input/data/images/3/driver/frame_00010.jpg': 1, 'input/data/images/3/driver/frame_00004.jpg': 1, 'input/data/images/3/driver/frame_00000.jpg': 1, 'input/data/images/3/driver/frame_00014.jpg': 1, 'input/data/images/3/driver/frame_00015.jpg': 1, 'input/data/images/3/driver/frame_00001.jpg': 1, 'input/data/images/3/driver/frame_00017.jpg': 1, 'input/data/images/3/driver/frame_00003.jpg': 1, 'input/data/images/3/driver/frame_00002.jpg': 1, 'input/data/images/3/driver/frame_00016.jpg': 1, 'input/data/images/3/driver/frame_00018.jpg': 1, 'input/data/images/3/driver/frame_00019.jpg': 1, 'input/data/images/3/driver/frame_00009.jpg': 1, 'input/data/images/3/driver/frame_00008.jpg': 1, 'input/data/images/12/driver/frame_00012.jpg': 1, 'input/data/images/12/driver/frame_00006.jpg': 1, 'input/data/images/12/driver/frame_00007.jpg': 1, 'input/data/images/12/driver/frame_00005.jpg': 1, 'input/data/images/12/driver/frame_00010.jpg': 1, 'input/data/images/12/driver/frame_00004.jpg': 1, 'input/data/images/12/driver/frame_00000.jpg': 1, 'input/data/images/12/driver/frame_00014.jpg': 1, 'input/data/images/12/driver/frame_00001.jpg': 1, 'input/data/images/12/driver/frame_00017.jpg': 1, 'input/data/images/12/driver/frame_00003.jpg': 1, 'input/data/images/12/driver/frame_00002.jpg': 1, 'input/data/images/12/driver/frame_00016.jpg': 1, 'input/data/images/12/driver/frame_00009.jpg': 1, 'input/data/images/12/driver/frame_00008.jpg': 1, 'input/data/images/2/driver/frame_00012.jpg': 1, 'input/data/images/2/driver/frame_00006.jpg': 1, 'input/data/images/2/driver/frame_00007.jpg': 1, 'input/data/images/2/driver/frame_00013.jpg': 1, 'input/data/images/2/driver/frame_00005.jpg': 1, 'input/data/images/2/driver/frame_00011.jpg': 1, 'input/data/images/2/driver/frame_00010.jpg': 1, 'input/data/images/2/driver/frame_00004.jpg': 1, 'input/data/images/2/driver/frame_00000.jpg': 1, 'input/data/images/2/driver/frame_00015.jpg': 1, 'input/data/images/2/driver/frame_00001.jpg': 1, 'input/data/images/2/driver/frame_00017.jpg': 1, 'input/data/images/2/driver/frame_00003.jpg': 1, 'input/data/images/2/driver/frame_00002.jpg': 1, 'input/data/images/2/driver/frame_00016.jpg': 1, 'input/data/images/2/driver/frame_00018.jpg': 1, 'input/data/images/2/driver/frame_00009.jpg': 1, 'input/data/images/13/driver/frame_00007 copy.jpg': 1, 'input/data/images/13/driver/frame_00006.jpg': 1, 'input/data/images/13/driver/frame_00001 copy.jpg': 1, 'input/data/images/13/driver/frame_00000 copy.jpg': 1, 'input/data/images/13/driver/frame_00005.jpg': 1, 'input/data/images/13/driver/frame_00011.jpg': 1, 'input/data/images/13/driver/frame_00010.jpg': 1, 'input/data/images/13/driver/frame_00017.jpg': 1, 'input/data/images/13/driver/frame_00003.jpg': 1, 'input/data/images/13/driver/frame_00009.jpg': 1, 'input/data/images/13/driver/frame_00019 copy.jpg': 1, 'input/data/images/13/driver/frame_00008.jpg': 1, 'input/data/images/13/driver/frame_00012 copy.jpg': 1, 'input/data/images/13/driver/frame_00002 copy.jpg': 1, 'input/data/images/5/driver/frame_00011 copy.jpg': 1, 'input/data/images/5/driver/frame_00023 copy 2.jpg': 1, 'input/data/images/5/driver/frame_00037 copy 2.jpg': 1, 'input/data/images/5/driver/frame_00021 copy 2.jpg': 1, 'input/data/images/5/driver/frame_00005.jpg': 1, 'input/data/images/5/driver/frame_00011.jpg': 1, 'input/data/images/5/driver/frame_00003.jpg': 1, 'input/data/images/5/driver/frame_00046 copy 2.jpg': 1, 'input/data/images/5/driver/frame_00024 copy 2.jpg': 1, 'input/data/images/5/driver/frame_00022 copy 2.jpg': 1, 'input/data/images/5/driver/frame_00033 copy 2.jpg': 1, 'input/data/images/5/driver/frame_00051.jpg': 1, 'input/data/images/5/driver/frame_00053.jpg': 1, 'input/data/images/5/driver/frame_00025 copy 2.jpg': 1, 'input/data/images/5/driver/frame_00039 copy 2.jpg': 1, 'input/data/images/5/driver/frame_00052.jpg': 1, 'input/data/images/5/driver/frame_00042.jpg': 1, 'input/data/images/5/driver/frame_00056.jpg': 1, 'input/data/images/5/driver/frame_00040.jpg': 1, 'input/data/images/5/driver/frame_00054.jpg': 1, 'input/data/images/14/driver/frame_00012.jpg': 1, 'input/data/images/14/driver/frame_00013.jpg': 1, 'input/data/images/14/driver/frame_00005.jpg': 1, 'input/data/images/14/driver/frame_00011.jpg': 1, 'input/data/images/14/driver/frame_00010.jpg': 1, 'input/data/images/14/driver/frame_00000.jpg': 1, 'input/data/images/14/driver/frame_00014.jpg': 1, 'input/data/images/14/driver/frame_00028.jpg': 1, 'input/data/images/14/driver/frame_00003.jpg': 1, 'input/data/images/14/driver/frame_00002.jpg': 1, 'input/data/images/14/driver/frame_00016.jpg': 1, 'input/data/images/14/driver/frame_00027.jpg': 1, 'input/data/images/14/driver/frame_00026.jpg': 1, 'input/data/images/14/driver/frame_00018.jpg': 1, 'input/data/images/14/driver/frame_00024.jpg': 1, 'input/data/images/14/driver/frame_00019.jpg': 1, 'input/data/images/14/driver/frame_00021.jpg': 1, 'input/data/images/14/driver/frame_00008.jpg': 1, 'input/data/images/14/driver/frame_00020.jpg': 1, 'input/data/images/14/driver/frame_00022.jpg': 1, 'input/data/images/14/driver/frame_00023.jpg': 1, 'input/data/images/18/shotgun/frame_00012.jpg': 0, 'input/data/images/18/shotgun/frame_00006.jpg': 0, 'input/data/images/18/shotgun/frame_00001 copy.jpg': 0, 'input/data/images/18/shotgun/frame_00000 copy.jpg': 0, 'input/data/images/18/shotgun/frame_00007.jpg': 0, 'input/data/images/18/shotgun/frame_00013.jpg': 0, 'input/data/images/18/shotgun/frame_00005.jpg': 0, 'input/data/images/18/shotgun/frame_00010.jpg': 0, 'input/data/images/18/shotgun/frame_00004.jpg': 0, 'input/data/images/18/shotgun/frame_00016 copy.jpg': 0, 'input/data/images/18/shotgun/frame_00017 copy.jpg': 0, 'input/data/images/18/shotgun/frame_00003.jpg': 0, 'input/data/images/18/shotgun/frame_00002.jpg': 0, 'input/data/images/18/shotgun/frame_00022 copy.jpg': 0, 'input/data/images/18/shotgun/frame_00025.jpg': 0, 'input/data/images/18/shotgun/frame_00019.jpg': 0, 'input/data/images/18/shotgun/frame_00018 copy.jpg': 0, 'input/data/images/18/shotgun/frame_00020.jpg': 0, 'input/data/images/18/shotgun/frame_00021 copy.jpg': 0, 'input/data/images/18/shotgun/frame_00015 copy.jpg': 0, 'input/data/images/18/shotgun/frame_00014 copy.jpg': 0, 'input/data/images/18/shotgun/frame_00008 copy.jpg': 0, 'input/data/images/18/shotgun/frame_00009 copy.jpg': 0, 'input/data/images/9/shotgun/frame_00012.jpg': 0, 'input/data/images/9/shotgun/frame_00006.jpg': 0, 'input/data/images/9/shotgun/frame_00007.jpg': 0, 'input/data/images/9/shotgun/frame_00005.jpg': 0, 'input/data/images/9/shotgun/frame_00011.jpg': 0, 'input/data/images/9/shotgun/frame_00010.jpg': 0, 'input/data/images/9/shotgun/frame_00000.jpg': 0, 'input/data/images/9/shotgun/frame_00014.jpg': 0, 'input/data/images/9/shotgun/frame_00015.jpg': 0, 'input/data/images/9/shotgun/frame_00001.jpg': 0, 'input/data/images/9/shotgun/frame_00017.jpg': 0, 'input/data/images/9/shotgun/frame_00003.jpg': 0, 'input/data/images/9/shotgun/frame_00002.jpg': 0, 'input/data/images/9/shotgun/frame_00016.jpg': 0, 'input/data/images/9/shotgun/frame_00018.jpg': 0, 'input/data/images/9/shotgun/frame_00009.jpg': 0, 'input/data/images/9/shotgun/frame_00008.jpg': 0, 'input/data/images/0/shotgun/frame_00012.jpg': 0, 'input/data/images/0/shotgun/frame_00006.jpg': 0, 'input/data/images/0/shotgun/frame_00013.jpg': 0, 'input/data/images/0/shotgun/frame_00011.jpg': 0, 'input/data/images/0/shotgun/frame_00004.jpg': 0, 'input/data/images/0/shotgun/frame_00014.jpg': 0, 'input/data/images/0/shotgun/frame_00015.jpg': 0, 'input/data/images/0/shotgun/frame_00001.jpg': 0, 'input/data/images/0/shotgun/frame_00018.jpg': 0, 'input/data/images/0/shotgun/frame_00025.jpg': 0, 'input/data/images/0/shotgun/frame_00019.jpg': 0, 'input/data/images/0/shotgun/frame_00021.jpg': 0, 'input/data/images/0/shotgun/frame_00008.jpg': 0, 'input/data/images/0/shotgun/frame_00020.jpg': 0, 'input/data/images/0/shotgun/frame_00022.jpg': 0, 'input/data/images/0/shotgun/frame_00023.jpg': 0, 'input/data/images/11/shotgun/frame_00012.jpg': 0, 'input/data/images/11/shotgun/frame_00007.jpg': 0, 'input/data/images/11/shotgun/frame_00013.jpg': 0, 'input/data/images/11/shotgun/frame_00005.jpg': 0, 'input/data/images/11/shotgun/frame_00011.jpg': 0, 'input/data/images/11/shotgun/frame_00010.jpg': 0, 'input/data/images/11/shotgun/frame_00004.jpg': 0, 'input/data/images/11/shotgun/frame_00000.jpg': 0, 'input/data/images/11/shotgun/frame_00014.jpg': 0, 'input/data/images/11/shotgun/frame_00015.jpg': 0, 'input/data/images/11/shotgun/frame_00001.jpg': 0, 'input/data/images/11/shotgun/frame_00017.jpg': 0, 'input/data/images/11/shotgun/frame_00003.jpg': 0, 'input/data/images/11/shotgun/frame_00002.jpg': 0, 'input/data/images/11/shotgun/frame_00016.jpg': 0, 'input/data/images/11/shotgun/frame_00018.jpg': 0, 'input/data/images/11/shotgun/frame_00019.jpg': 0, 'input/data/images/11/shotgun/frame_00013 2.jpg': 0, 'input/data/images/7/shotgun/frame_00007 copy.jpg': 0, 'input/data/images/7/shotgun/frame_00006.jpg': 0, 'input/data/images/7/shotgun/frame_00001 copy.jpg': 0, 'input/data/images/7/shotgun/frame_00000 copy.jpg': 0, 'input/data/images/7/shotgun/frame_00005.jpg': 0, 'input/data/images/7/shotgun/frame_00011.jpg': 0, 'input/data/images/7/shotgun/frame_00010.jpg': 0, 'input/data/images/7/shotgun/frame_00003.jpg': 0, 'input/data/images/7/shotgun/frame_00009.jpg': 0, 'input/data/images/7/shotgun/frame_00019 copy.jpg': 0, 'input/data/images/7/shotgun/frame_00008.jpg': 0, 'input/data/images/7/shotgun/frame_00012 copy.jpg': 0, 'input/data/images/7/shotgun/frame_00002 copy.jpg': 0, 'input/data/images/16/shotgun/frame_00006 3.jpg': 0, 'input/data/images/16/shotgun/frame_00006 2.jpg': 0, 'input/data/images/16/shotgun/frame_00007.jpg': 0, 'input/data/images/16/shotgun/frame_00005.jpg': 0, 'input/data/images/16/shotgun/frame_00004.jpg': 0, 'input/data/images/16/shotgun/frame_00000.jpg': 0, 'input/data/images/16/shotgun/frame_00018 2.jpg': 0, 'input/data/images/16/shotgun/frame_00015.jpg': 0, 'input/data/images/16/shotgun/frame_00001.jpg': 0, 'input/data/images/16/shotgun/frame_00002.jpg': 0, 'input/data/images/16/shotgun/frame_00016.jpg': 0, 'input/data/images/16/shotgun/frame_00014 2.jpg': 0, 'input/data/images/16/shotgun/frame_00021.jpg': 0, 'input/data/images/16/shotgun/frame_00008.jpg': 0, 'input/data/images/16/shotgun/frame_00020.jpg': 0, 'input/data/images/16/shotgun/frame_00022.jpg': 0, 'input/data/images/16/shotgun/frame_00023.jpg': 0, 'input/data/images/16/shotgun/frame_00012 2.jpg': 0, 'input/data/images/6/shotgun/frame_00006.jpg': 0, 'input/data/images/6/shotgun/frame_00005.jpg': 0, 'input/data/images/6/shotgun/frame_00011.jpg': 0, 'input/data/images/6/shotgun/frame_00004.jpg': 0, 'input/data/images/6/shotgun/frame_00000.jpg': 0, 'input/data/images/6/shotgun/frame_00014.jpg': 0, 'input/data/images/6/shotgun/frame_00028.jpg': 0, 'input/data/images/6/shotgun/frame_00015.jpg': 0, 'input/data/images/6/shotgun/frame_00003.jpg': 0, 'input/data/images/6/shotgun/frame_00002.jpg': 0, 'input/data/images/6/shotgun/frame_00016.jpg': 0, 'input/data/images/6/shotgun/frame_00032.jpg': 0, 'input/data/images/6/shotgun/frame_00025.jpg': 0, 'input/data/images/6/shotgun/frame_00019.jpg': 0, 'input/data/images/6/shotgun/frame_00021.jpg': 0, 'input/data/images/6/shotgun/frame_00009.jpg': 0, 'input/data/images/6/shotgun/frame_00008.jpg': 0, 'input/data/images/6/shotgun/frame_00020.jpg': 0, 'input/data/images/6/shotgun/frame_00022.jpg': 0, 'input/data/images/1/shotgun/frame_00012.jpg': 0, 'input/data/images/1/shotgun/frame_00006.jpg': 0, 'input/data/images/1/shotgun/frame_00007.jpg': 0, 'input/data/images/1/shotgun/frame_00013.jpg': 0, 'input/data/images/1/shotgun/frame_00005.jpg': 0, 'input/data/images/1/shotgun/frame_00010.jpg': 0, 'input/data/images/1/shotgun/frame_00004.jpg': 0, 'input/data/images/1/shotgun/frame_00000.jpg': 0, 'input/data/images/1/shotgun/frame_00014.jpg': 0, 'input/data/images/1/shotgun/frame_00015.jpg': 0, 'input/data/images/1/shotgun/frame_00001.jpg': 0, 'input/data/images/1/shotgun/frame_00017.jpg': 0, 'input/data/images/1/shotgun/frame_00003.jpg': 0, 'input/data/images/1/shotgun/frame_00002.jpg': 0, 'input/data/images/1/shotgun/frame_00016.jpg': 0, 'input/data/images/1/shotgun/frame_00018.jpg': 0, 'input/data/images/1/shotgun/frame_00019.jpg': 0, 'input/data/images/1/shotgun/frame_00009.jpg': 0, 'input/data/images/1/shotgun/frame_00008.jpg': 0, 'input/data/images/1/shotgun/frame_00020.jpg': 0, 'input/data/images/10/shotgun/frame_00012.jpg': 0, 'input/data/images/10/shotgun/frame_00006.jpg': 0, 'input/data/images/10/shotgun/frame_00007.jpg': 0, 'input/data/images/10/shotgun/frame_00013.jpg': 0, 'input/data/images/10/shotgun/frame_00005.jpg': 0, 'input/data/images/10/shotgun/frame_00011.jpg': 0, 'input/data/images/10/shotgun/frame_00004.jpg': 0, 'input/data/images/10/shotgun/frame_00000.jpg': 0, 'input/data/images/10/shotgun/frame_00015.jpg': 0, 'input/data/images/10/shotgun/frame_00001.jpg': 0, 'input/data/images/10/shotgun/frame_00017.jpg': 0, 'input/data/images/10/shotgun/frame_00003.jpg': 0, 'input/data/images/10/shotgun/frame_00002.jpg': 0, 'input/data/images/10/shotgun/frame_00016.jpg': 0, 'input/data/images/10/shotgun/frame_00018.jpg': 0, 'input/data/images/10/shotgun/frame_00009.jpg': 0, 'input/data/images/10/shotgun/frame_00010 2.jpg': 0, 'input/data/images/8/shotgun/frame_00005.jpg': 0, 'input/data/images/8/shotgun/frame_00014.jpg': 0, 'input/data/images/8/shotgun/frame_00018 2.jpg': 0, 'input/data/images/8/shotgun/frame_00015.jpg': 0, 'input/data/images/8/shotgun/frame_00001.jpg': 0, 'input/data/images/8/shotgun/frame_00017.jpg': 0, 'input/data/images/8/shotgun/frame_00018.jpg': 0, 'input/data/images/8/shotgun/frame_00019.jpg': 0, 'input/data/images/8/shotgun/frame_00009.jpg': 0, 'input/data/images/8/shotgun/frame_00020.jpg': 0, 'input/data/images/4/shotgun/frame_00012.jpg': 0, 'input/data/images/4/shotgun/frame_00006.jpg': 0, 'input/data/images/4/shotgun/frame_00007.jpg': 0, 'input/data/images/4/shotgun/frame_00013.jpg': 0, 'input/data/images/4/shotgun/frame_00005.jpg': 0, 'input/data/images/4/shotgun/frame_00011.jpg': 0, 'input/data/images/4/shotgun/frame_00010.jpg': 0, 'input/data/images/4/shotgun/frame_00004.jpg': 0, 'input/data/images/4/shotgun/frame_00000.jpg': 0, 'input/data/images/4/shotgun/frame_00015.jpg': 0, 'input/data/images/4/shotgun/frame_00001.jpg': 0, 'input/data/images/4/shotgun/frame_00017.jpg': 0, 'input/data/images/4/shotgun/frame_00003.jpg': 0, 'input/data/images/4/shotgun/frame_00002.jpg': 0, 'input/data/images/4/shotgun/frame_00016.jpg': 0, 'input/data/images/4/shotgun/frame_00018.jpg': 0, 'input/data/images/4/shotgun/frame_00024.jpg': 0, 'input/data/images/4/shotgun/frame_00019.jpg': 0, 'input/data/images/4/shotgun/frame_00021.jpg': 0, 'input/data/images/4/shotgun/frame_00009.jpg': 0, 'input/data/images/4/shotgun/frame_00008.jpg': 0, 'input/data/images/4/shotgun/frame_00020.jpg': 0, 'input/data/images/4/shotgun/frame_00022.jpg': 0, 'input/data/images/4/shotgun/frame_00023.jpg': 0, 'input/data/images/3/shotgun/frame_00012.jpg': 0, 'input/data/images/3/shotgun/frame_00006.jpg': 0, 'input/data/images/3/shotgun/frame_00007.jpg': 0, 'input/data/images/3/shotgun/frame_00013.jpg': 0, 'input/data/images/3/shotgun/frame_00005.jpg': 0, 'input/data/images/3/shotgun/frame_00011.jpg': 0, 'input/data/images/3/shotgun/frame_00010.jpg': 0, 'input/data/images/3/shotgun/frame_00004.jpg': 0, 'input/data/images/3/shotgun/frame_00000.jpg': 0, 'input/data/images/3/shotgun/frame_00014.jpg': 0, 'input/data/images/3/shotgun/frame_00015.jpg': 0, 'input/data/images/3/shotgun/frame_00001.jpg': 0, 'input/data/images/3/shotgun/frame_00017.jpg': 0, 'input/data/images/3/shotgun/frame_00003.jpg': 0, 'input/data/images/3/shotgun/frame_00002.jpg': 0, 'input/data/images/3/shotgun/frame_00016.jpg': 0, 'input/data/images/3/shotgun/frame_00018.jpg': 0, 'input/data/images/3/shotgun/frame_00019.jpg': 0, 'input/data/images/3/shotgun/frame_00009.jpg': 0, 'input/data/images/3/shotgun/frame_00008.jpg': 0, 'input/data/images/12/shotgun/frame_00012.jpg': 0, 'input/data/images/12/shotgun/frame_00006.jpg': 0, 'input/data/images/12/shotgun/frame_00007.jpg': 0, 'input/data/images/12/shotgun/frame_00005.jpg': 0, 'input/data/images/12/shotgun/frame_00010.jpg': 0, 'input/data/images/12/shotgun/frame_00004.jpg': 0, 'input/data/images/12/shotgun/frame_00000.jpg': 0, 'input/data/images/12/shotgun/frame_00014.jpg': 0, 'input/data/images/12/shotgun/frame_00001.jpg': 0, 'input/data/images/12/shotgun/frame_00017.jpg': 0, 'input/data/images/12/shotgun/frame_00003.jpg': 0, 'input/data/images/12/shotgun/frame_00002.jpg': 0, 'input/data/images/12/shotgun/frame_00016.jpg': 0, 'input/data/images/12/shotgun/frame_00009.jpg': 0, 'input/data/images/12/shotgun/frame_00008.jpg': 0, 'input/data/images/2/shotgun/frame_00012.jpg': 0, 'input/data/images/2/shotgun/frame_00006.jpg': 0, 'input/data/images/2/shotgun/frame_00007.jpg': 0, 'input/data/images/2/shotgun/frame_00013.jpg': 0, 'input/data/images/2/shotgun/frame_00005.jpg': 0, 'input/data/images/2/shotgun/frame_00011.jpg': 0, 'input/data/images/2/shotgun/frame_00010.jpg': 0, 'input/data/images/2/shotgun/frame_00004.jpg': 0, 'input/data/images/2/shotgun/frame_00000.jpg': 0, 'input/data/images/2/shotgun/frame_00015.jpg': 0, 'input/data/images/2/shotgun/frame_00001.jpg': 0, 'input/data/images/2/shotgun/frame_00017.jpg': 0, 'input/data/images/2/shotgun/frame_00003.jpg': 0, 'input/data/images/2/shotgun/frame_00002.jpg': 0, 'input/data/images/2/shotgun/frame_00016.jpg': 0, 'input/data/images/2/shotgun/frame_00018.jpg': 0, 'input/data/images/2/shotgun/frame_00009.jpg': 0, 'input/data/images/13/shotgun/frame_00019 copy 2.jpg': 0, 'input/data/images/13/shotgun/frame_00000 copy 2.jpg': 0, 'input/data/images/13/shotgun/frame_00006.jpg': 0, 'input/data/images/13/shotgun/frame_00005.jpg': 0, 'input/data/images/13/shotgun/frame_00011.jpg': 0, 'input/data/images/13/shotgun/frame_00010.jpg': 0, 'input/data/images/13/shotgun/frame_00007 copy 2.jpg': 0, 'input/data/images/13/shotgun/frame_00002 copy 2.jpg': 0, 'input/data/images/13/shotgun/frame_00003.jpg': 0, 'input/data/images/13/shotgun/frame_00001 copy 2.jpg': 0, 'input/data/images/13/shotgun/frame_00009.jpg': 0, 'input/data/images/13/shotgun/frame_00008.jpg': 0, 'input/data/images/13/shotgun/frame_00012 copy 2.jpg': 0, 'input/data/images/5/shotgun/frame_00025 copy.jpg': 0, 'input/data/images/5/shotgun/frame_00024 copy.jpg': 0, 'input/data/images/5/shotgun/frame_00039 copy.jpg': 0, 'input/data/images/5/shotgun/frame_00033 copy.jpg': 0, 'input/data/images/5/shotgun/frame_00005.jpg': 0, 'input/data/images/5/shotgun/frame_00038.jpg': 0, 'input/data/images/5/shotgun/frame_00003.jpg': 0, 'input/data/images/5/shotgun/frame_00022 copy.jpg': 0, 'input/data/images/5/shotgun/frame_00023 copy.jpg': 0, 'input/data/images/5/shotgun/frame_00046 copy.jpg': 0, 'input/data/images/5/shotgun/frame_00051.jpg': 0, 'input/data/images/5/shotgun/frame_00021 copy.jpg': 0, 'input/data/images/5/shotgun/frame_00053.jpg': 0, 'input/data/images/5/shotgun/frame_00052.jpg': 0, 'input/data/images/5/shotgun/frame_00042.jpg': 0, 'input/data/images/5/shotgun/frame_00056.jpg': 0, 'input/data/images/5/shotgun/frame_00037 copy.jpg': 0, 'input/data/images/5/shotgun/frame_00040.jpg': 0, 'input/data/images/5/shotgun/frame_00054.jpg': 0, 'input/data/images/14/shotgun/frame_00000 2.jpg': 0, 'input/data/images/14/shotgun/frame_00012.jpg': 0, 'input/data/images/14/shotgun/frame_00013.jpg': 0, 'input/data/images/14/shotgun/frame_00005.jpg': 0, 'input/data/images/14/shotgun/frame_00011.jpg': 0, 'input/data/images/14/shotgun/frame_00010.jpg': 0, 'input/data/images/14/shotgun/frame_00014.jpg': 0, 'input/data/images/14/shotgun/frame_00028.jpg': 0, 'input/data/images/14/shotgun/frame_00029.jpg': 0, 'input/data/images/14/shotgun/frame_00003.jpg': 0, 'input/data/images/14/shotgun/frame_00002.jpg': 0, 'input/data/images/14/shotgun/frame_00016.jpg': 0, 'input/data/images/14/shotgun/frame_00027.jpg': 0, 'input/data/images/14/shotgun/frame_00026.jpg': 0, 'input/data/images/14/shotgun/frame_00018.jpg': 0, 'input/data/images/14/shotgun/frame_00024.jpg': 0, 'input/data/images/14/shotgun/frame_00019.jpg': 0, 'input/data/images/14/shotgun/frame_00021.jpg': 0, 'input/data/images/14/shotgun/frame_00008.jpg': 0, 'input/data/images/14/shotgun/frame_00020.jpg': 0, 'input/data/images/14/shotgun/frame_00022.jpg': 0, 'input/data/images/14/shotgun/frame_00023.jpg': 0}\n"
     ]
    }
   ],
   "source": [
    "def get_relative_file_paths(directory, root_folder):\n",
    "    root_folder_abs_path = os.path.abspath(root_folder)\n",
    "    all_files = glob.glob(os.path.join(directory, '*/*/*'), recursive=True)\n",
    "    relative_paths = [\n",
    "        os.path.relpath(file, root_folder_abs_path)\n",
    "        for file in all_files if os.path.isfile(file)\n",
    "    ]\n",
    "    shotgun_files = glob.glob(os.path.join(directory, '*/shotgun/*'), recursive=True)\n",
    "    shotgun_relative_paths = [\n",
    "        os.path.relpath(file, root_folder_abs_path)\n",
    "        for file in shotgun_files if os.path.isfile(file)\n",
    "    ]\n",
    "\n",
    "    driver_files = glob.glob(os.path.join(directory, '*/driver/*'), recursive=True)\n",
    "    driver_relative_paths = [\n",
    "        os.path.relpath(file, root_folder_abs_path)\n",
    "        for file in driver_files if os.path.isfile(file)\n",
    "    ]\n",
    "\n",
    "    shotgun_data = {}\n",
    "    for path in shotgun_relative_paths:\n",
    "        shotgun_data[path] = 0\n",
    "\n",
    "    driver_data = {}\n",
    "    for path in driver_relative_paths:\n",
    "        driver_data[path] = 1\n",
    "\n",
    "    all_data = {**driver_data, **shotgun_data}\n",
    "\n",
    "\n",
    "    print('All files:', len(relative_paths))\n",
    "    print('Class driver:', len(driver_relative_paths))\n",
    "    print('Class shotgun:', len(shotgun_relative_paths))\n",
    "\n",
    "    print('driver Data:', driver_data)\n",
    "    print('shotgun Data:', shotgun_data)\n",
    "    print('All Data:', all_data)\n",
    "    \n",
    "    return all_data\n",
    "\n",
    "directory = '../input/data/images/'  \n",
    "root_folder = '../'\n",
    "\n",
    "all_data = get_relative_file_paths(directory, root_folder)"
   ]
  },
  {
   "cell_type": "code",
   "execution_count": 18,
   "metadata": {},
   "outputs": [
    {
     "name": "stdout",
     "output_type": "stream",
     "text": [
      "Len augmented images: 587\n",
      "Len augmented augmented_labels: 587\n",
      "X_train shape: torch.Size([528, 3, 128, 128]), y_train shape: torch.Size([528])\n",
      "X_val shape: torch.Size([59, 3, 128, 128]), y_val shape: torch.Size([59])\n"
     ]
    },
    {
     "name": "stderr",
     "output_type": "stream",
     "text": [
      "/var/folders/pc/5jkxyq3s4xb26zff0_pshj400000gn/T/ipykernel_1445/1636165495.py:48: UserWarning: To copy construct from a tensor, it is recommended to use sourceTensor.clone().detach() or sourceTensor.clone().detach().requires_grad_(True), rather than torch.tensor(sourceTensor).\n",
      "  X_train, X_val = torch.tensor(X_train), torch.tensor(X_val)\n"
     ]
    }
   ],
   "source": [
    "import numpy as np\n",
    "import torch\n",
    "from torchvision import transforms\n",
    "from sklearn.model_selection import train_test_split\n",
    "from torch.utils.data import TensorDataset, DataLoader\n",
    "from PIL import Image\n",
    "import os\n",
    "\n",
    "\n",
    "# Data augmentation transforms\n",
    "transform = transforms.Compose([\n",
    "    transforms.ToTensor(),\n",
    "    transforms.Resize((256, 256)),\n",
    "    transforms.RandomHorizontalFlip(),\n",
    "])\n",
    "\n",
    "def load_and_augment_images(all_data, save_dir='../input/data/steering_wheel/augmented_images'):\n",
    "    root_dir = '../'\n",
    "    augmented_images = []\n",
    "    augmented_labels = []\n",
    "\n",
    "    if not os.path.exists(save_dir):\n",
    "        os.makedirs(save_dir)\n",
    "\n",
    "    for idx, (file_path, label) in enumerate(all_data.items()):\n",
    "        img = Image.open(os.path.join(root_dir, file_path))\n",
    "\n",
    "        transformed_img = transform(img)\n",
    "\n",
    "        augmented_images.append(transformed_img)\n",
    "        augmented_labels.append(label)\n",
    "    \n",
    "    print('Len augmented images:', len(augmented_images))\n",
    "    print('Len augmented augmented_labels:', len(augmented_labels))\n",
    "\n",
    "    return torch.stack(augmented_images), np.array(augmented_labels)\n",
    "\n",
    "\n",
    "\n",
    "X_augmented, y_augmented = load_and_augment_images(all_data)\n",
    "\n",
    "# Split dataset into train, validation, and test sets\n",
    "test_size = 0.2\n",
    "random_state = 42\n",
    "\n",
    "X_train, X_val, y_train, y_val = train_test_split(X_augmented, y_augmented, test_size=0.1, random_state=random_state)\n",
    "\n",
    "X_train, X_val = torch.tensor(X_train), torch.tensor(X_val)\n",
    "y_train, y_val = torch.tensor(y_train), torch.tensor(y_val)\n",
    "\n",
    "# Print shapes\n",
    "print(f\"X_train shape: {X_train.shape}, y_train shape: {y_train.shape}\")\n",
    "print(f\"X_val shape: {X_val.shape}, y_val shape: {y_val.shape}\")\n"
   ]
  },
  {
   "cell_type": "code",
   "execution_count": 37,
   "metadata": {},
   "outputs": [
    {
     "name": "stdout",
     "output_type": "stream",
     "text": [
      "SimpleCNN(\n",
      "  (features): Sequential(\n",
      "    (0): Conv2d(3, 16, kernel_size=(3, 3), stride=(1, 1), padding=(1, 1))\n",
      "    (1): ReLU(inplace=True)\n",
      "    (2): MaxPool2d(kernel_size=2, stride=2, padding=0, dilation=1, ceil_mode=False)\n",
      "    (3): Conv2d(16, 32, kernel_size=(3, 3), stride=(1, 1), padding=(1, 1))\n",
      "    (4): ReLU(inplace=True)\n",
      "    (5): MaxPool2d(kernel_size=2, stride=2, padding=0, dilation=1, ceil_mode=False)\n",
      "  )\n",
      "  (classifier): Sequential(\n",
      "    (0): Linear(in_features=32768, out_features=128, bias=True)\n",
      "    (1): ReLU(inplace=True)\n",
      "    (2): Linear(in_features=128, out_features=2, bias=True)\n",
      "  )\n",
      ")\n"
     ]
    }
   ],
   "source": [
    "import torch\n",
    "import torch.nn as nn\n",
    "import torch.optim as optim\n",
    "from torch.utils.data import TensorDataset, DataLoader\n",
    "\n",
    "input_shape = (3, 256, 256)\n",
    "\n",
    "class SimpleCNN(nn.Module):\n",
    "    def __init__(self, num_classes):\n",
    "        super(SimpleCNN, self).__init__()\n",
    "        self.features = nn.Sequential(\n",
    "            nn.Conv2d(3, 16, kernel_size=3, stride=1, padding=1),\n",
    "            nn.ReLU(inplace=True),\n",
    "            nn.MaxPool2d(kernel_size=2, stride=2),\n",
    "            nn.Conv2d(16, 32, kernel_size=3, stride=1, padding=1),\n",
    "            nn.ReLU(inplace=True),\n",
    "            nn.MaxPool2d(kernel_size=2, stride=2)\n",
    "        )\n",
    "        # Calculate the shape of the output after conv layers to feed into fully connected layers\n",
    "        self.flatten_dim = self._get_flatten_dim(input_shape)\n",
    "        self.classifier = nn.Sequential(\n",
    "            nn.Linear(self.flatten_dim, 128),\n",
    "            nn.ReLU(inplace=True),\n",
    "            nn.Linear(128, num_classes)\n",
    "        )\n",
    "\n",
    "    def _get_flatten_dim(self, shape):\n",
    "        x = torch.randn(1, *shape)\n",
    "        x = self.features(x)\n",
    "        return x.view(1, -1).size(1)\n",
    "\n",
    "    def forward(self, x):\n",
    "        x = self.features(x)\n",
    "        x = x.view(x.size(0), -1)  # flatten the tensor\n",
    "        x = self.classifier(x)\n",
    "        return x\n",
    "\n",
    "# Initialize the model\n",
    "num_classes = 2\n",
    "model = SimpleCNN(num_classes)\n",
    "print(model)\n"
   ]
  },
  {
   "cell_type": "code",
   "execution_count": 38,
   "metadata": {},
   "outputs": [],
   "source": [
    "# Convert numpy arrays to PyTorch tensors\n",
    "X_train_tensor = torch.Tensor(X_train)\n",
    "y_train_tensor = torch.LongTensor(y_train)\n",
    "X_val_tensor = torch.Tensor(X_val)\n",
    "y_val_tensor = torch.LongTensor(y_val)\n",
    "\n",
    "# Create DataLoader instances\n",
    "train_dataset = TensorDataset(X_train_tensor, y_train_tensor)\n",
    "val_dataset = TensorDataset(X_val_tensor, y_val_tensor)\n",
    "\n",
    "batch_size = 16\n",
    "train_loader = DataLoader(train_dataset, batch_size=batch_size, shuffle=True)\n",
    "val_loader = DataLoader(val_dataset, batch_size=batch_size)"
   ]
  },
  {
   "cell_type": "code",
   "execution_count": 39,
   "metadata": {},
   "outputs": [],
   "source": [
    "criterion = nn.CrossEntropyLoss()\n",
    "optimizer = optim.Adam(model.parameters(), lr=0.001)"
   ]
  },
  {
   "cell_type": "code",
   "execution_count": 40,
   "metadata": {},
   "outputs": [],
   "source": [
    "from tqdm import tqdm\n",
    "\n",
    "def calculate_accuracy(outputs, labels):\n",
    "    _, predicted = torch.max(outputs, 1)\n",
    "    correct = (predicted == labels).sum().item()\n",
    "    accuracy = correct / labels.size(0)\n",
    "    return accuracy\n",
    "\n",
    "train_losses = []\n",
    "val_losses = []\n",
    "train_accuracies = []\n",
    "val_accuracies = []\n",
    "\n",
    "def train_model(model, train_loader, val_loader, criterion, optimizer, num_epochs=20, patience=5):\n",
    "    \n",
    "    best_val_loss = np.inf\n",
    "    no_improvement_count = 0\n",
    "    \n",
    "    for epoch in range(num_epochs):\n",
    "        model.train()\n",
    "        train_loss = 0.0\n",
    "        train_correct = 0\n",
    "        train_total = 0\n",
    "        \n",
    "        for inputs, labels in tqdm(train_loader, desc=f'Epoch {epoch+1}/{num_epochs}', leave=False):\n",
    "            optimizer.zero_grad()\n",
    "            outputs = model(inputs)\n",
    "            loss = criterion(outputs, labels)\n",
    "            loss.backward()\n",
    "            optimizer.step()\n",
    "            train_loss += loss.item() * inputs.size(0)\n",
    "            train_total += labels.size(0)\n",
    "            train_correct += (torch.argmax(outputs, dim=1) == labels).sum().item()\n",
    "        \n",
    "        train_loss = train_loss / len(train_loader.dataset)\n",
    "        train_accuracy = train_correct / train_total\n",
    "        train_losses.append(train_loss)\n",
    "        train_accuracies.append(train_accuracy)\n",
    "        \n",
    "        model.eval()\n",
    "        val_loss = 0.0\n",
    "        val_correct = 0\n",
    "        val_total = 0\n",
    "        \n",
    "        with torch.no_grad():\n",
    "            for inputs, labels in val_loader:\n",
    "                outputs = model(inputs)\n",
    "                loss = criterion(outputs, labels)\n",
    "                val_loss += loss.item() * inputs.size(0)\n",
    "                val_total += labels.size(0)\n",
    "                val_correct += (torch.argmax(outputs, dim=1) == labels).sum().item()\n",
    "        \n",
    "        val_loss = val_loss / len(val_loader.dataset)\n",
    "        val_accuracy = val_correct / val_total\n",
    "        val_losses.append(val_loss)\n",
    "        val_accuracies.append(val_accuracy)\n",
    "        \n",
    "        print(f'Epoch {epoch+1}/{num_epochs}, Train Loss: {train_loss:.4f}, Val Loss: {val_loss:.4f}, Train Acc: {train_accuracy:.4f}, Val Acc: {val_accuracy:.4f}')\n",
    "        \n",
    "        # Early stopping\n",
    "        if val_loss < best_val_loss:\n",
    "            best_val_loss = val_loss\n",
    "            no_improvement_count = 0\n",
    "        else:\n",
    "            no_improvement_count += 1\n",
    "        \n",
    "        if no_improvement_count >= patience:\n",
    "            print(f'Early stopping after epoch {epoch+1}')\n",
    "            break"
   ]
  },
  {
   "cell_type": "code",
   "execution_count": 41,
   "metadata": {},
   "outputs": [
    {
     "name": "stderr",
     "output_type": "stream",
     "text": [
      "                                                           \r"
     ]
    },
    {
     "name": "stdout",
     "output_type": "stream",
     "text": [
      "Epoch 1/20, Train Loss: 0.6058, Val Loss: 0.4279, Train Acc: 0.6780, Val Acc: 0.8305\n"
     ]
    },
    {
     "name": "stderr",
     "output_type": "stream",
     "text": [
      "                                                           \r"
     ]
    },
    {
     "name": "stdout",
     "output_type": "stream",
     "text": [
      "Epoch 2/20, Train Loss: 0.2445, Val Loss: 0.2332, Train Acc: 0.8996, Val Acc: 0.8983\n"
     ]
    },
    {
     "name": "stderr",
     "output_type": "stream",
     "text": [
      "                                                           \r"
     ]
    },
    {
     "name": "stdout",
     "output_type": "stream",
     "text": [
      "Epoch 3/20, Train Loss: 0.1030, Val Loss: 0.1050, Train Acc: 0.9602, Val Acc: 0.9492\n"
     ]
    },
    {
     "name": "stderr",
     "output_type": "stream",
     "text": [
      "                                                           \r"
     ]
    },
    {
     "name": "stdout",
     "output_type": "stream",
     "text": [
      "Epoch 4/20, Train Loss: 0.0344, Val Loss: 0.0864, Train Acc: 0.9924, Val Acc: 0.9492\n"
     ]
    },
    {
     "name": "stderr",
     "output_type": "stream",
     "text": [
      "                                                           \r"
     ]
    },
    {
     "name": "stdout",
     "output_type": "stream",
     "text": [
      "Epoch 5/20, Train Loss: 0.0164, Val Loss: 0.0888, Train Acc: 0.9962, Val Acc: 0.9661\n"
     ]
    },
    {
     "name": "stderr",
     "output_type": "stream",
     "text": [
      "                                                           \r"
     ]
    },
    {
     "name": "stdout",
     "output_type": "stream",
     "text": [
      "Epoch 6/20, Train Loss: 0.0099, Val Loss: 0.0786, Train Acc: 1.0000, Val Acc: 0.9661\n"
     ]
    },
    {
     "name": "stderr",
     "output_type": "stream",
     "text": [
      "                                                           \r"
     ]
    },
    {
     "name": "stdout",
     "output_type": "stream",
     "text": [
      "Epoch 7/20, Train Loss: 0.0022, Val Loss: 0.0828, Train Acc: 1.0000, Val Acc: 0.9661\n"
     ]
    },
    {
     "name": "stderr",
     "output_type": "stream",
     "text": [
      "                                                           \r"
     ]
    },
    {
     "name": "stdout",
     "output_type": "stream",
     "text": [
      "Epoch 8/20, Train Loss: 0.0017, Val Loss: 0.0753, Train Acc: 1.0000, Val Acc: 0.9661\n"
     ]
    },
    {
     "name": "stderr",
     "output_type": "stream",
     "text": [
      "                                                           \r"
     ]
    },
    {
     "name": "stdout",
     "output_type": "stream",
     "text": [
      "Epoch 9/20, Train Loss: 0.0012, Val Loss: 0.0754, Train Acc: 1.0000, Val Acc: 0.9661\n"
     ]
    },
    {
     "name": "stderr",
     "output_type": "stream",
     "text": [
      "                                                            \r"
     ]
    },
    {
     "name": "stdout",
     "output_type": "stream",
     "text": [
      "Epoch 10/20, Train Loss: 0.0006, Val Loss: 0.0571, Train Acc: 1.0000, Val Acc: 0.9661\n"
     ]
    },
    {
     "name": "stderr",
     "output_type": "stream",
     "text": [
      "                                                            \r"
     ]
    },
    {
     "name": "stdout",
     "output_type": "stream",
     "text": [
      "Epoch 11/20, Train Loss: 0.0005, Val Loss: 0.0585, Train Acc: 1.0000, Val Acc: 0.9661\n"
     ]
    },
    {
     "name": "stderr",
     "output_type": "stream",
     "text": [
      "                                                            \r"
     ]
    },
    {
     "name": "stdout",
     "output_type": "stream",
     "text": [
      "Epoch 12/20, Train Loss: 0.0005, Val Loss: 0.0647, Train Acc: 1.0000, Val Acc: 0.9492\n"
     ]
    },
    {
     "name": "stderr",
     "output_type": "stream",
     "text": [
      "                                                            \r"
     ]
    },
    {
     "name": "stdout",
     "output_type": "stream",
     "text": [
      "Epoch 13/20, Train Loss: 0.0003, Val Loss: 0.0568, Train Acc: 1.0000, Val Acc: 0.9661\n"
     ]
    },
    {
     "name": "stderr",
     "output_type": "stream",
     "text": [
      "                                                            \r"
     ]
    },
    {
     "name": "stdout",
     "output_type": "stream",
     "text": [
      "Epoch 14/20, Train Loss: 0.0003, Val Loss: 0.0552, Train Acc: 1.0000, Val Acc: 0.9661\n"
     ]
    },
    {
     "name": "stderr",
     "output_type": "stream",
     "text": [
      "                                                            \r"
     ]
    },
    {
     "name": "stdout",
     "output_type": "stream",
     "text": [
      "Epoch 15/20, Train Loss: 0.0002, Val Loss: 0.0525, Train Acc: 1.0000, Val Acc: 0.9661\n"
     ]
    },
    {
     "name": "stderr",
     "output_type": "stream",
     "text": [
      "                                                            \r"
     ]
    },
    {
     "name": "stdout",
     "output_type": "stream",
     "text": [
      "Epoch 16/20, Train Loss: 0.0002, Val Loss: 0.0503, Train Acc: 1.0000, Val Acc: 0.9661\n"
     ]
    },
    {
     "name": "stderr",
     "output_type": "stream",
     "text": [
      "                                                            \r"
     ]
    },
    {
     "name": "stdout",
     "output_type": "stream",
     "text": [
      "Epoch 17/20, Train Loss: 0.0002, Val Loss: 0.0471, Train Acc: 1.0000, Val Acc: 0.9661\n"
     ]
    },
    {
     "name": "stderr",
     "output_type": "stream",
     "text": [
      "                                                            \r"
     ]
    },
    {
     "name": "stdout",
     "output_type": "stream",
     "text": [
      "Epoch 18/20, Train Loss: 0.0002, Val Loss: 0.0568, Train Acc: 1.0000, Val Acc: 0.9661\n"
     ]
    },
    {
     "name": "stderr",
     "output_type": "stream",
     "text": [
      "                                                            \r"
     ]
    },
    {
     "name": "stdout",
     "output_type": "stream",
     "text": [
      "Epoch 19/20, Train Loss: 0.0002, Val Loss: 0.0554, Train Acc: 1.0000, Val Acc: 0.9492\n"
     ]
    },
    {
     "name": "stderr",
     "output_type": "stream",
     "text": [
      "                                                            "
     ]
    },
    {
     "name": "stdout",
     "output_type": "stream",
     "text": [
      "Epoch 20/20, Train Loss: 0.0001, Val Loss: 0.0517, Train Acc: 1.0000, Val Acc: 0.9661\n"
     ]
    },
    {
     "name": "stderr",
     "output_type": "stream",
     "text": [
      "\r"
     ]
    }
   ],
   "source": [
    "train_model(model, train_loader, val_loader, criterion, optimizer, num_epochs=20, patience=5)"
   ]
  },
  {
   "cell_type": "code",
   "execution_count": 42,
   "metadata": {},
   "outputs": [
    {
     "data": {
      "image/png": "[encoded data removed]",
      "text/plain": [
       "<Figure size 640x480 with 1 Axes>"
      ]
     },
     "metadata": {},
     "output_type": "display_data"
    }
   ],
   "source": [
    "import matplotlib.pyplot as plt\n",
    "\n",
    "plt.plot(range(1, len(train_losses)+1), train_losses, label='Train')\n",
    "plt.plot(range(1, len(val_losses)+1), val_losses, label='Val')\n",
    "plt.xlabel('Epochs')\n",
    "plt.ylabel('Loss')\n",
    "plt.title('Train and Validation Loss')\n",
    "plt.legend()\n",
    "plt.show()"
   ]
  },
  {
   "cell_type": "code",
   "execution_count": 43,
   "metadata": {},
   "outputs": [
    {
     "data": {
      "image/png": "[encoded data removed]",
      "text/plain": [
       "<Figure size 640x480 with 1 Axes>"
      ]
     },
     "metadata": {},
     "output_type": "display_data"
    }
   ],
   "source": [
    "plt.plot(range(1, len(train_accuracies)+1), train_accuracies, label='Train')\n",
    "plt.plot(range(1, len(val_accuracies)+1), val_accuracies, label='Val')\n",
    "plt.xlabel('Epochs')\n",
    "plt.ylabel('Accuracy')\n",
    "plt.title('Train and Validation Accuracy')\n",
    "plt.legend()\n",
    "plt.show()"
   ]
  },
  {
   "cell_type": "code",
   "execution_count": 44,
   "metadata": {},
   "outputs": [],
   "source": [
    "model_path = '../model/trained_model/simple_cnn_model.pth'\n",
    "torch.save(model, model_path)"
   ]
  },
  {
   "cell_type": "code",
   "execution_count": 46,
   "metadata": {},
   "outputs": [
    {
     "name": "stdout",
     "output_type": "stream",
     "text": [
      "SimpleCNN(\n",
      "  (features): Sequential(\n",
      "    (0): Conv2d(3, 16, kernel_size=(3, 3), stride=(1, 1), padding=(1, 1))\n",
      "    (1): ReLU(inplace=True)\n",
      "    (2): MaxPool2d(kernel_size=2, stride=2, padding=0, dilation=1, ceil_mode=False)\n",
      "    (3): Conv2d(16, 32, kernel_size=(3, 3), stride=(1, 1), padding=(1, 1))\n",
      "    (4): ReLU(inplace=True)\n",
      "    (5): MaxPool2d(kernel_size=2, stride=2, padding=0, dilation=1, ceil_mode=False)\n",
      "  )\n",
      "  (classifier): Sequential(\n",
      "    (0): Linear(in_features=32768, out_features=128, bias=True)\n",
      "    (1): ReLU(inplace=True)\n",
      "    (2): Linear(in_features=128, out_features=2, bias=True)\n",
      "  )\n",
      ")\n"
     ]
    }
   ],
   "source": []
  },
  {
   "cell_type": "code",
   "execution_count": 47,
   "metadata": {},
   "outputs": [],
   "source": [
    "torch.save({\n",
    "    'model_state_dict': model.state_dict(),\n",
    "}, '../model/trained_model/simple_cnn_model.pth')"
   ]
  },
  {
   "cell_type": "code",
   "execution_count": null,
   "metadata": {},
   "outputs": [],
   "source": []
  },
  {
   "cell_type": "code",
   "execution_count": null,
   "metadata": {},
   "outputs": [],
   "source": []
  },
  {
   "cell_type": "code",
   "execution_count": null,
   "metadata": {},
   "outputs": [],
   "source": []
  }
 ],
 "metadata": {
  "kernelspec": {
   "display_name": "alert-drive",
   "language": "python",
   "name": "python3"
  },
  "language_info": {
   "codemirror_mode": {
    "name": "ipython",
    "version": 3
   },
   "file_extension": ".py",
   "mimetype": "text/x-python",
   "name": "python",
   "nbconvert_exporter": "python",
   "pygments_lexer": "ipython3",
   "version": "3.10.14"
  }
 },
 "nbformat": 4,
 "nbformat_minor": 2
}
