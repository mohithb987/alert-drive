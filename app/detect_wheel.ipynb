{
 "cells": [
  {
   "cell_type": "code",
   "execution_count": 38,
   "metadata": {},
   "outputs": [],
   "source": [
    "import cv2\n",
    "import os\n",
    "import glob\n",
    "from PIL import Image"
   ]
  },
  {
   "cell_type": "code",
   "execution_count": 67,
   "metadata": {},
   "outputs": [
    {
     "name": "stdout",
     "output_type": "stream",
     "text": [
      "All files: 103\n",
      "Class yes: 70\n",
      "Class no: 33\n",
      "Yes Data: {'data/steering_wheel/resized/yes/63.jpg': 1, 'data/steering_wheel/resized/yes/62.jpg': 1, 'data/steering_wheel/resized/yes/60.jpg': 1, 'data/steering_wheel/resized/yes/48.jpg': 1, 'data/steering_wheel/resized/yes/49.jpg': 1, 'data/steering_wheel/resized/yes/61.jpg': 1, 'data/steering_wheel/resized/yes/59.jpg': 1, 'data/steering_wheel/resized/yes/71.jpg': 1, 'data/steering_wheel/resized/yes/65.jpg': 1, 'data/steering_wheel/resized/yes/64.jpg': 1, 'data/steering_wheel/resized/yes/70.jpg': 1, 'data/steering_wheel/resized/yes/58.jpg': 1, 'data/steering_wheel/resized/yes/8.jpg': 1, 'data/steering_wheel/resized/yes/66.jpg': 1, 'data/steering_wheel/resized/yes/72.jpg': 1, 'data/steering_wheel/resized/yes/67.jpg': 1, 'data/steering_wheel/resized/yes/9.jpg': 1, 'data/steering_wheel/resized/yes/14.jpg': 1, 'data/steering_wheel/resized/yes/28.jpg': 1, 'data/steering_wheel/resized/yes/29.jpg': 1, 'data/steering_wheel/resized/yes/15.jpg': 1, 'data/steering_wheel/resized/yes/17.jpg': 1, 'data/steering_wheel/resized/yes/16.jpg': 1, 'data/steering_wheel/resized/yes/12.jpg': 1, 'data/steering_wheel/resized/yes/13.jpg': 1, 'data/steering_wheel/resized/yes/39.jpg': 1, 'data/steering_wheel/resized/yes/11.jpg': 1, 'data/steering_wheel/resized/yes/10.jpg': 1, 'data/steering_wheel/resized/yes/38.jpg': 1, 'data/steering_wheel/resized/yes/21.jpg': 1, 'data/steering_wheel/resized/yes/34.jpg': 1, 'data/steering_wheel/resized/yes/20.jpg': 1, 'data/steering_wheel/resized/yes/36.jpg': 1, 'data/steering_wheel/resized/yes/22.jpg': 1, 'data/steering_wheel/resized/yes/23.jpg': 1, 'data/steering_wheel/resized/yes/37.jpg': 1, 'data/steering_wheel/resized/yes/33.jpg': 1, 'data/steering_wheel/resized/yes/27.jpg': 1, 'data/steering_wheel/resized/yes/26.jpg': 1, 'data/steering_wheel/resized/yes/32.jpg': 1, 'data/steering_wheel/resized/yes/18.jpg': 1, 'data/steering_wheel/resized/yes/24.jpg': 1, 'data/steering_wheel/resized/yes/30.jpg': 1, 'data/steering_wheel/resized/yes/31.jpg': 1, 'data/steering_wheel/resized/yes/25.jpg': 1, 'data/steering_wheel/resized/yes/19.jpg': 1, 'data/steering_wheel/resized/yes/42.jpg': 1, 'data/steering_wheel/resized/yes/4.jpg': 1, 'data/steering_wheel/resized/yes/56.jpg': 1, 'data/steering_wheel/resized/yes/5.jpg': 1, 'data/steering_wheel/resized/yes/57.jpg': 1, 'data/steering_wheel/resized/yes/43.jpg': 1, 'data/steering_wheel/resized/yes/55.jpg': 1, 'data/steering_wheel/resized/yes/7.jpg': 1, 'data/steering_wheel/resized/yes/41.jpg': 1, 'data/steering_wheel/resized/yes/69.jpg': 1, 'data/steering_wheel/resized/yes/68.jpg': 1, 'data/steering_wheel/resized/yes/40.jpg': 1, 'data/steering_wheel/resized/yes/54.jpg': 1, 'data/steering_wheel/resized/yes/2.jpg': 1, 'data/steering_wheel/resized/yes/50.jpg': 1, 'data/steering_wheel/resized/yes/44.jpg': 1, 'data/steering_wheel/resized/yes/45.jpg': 1, 'data/steering_wheel/resized/yes/3.jpg': 1, 'data/steering_wheel/resized/yes/51.jpg': 1, 'data/steering_wheel/resized/yes/47.jpg': 1, 'data/steering_wheel/resized/yes/53.jpg': 1, 'data/steering_wheel/resized/yes/1.jpg': 1, 'data/steering_wheel/resized/yes/52.jpg': 1, 'data/steering_wheel/resized/yes/46.jpg': 1}\n",
      "No Data: {'data/steering_wheel/resized/no/63.jpg': 0, 'data/steering_wheel/resized/no/62.jpg': 0, 'data/steering_wheel/resized/no/60.jpg': 0, 'data/steering_wheel/resized/no/48.jpg': 0, 'data/steering_wheel/resized/no/49.jpg': 0, 'data/steering_wheel/resized/no/61.jpg': 0, 'data/steering_wheel/resized/no/59.jpg': 0, 'data/steering_wheel/resized/no/65.jpg': 0, 'data/steering_wheel/resized/no/64.jpg': 0, 'data/steering_wheel/resized/no/58.jpg': 0, 'data/steering_wheel/resized/no/8.jpg': 0, 'data/steering_wheel/resized/no/14.jpg': 0, 'data/steering_wheel/resized/no/15.jpg': 0, 'data/steering_wheel/resized/no/12.jpg': 0, 'data/steering_wheel/resized/no/13.jpg': 0, 'data/steering_wheel/resized/no/39.jpg': 0, 'data/steering_wheel/resized/no/11.jpg': 0, 'data/steering_wheel/resized/no/23.jpg': 0, 'data/steering_wheel/resized/no/32.jpg': 0, 'data/steering_wheel/resized/no/18.jpg': 0, 'data/steering_wheel/resized/no/42.jpg': 0, 'data/steering_wheel/resized/no/56.jpg': 0, 'data/steering_wheel/resized/no/57.jpg': 0, 'data/steering_wheel/resized/no/43.jpg': 0, 'data/steering_wheel/resized/no/55.jpg': 0, 'data/steering_wheel/resized/no/54.jpg': 0, 'data/steering_wheel/resized/no/50.jpg': 0, 'data/steering_wheel/resized/no/45.jpg': 0, 'data/steering_wheel/resized/no/51.jpg': 0, 'data/steering_wheel/resized/no/47.jpg': 0, 'data/steering_wheel/resized/no/53.jpg': 0, 'data/steering_wheel/resized/no/52.jpg': 0, 'data/steering_wheel/resized/no/46.jpg': 0}\n",
      "All Data: {'data/steering_wheel/resized/yes/63.jpg': 1, 'data/steering_wheel/resized/yes/62.jpg': 1, 'data/steering_wheel/resized/yes/60.jpg': 1, 'data/steering_wheel/resized/yes/48.jpg': 1, 'data/steering_wheel/resized/yes/49.jpg': 1, 'data/steering_wheel/resized/yes/61.jpg': 1, 'data/steering_wheel/resized/yes/59.jpg': 1, 'data/steering_wheel/resized/yes/71.jpg': 1, 'data/steering_wheel/resized/yes/65.jpg': 1, 'data/steering_wheel/resized/yes/64.jpg': 1, 'data/steering_wheel/resized/yes/70.jpg': 1, 'data/steering_wheel/resized/yes/58.jpg': 1, 'data/steering_wheel/resized/yes/8.jpg': 1, 'data/steering_wheel/resized/yes/66.jpg': 1, 'data/steering_wheel/resized/yes/72.jpg': 1, 'data/steering_wheel/resized/yes/67.jpg': 1, 'data/steering_wheel/resized/yes/9.jpg': 1, 'data/steering_wheel/resized/yes/14.jpg': 1, 'data/steering_wheel/resized/yes/28.jpg': 1, 'data/steering_wheel/resized/yes/29.jpg': 1, 'data/steering_wheel/resized/yes/15.jpg': 1, 'data/steering_wheel/resized/yes/17.jpg': 1, 'data/steering_wheel/resized/yes/16.jpg': 1, 'data/steering_wheel/resized/yes/12.jpg': 1, 'data/steering_wheel/resized/yes/13.jpg': 1, 'data/steering_wheel/resized/yes/39.jpg': 1, 'data/steering_wheel/resized/yes/11.jpg': 1, 'data/steering_wheel/resized/yes/10.jpg': 1, 'data/steering_wheel/resized/yes/38.jpg': 1, 'data/steering_wheel/resized/yes/21.jpg': 1, 'data/steering_wheel/resized/yes/34.jpg': 1, 'data/steering_wheel/resized/yes/20.jpg': 1, 'data/steering_wheel/resized/yes/36.jpg': 1, 'data/steering_wheel/resized/yes/22.jpg': 1, 'data/steering_wheel/resized/yes/23.jpg': 1, 'data/steering_wheel/resized/yes/37.jpg': 1, 'data/steering_wheel/resized/yes/33.jpg': 1, 'data/steering_wheel/resized/yes/27.jpg': 1, 'data/steering_wheel/resized/yes/26.jpg': 1, 'data/steering_wheel/resized/yes/32.jpg': 1, 'data/steering_wheel/resized/yes/18.jpg': 1, 'data/steering_wheel/resized/yes/24.jpg': 1, 'data/steering_wheel/resized/yes/30.jpg': 1, 'data/steering_wheel/resized/yes/31.jpg': 1, 'data/steering_wheel/resized/yes/25.jpg': 1, 'data/steering_wheel/resized/yes/19.jpg': 1, 'data/steering_wheel/resized/yes/42.jpg': 1, 'data/steering_wheel/resized/yes/4.jpg': 1, 'data/steering_wheel/resized/yes/56.jpg': 1, 'data/steering_wheel/resized/yes/5.jpg': 1, 'data/steering_wheel/resized/yes/57.jpg': 1, 'data/steering_wheel/resized/yes/43.jpg': 1, 'data/steering_wheel/resized/yes/55.jpg': 1, 'data/steering_wheel/resized/yes/7.jpg': 1, 'data/steering_wheel/resized/yes/41.jpg': 1, 'data/steering_wheel/resized/yes/69.jpg': 1, 'data/steering_wheel/resized/yes/68.jpg': 1, 'data/steering_wheel/resized/yes/40.jpg': 1, 'data/steering_wheel/resized/yes/54.jpg': 1, 'data/steering_wheel/resized/yes/2.jpg': 1, 'data/steering_wheel/resized/yes/50.jpg': 1, 'data/steering_wheel/resized/yes/44.jpg': 1, 'data/steering_wheel/resized/yes/45.jpg': 1, 'data/steering_wheel/resized/yes/3.jpg': 1, 'data/steering_wheel/resized/yes/51.jpg': 1, 'data/steering_wheel/resized/yes/47.jpg': 1, 'data/steering_wheel/resized/yes/53.jpg': 1, 'data/steering_wheel/resized/yes/1.jpg': 1, 'data/steering_wheel/resized/yes/52.jpg': 1, 'data/steering_wheel/resized/yes/46.jpg': 1, 'data/steering_wheel/resized/no/63.jpg': 0, 'data/steering_wheel/resized/no/62.jpg': 0, 'data/steering_wheel/resized/no/60.jpg': 0, 'data/steering_wheel/resized/no/48.jpg': 0, 'data/steering_wheel/resized/no/49.jpg': 0, 'data/steering_wheel/resized/no/61.jpg': 0, 'data/steering_wheel/resized/no/59.jpg': 0, 'data/steering_wheel/resized/no/65.jpg': 0, 'data/steering_wheel/resized/no/64.jpg': 0, 'data/steering_wheel/resized/no/58.jpg': 0, 'data/steering_wheel/resized/no/8.jpg': 0, 'data/steering_wheel/resized/no/14.jpg': 0, 'data/steering_wheel/resized/no/15.jpg': 0, 'data/steering_wheel/resized/no/12.jpg': 0, 'data/steering_wheel/resized/no/13.jpg': 0, 'data/steering_wheel/resized/no/39.jpg': 0, 'data/steering_wheel/resized/no/11.jpg': 0, 'data/steering_wheel/resized/no/23.jpg': 0, 'data/steering_wheel/resized/no/32.jpg': 0, 'data/steering_wheel/resized/no/18.jpg': 0, 'data/steering_wheel/resized/no/42.jpg': 0, 'data/steering_wheel/resized/no/56.jpg': 0, 'data/steering_wheel/resized/no/57.jpg': 0, 'data/steering_wheel/resized/no/43.jpg': 0, 'data/steering_wheel/resized/no/55.jpg': 0, 'data/steering_wheel/resized/no/54.jpg': 0, 'data/steering_wheel/resized/no/50.jpg': 0, 'data/steering_wheel/resized/no/45.jpg': 0, 'data/steering_wheel/resized/no/51.jpg': 0, 'data/steering_wheel/resized/no/47.jpg': 0, 'data/steering_wheel/resized/no/53.jpg': 0, 'data/steering_wheel/resized/no/52.jpg': 0, 'data/steering_wheel/resized/no/46.jpg': 0}\n"
     ]
    }
   ],
   "source": [
    "def get_relative_file_paths(directory, root_folder):\n",
    "    root_folder_abs_path = os.path.abspath(root_folder)\n",
    "    all_files = glob.glob(os.path.join(directory, '*/*'), recursive=True)\n",
    "    relative_paths = [\n",
    "        os.path.relpath(file, root_folder_abs_path)\n",
    "        for file in all_files if os.path.isfile(file)\n",
    "    ]\n",
    "    no_files = glob.glob(os.path.join(directory, 'no/*'), recursive=True)\n",
    "    no_relative_paths = [\n",
    "        os.path.relpath(file, root_folder_abs_path)\n",
    "        for file in no_files if os.path.isfile(file)\n",
    "    ]\n",
    "\n",
    "    yes_files = glob.glob(os.path.join(directory, 'yes/*'), recursive=True)\n",
    "    yes_relative_paths = [\n",
    "        os.path.relpath(file, root_folder_abs_path)\n",
    "        for file in yes_files if os.path.isfile(file)\n",
    "    ]\n",
    "\n",
    "    no_data = {}\n",
    "    for path in no_relative_paths:\n",
    "        no_data[path] = 0\n",
    "\n",
    "    yes_data = {}\n",
    "    for path in yes_relative_paths:\n",
    "        yes_data[path] = 1\n",
    "\n",
    "    all_data = {**yes_data, **no_data}\n",
    "\n",
    "\n",
    "    print('All files:', len(relative_paths))\n",
    "    print('Class yes:', len(yes_relative_paths))\n",
    "    print('Class no:', len(no_relative_paths))\n",
    "\n",
    "    print('Yes Data:', yes_data)\n",
    "    print('No Data:', no_data)\n",
    "    print('All Data:', all_data)\n",
    "    \n",
    "    return all_data\n",
    "\n",
    "directory = '../input/data/steering_wheel/resized'  \n",
    "root_folder = '../'\n",
    "\n",
    "all_data = get_relative_file_paths(directory, root_folder)"
   ]
  },
  {
   "cell_type": "code",
   "execution_count": 99,
   "metadata": {},
   "outputs": [
    {
     "name": "stdout",
     "output_type": "stream",
     "text": [
      "X_train shape: torch.Size([324, 1, 128, 128]), y_train shape: torch.Size([324])\n",
      "X_val shape: torch.Size([36, 1, 128, 128]), y_val shape: torch.Size([36])\n",
      "X_test shape: torch.Size([90, 1, 128, 128]), y_test shape: torch.Size([90])\n"
     ]
    },
    {
     "name": "stderr",
     "output_type": "stream",
     "text": [
      "/var/folders/pc/5jkxyq3s4xb26zff0_pshj400000gn/T/ipykernel_6035/451323169.py:73: UserWarning: To copy construct from a tensor, it is recommended to use sourceTensor.clone().detach() or sourceTensor.clone().detach().requires_grad_(True), rather than torch.tensor(sourceTensor).\n",
      "  X_train, X_val, X_test = torch.tensor(X_train), torch.tensor(X_val), torch.tensor(X_test)\n"
     ]
    }
   ],
   "source": [
    "import numpy as np\n",
    "import torch\n",
    "from torchvision import transforms\n",
    "from sklearn.model_selection import train_test_split\n",
    "from torch.utils.data import TensorDataset, DataLoader\n",
    "from PIL import Image\n",
    "import os\n",
    "\n",
    "# Define paths and labels\n",
    "data_dir = '../input/data/steering_wheel/resized/'\n",
    "yes_dir = os.path.join(data_dir, 'yes')\n",
    "no_dir = os.path.join(data_dir, 'no')\n",
    "\n",
    "yes_files = [os.path.join(yes_dir, f) for f in os.listdir(yes_dir) if f.endswith('.jpg')]\n",
    "no_files = [os.path.join(no_dir, f) for f in os.listdir(no_dir) if f.endswith('.jpg')]\n",
    "\n",
    "file_paths = yes_files + no_files\n",
    "labels = np.array([1] * len(yes_files) + [0] * len(no_files))\n",
    "\n",
    "# Data augmentation transforms\n",
    "transform = transforms.Compose([\n",
    "    transforms.Resize((128, 128)),\n",
    "    transforms.RandomHorizontalFlip(),\n",
    "    transforms.Grayscale(num_output_channels=1), \n",
    "    transforms.ToTensor(),\n",
    "])\n",
    "\n",
    "def load_and_augment_images(file_paths, labels, augment_times=5, save_dir='../input/data/steering_wheel/augmented_images'):\n",
    "    augmented_images = []\n",
    "    augmented_labels = []\n",
    "\n",
    "    if not os.path.exists(save_dir):\n",
    "        os.makedirs(save_dir)\n",
    "\n",
    "    for idx, (file_path, label) in enumerate(zip(file_paths, labels)):\n",
    "        img = Image.open(file_path)\n",
    "\n",
    "\n",
    "        # Add original image to dataset\n",
    "        original_image = transform(img)\n",
    "        original_save_path = os.path.join(save_dir, f'{idx}_original.jpg')\n",
    "        original_image_pil = transforms.ToPILImage()(original_image)\n",
    "        original_image_pil.save(original_save_path)\n",
    "\n",
    "        augmented_images.append(original_image)\n",
    "        augmented_labels.append(label)\n",
    "\n",
    "        # Apply augmentation multiple times\n",
    "        for i in range(augment_times):\n",
    "            augmented_image = transform(img)\n",
    "\n",
    "            # Save the augmented image\n",
    "            augmented_save_path = os.path.join(save_dir, f'{idx}_augmented_{i}.jpg')\n",
    "            augmented_image_pil = transforms.ToPILImage()(augmented_image)\n",
    "            augmented_image_pil.save(augmented_save_path)\n",
    "\n",
    "            augmented_images.append(augmented_image)\n",
    "            augmented_labels.append(label)\n",
    "\n",
    "    return torch.stack(augmented_images), np.array(augmented_labels)\n",
    "\n",
    "\n",
    "# Load and augment images\n",
    "X_augmented, y_augmented = load_and_augment_images(file_paths, labels, augment_times=5)\n",
    "\n",
    "# Split dataset into train, validation, and test sets\n",
    "test_size = 0.2\n",
    "random_state = 42\n",
    "\n",
    "X_train, X_test, y_train, y_test = train_test_split(X_augmented, y_augmented, test_size=test_size, random_state=random_state)\n",
    "X_train, X_val, y_train, y_val = train_test_split(X_train, y_train, test_size=0.1, random_state=random_state)\n",
    "\n",
    "X_train, X_val, X_test = torch.tensor(X_train), torch.tensor(X_val), torch.tensor(X_test)\n",
    "y_train, y_val, y_test = torch.tensor(y_train), torch.tensor(y_val), torch.tensor(y_test)\n",
    "\n",
    "# Print shapes\n",
    "print(f\"X_train shape: {X_train.shape}, y_train shape: {y_train.shape}\")\n",
    "print(f\"X_val shape: {X_val.shape}, y_val shape: {y_val.shape}\")\n",
    "print(f\"X_test shape: {X_test.shape}, y_test shape: {y_test.shape}\")\n"
   ]
  },
  {
   "cell_type": "code",
   "execution_count": 116,
   "metadata": {},
   "outputs": [],
   "source": [
    "import torch.nn as nn\n",
    "import torch.optim as optim\n",
    "\n",
    "class CNN(nn.Module):\n",
    "    def __init__(self):\n",
    "        super(CNN, self).__init__()\n",
    "        self.conv1 = nn.Conv2d(1, 32, kernel_size=3, padding=1)  # Adjust input channels to 1 for grayscale\n",
    "        self.conv2 = nn.Conv2d(32, 64, kernel_size=3, padding=1)\n",
    "        self.fc1 = nn.Linear(64 * 128 * 128, 128)  # Corrected input size\n",
    "        self.fc2 = nn.Linear(128, 2)\n",
    "\n",
    "    def forward(self, x):\n",
    "        x = nn.functional.relu(self.conv1(x))\n",
    "        x = nn.functional.relu(self.conv2(x))\n",
    "        x = x.view(-1, 64 * 128 * 128)  # Adjusted to match conv2 output channels\n",
    "        x = nn.functional.relu(self.fc1(x))\n",
    "        x = nn.functional.softmax(self.fc2(x), dim=1)\n",
    "        return x\n"
   ]
  },
  {
   "cell_type": "code",
   "execution_count": 117,
   "metadata": {},
   "outputs": [
    {
     "name": "stdout",
     "output_type": "stream",
     "text": [
      "CNN(\n",
      "  (conv1): Conv2d(1, 32, kernel_size=(3, 3), stride=(1, 1), padding=(1, 1))\n",
      "  (conv2): Conv2d(32, 64, kernel_size=(3, 3), stride=(1, 1), padding=(1, 1))\n",
      "  (fc1): Linear(in_features=1048576, out_features=128, bias=True)\n",
      "  (fc2): Linear(in_features=128, out_features=2, bias=True)\n",
      ")\n"
     ]
    }
   ],
   "source": [
    "print(CNN())"
   ]
  },
  {
   "cell_type": "code",
   "execution_count": 118,
   "metadata": {},
   "outputs": [
    {
     "name": "stderr",
     "output_type": "stream",
     "text": [
      "Epoch 1/50:   0%|          | 0/324 [00:00<?, ?it/s]/var/folders/pc/5jkxyq3s4xb26zff0_pshj400000gn/T/ipykernel_6035/3696479046.py:29: UserWarning: To copy construct from a tensor, it is recommended to use sourceTensor.clone().detach() or sourceTensor.clone().detach().requires_grad_(True), rather than torch.tensor(sourceTensor).\n",
      "  inputs, label = X_train[idx].unsqueeze(0), torch.tensor(y_train[idx]).unsqueeze(0)\n",
      "Epoch 1/50: 100%|██████████| 324/324 [02:30<00:00,  2.15it/s, Train Loss=0.876, Train Acc=43.5]\n",
      "Validation 1/50:   0%|          | 0/36 [00:00<?, ?it/s]/var/folders/pc/5jkxyq3s4xb26zff0_pshj400000gn/T/ipykernel_6035/3696479046.py:63: UserWarning: To copy construct from a tensor, it is recommended to use sourceTensor.clone().detach() or sourceTensor.clone().detach().requires_grad_(True), rather than torch.tensor(sourceTensor).\n",
      "  inputs, label = X_val[idx].unsqueeze(0), torch.tensor(y_val[idx]).unsqueeze(0)\n",
      "Validation 1/50: 100%|██████████| 36/36 [00:04<00:00,  8.98it/s, Val Loss=0.869, Val Acc=44.4]\n"
     ]
    },
    {
     "name": "stdout",
     "output_type": "stream",
     "text": [
      "Epoch 1/50, Train Loss: 0.8763, Val Loss: 0.8688, Train Acc: 43.52%, Val Acc: 44.44%\n"
     ]
    },
    {
     "name": "stderr",
     "output_type": "stream",
     "text": [
      "Epoch 2/50: 100%|██████████| 324/324 [02:37<00:00,  2.06it/s, Train Loss=0.875, Train Acc=43.8]\n",
      "Validation 2/50: 100%|██████████| 36/36 [00:02<00:00, 12.68it/s, Val Loss=0.869, Val Acc=44.4]\n"
     ]
    },
    {
     "name": "stdout",
     "output_type": "stream",
     "text": [
      "Epoch 2/50, Train Loss: 0.8750, Val Loss: 0.8688, Train Acc: 43.83%, Val Acc: 44.44%\n"
     ]
    },
    {
     "name": "stderr",
     "output_type": "stream",
     "text": [
      "Epoch 3/50: 100%|██████████| 324/324 [02:19<00:00,  2.32it/s, Train Loss=0.875, Train Acc=43.8]\n",
      "Validation 3/50: 100%|██████████| 36/36 [00:03<00:00, 11.88it/s, Val Loss=0.869, Val Acc=44.4]\n"
     ]
    },
    {
     "name": "stdout",
     "output_type": "stream",
     "text": [
      "Epoch 3/50, Train Loss: 0.8750, Val Loss: 0.8688, Train Acc: 43.83%, Val Acc: 44.44%\n"
     ]
    },
    {
     "name": "stderr",
     "output_type": "stream",
     "text": [
      "Epoch 4/50: 100%|██████████| 324/324 [02:41<00:00,  2.01it/s, Train Loss=0.875, Train Acc=43.8]\n",
      "Validation 4/50: 100%|██████████| 36/36 [00:09<00:00,  3.90it/s, Val Loss=0.869, Val Acc=44.4]"
     ]
    },
    {
     "name": "stdout",
     "output_type": "stream",
     "text": [
      "Epoch 4/50, Train Loss: 0.8750, Val Loss: 0.8688, Train Acc: 43.83%, Val Acc: 44.44%\n",
      "Early stopping after epoch 4 as validation loss did not improve.\n",
      "Training finished.\n"
     ]
    },
    {
     "name": "stderr",
     "output_type": "stream",
     "text": [
      "\n"
     ]
    }
   ],
   "source": [
    "from tqdm import tqdm  # Import tqdm\n",
    "model = CNN()\n",
    "optimizer = optim.Adam(model.parameters())\n",
    "criterion = nn.CrossEntropyLoss()\n",
    "\n",
    "# Training parameters\n",
    "epochs = 50\n",
    "patience = 3\n",
    "best_val_loss = float('inf')\n",
    "early_stop_counter = 0\n",
    "\n",
    "# Lists to store metrics\n",
    "train_losses = []\n",
    "val_losses = []\n",
    "train_accuracies = []\n",
    "val_accuracies = []\n",
    "\n",
    "# Training loop with tqdm\n",
    "for epoch in range(epochs):\n",
    "    # Train mode\n",
    "    model.train()\n",
    "    running_train_loss = 0.0\n",
    "    correct_train = 0\n",
    "    total_train = 0\n",
    "    \n",
    "    # Iterate over training data directly\n",
    "    tqdm_train = tqdm(range(len(X_train)), desc=f'Epoch {epoch + 1}/{epochs}', leave=True)\n",
    "    for idx in tqdm_train:\n",
    "        inputs, label = X_train[idx].unsqueeze(0), torch.tensor(y_train[idx]).unsqueeze(0)\n",
    "        \n",
    "        optimizer.zero_grad()\n",
    "        outputs = model(inputs)\n",
    "        loss = criterion(outputs, label)\n",
    "        loss.backward()\n",
    "        optimizer.step()\n",
    "        \n",
    "        running_train_loss += loss.item()\n",
    "        _, predicted = torch.max(outputs.data, 1)\n",
    "        total_train += 1\n",
    "        correct_train += (predicted == label).sum().item()\n",
    "        \n",
    "        # Update tqdm description with current loss and accuracy\n",
    "        tqdm_train.set_postfix({\n",
    "            'Train Loss': running_train_loss / total_train,\n",
    "            'Train Acc': 100 * correct_train / total_train\n",
    "        })\n",
    "    \n",
    "    epoch_train_loss = running_train_loss / len(X_train)\n",
    "    train_acc = 100 * correct_train / len(X_train)\n",
    "    train_losses.append(epoch_train_loss)\n",
    "    train_accuracies.append(train_acc)\n",
    "    \n",
    "    # Validation mode\n",
    "    model.eval()\n",
    "    running_val_loss = 0.0\n",
    "    correct_val = 0\n",
    "    total_val = 0\n",
    "    \n",
    "    # Iterate over validation data directly\n",
    "    tqdm_val = tqdm(range(len(X_val)), desc=f'Validation {epoch + 1}/{epochs}', leave=True)\n",
    "    with torch.no_grad():\n",
    "        for idx in tqdm_val:\n",
    "            inputs, label = X_val[idx].unsqueeze(0), torch.tensor(y_val[idx]).unsqueeze(0)\n",
    "            \n",
    "            outputs = model(inputs)\n",
    "            loss = criterion(outputs, label)\n",
    "            \n",
    "            running_val_loss += loss.item()\n",
    "            _, predicted = torch.max(outputs.data, 1)\n",
    "            total_val += 1\n",
    "            correct_val += (predicted == label).sum().item()\n",
    "            \n",
    "            # Update tqdm description with current loss and accuracy\n",
    "            tqdm_val.set_postfix({\n",
    "                'Val Loss': running_val_loss / total_val,\n",
    "                'Val Acc': 100 * correct_val / total_val\n",
    "            })\n",
    "    \n",
    "    epoch_val_loss = running_val_loss / len(X_val)\n",
    "    val_acc = 100 * correct_val / len(X_val)\n",
    "    val_losses.append(epoch_val_loss)\n",
    "    val_accuracies.append(val_acc)\n",
    "    \n",
    "    print(f'Epoch {epoch + 1}/{epochs}, Train Loss: {epoch_train_loss:.4f}, Val Loss: {epoch_val_loss:.4f}, Train Acc: {train_acc:.2f}%, Val Acc: {val_acc:.2f}%')\n",
    "    \n",
    "    # Early stopping\n",
    "    if epoch_val_loss < best_val_loss:\n",
    "        best_val_loss = epoch_val_loss\n",
    "        early_stop_counter = 0\n",
    "    else:\n",
    "        early_stop_counter += 1\n",
    "        if early_stop_counter >= patience:\n",
    "            print(f'Early stopping after epoch {epoch + 1} as validation loss did not improve.')\n",
    "            break\n",
    "\n",
    "print('Training finished.')"
   ]
  },
  {
   "cell_type": "code",
   "execution_count": 31,
   "metadata": {},
   "outputs": [
    {
     "data": {
      "image/png": "[encoded data removed]",
      "text/plain": [
       "<Figure size 1200x400 with 2 Axes>"
      ]
     },
     "metadata": {},
     "output_type": "display_data"
    },
    {
     "name": "stdout",
     "output_type": "stream",
     "text": [
      "\u001b[1m1/1\u001b[0m \u001b[32m━━━━━━━━━━━━━━━━━━━━\u001b[0m\u001b[37m\u001b[0m \u001b[1m0s\u001b[0m 127ms/step - accuracy: 0.6190 - loss: 10.4789\n",
      "Test accuracy: 0.6190476417541504\n",
      "Test loss: 10.478888511657715\n"
     ]
    }
   ],
   "source": [
    "import matplotlib.pyplot as plt\n",
    "\n",
    "plt.figure(figsize=(12, 4))\n",
    "plt.subplot(1, 2, 1)\n",
    "plt.plot(history.history['accuracy'])\n",
    "plt.plot(history.history['val_accuracy'])\n",
    "plt.title('Model accuracy')\n",
    "plt.ylabel('Accuracy')\n",
    "plt.xlabel('Epoch')\n",
    "plt.legend(['Train', 'Validation'], loc='upper left')\n",
    "\n",
    "plt.subplot(1, 2, 2)\n",
    "plt.plot(history.history['loss'])\n",
    "plt.plot(history.history['val_loss'])\n",
    "plt.title('Model loss')\n",
    "plt.ylabel('Loss')\n",
    "plt.xlabel('Epoch')\n",
    "plt.legend(['Train', 'Validation'], loc='upper left')\n",
    "\n",
    "plt.show()\n",
    "\n",
    "test_loss, test_accuracy = model.evaluate(X_test, y_test)\n",
    "print(f'Test accuracy: {test_accuracy}')\n",
    "print(f'Test loss: {test_loss}')"
   ]
  },
  {
   "cell_type": "code",
   "execution_count": 32,
   "metadata": {},
   "outputs": [
    {
     "name": "stderr",
     "output_type": "stream",
     "text": [
      "WARNING:absl:You are saving your model as an HDF5 file via `model.save()` or `keras.saving.save_model(model)`. This file format is considered legacy. We recommend using instead the native Keras format, e.g. `model.save('my_model.keras')` or `keras.saving.save_model(model, 'my_model.keras')`. \n"
     ]
    }
   ],
   "source": [
    "model.save('model/trained_model/saved_model.h5')"
   ]
  },
  {
   "cell_type": "code",
   "execution_count": null,
   "metadata": {},
   "outputs": [],
   "source": []
  },
  {
   "cell_type": "code",
   "execution_count": null,
   "metadata": {},
   "outputs": [],
   "source": []
  },
  {
   "cell_type": "code",
   "execution_count": null,
   "metadata": {},
   "outputs": [],
   "source": []
  },
  {
   "cell_type": "code",
   "execution_count": null,
   "metadata": {},
   "outputs": [],
   "source": []
  }
 ],
 "metadata": {
  "kernelspec": {
   "display_name": "alert-drive",
   "language": "python",
   "name": "python3"
  },
  "language_info": {
   "codemirror_mode": {
    "name": "ipython",
    "version": 3
   },
   "file_extension": ".py",
   "mimetype": "text/x-python",
   "name": "python",
   "nbconvert_exporter": "python",
   "pygments_lexer": "ipython3",
   "version": "3.10.14"
  }
 },
 "nbformat": 4,
 "nbformat_minor": 2
}
